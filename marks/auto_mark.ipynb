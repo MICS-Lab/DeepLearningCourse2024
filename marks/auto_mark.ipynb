{
 "cells": [
  {
   "cell_type": "code",
   "execution_count": 1,
   "metadata": {},
   "outputs": [],
   "source": [
    "import pandas as pd\n",
    "import os"
   ]
  },
  {
   "cell_type": "code",
   "execution_count": 2,
   "metadata": {},
   "outputs": [],
   "source": [
    "glasses_df = pd.read_csv('2024-binary-classification-glasses-no-glasses.csv')\n",
    "decimal_df = pd.read_csv('2024-decimal-classification-mics-mnist.csv')\n",
    "cartoon_df = pd.read_csv('2024-cartoon-to-image.csv')\n",
    "upscale_df = pd.read_csv('2024-upscale.csv')\n",
    "function1_df = pd.read_csv('2024-fitting-a-1d-function-with-deep-learning.csv')\n",
    "function3_df = pd.read_csv('2024-fitting-a-3d-3d-function-with-deep-learning.csv')"
   ]
  },
  {
   "cell_type": "code",
   "execution_count": 3,
   "metadata": {},
   "outputs": [],
   "source": [
    "from Levenshtein import distance\n",
    "from unidecode import unidecode\n"
   ]
  },
  {
   "cell_type": "code",
   "execution_count": 4,
   "metadata": {},
   "outputs": [
    {
     "data": {
      "text/plain": [
       "(2, 'e')"
      ]
     },
     "execution_count": 4,
     "metadata": {},
     "output_type": "execute_result"
    }
   ],
   "source": [
    "distance(\"lewenstein\", \"levenshtein\"), unidecode(\"é\")"
   ]
  },
  {
   "cell_type": "code",
   "execution_count": 5,
   "metadata": {},
   "outputs": [],
   "source": [
    "with open('names.txt', encoding='UTF8') as f:\n",
    "    names = f.read()\n",
    "names = names.split(\"\\n\")\n",
    "names = [unidecode(name).lower() for name in names]"
   ]
  },
  {
   "cell_type": "code",
   "execution_count": 6,
   "metadata": {},
   "outputs": [],
   "source": [
    "# remove row with \"submission\" in the team name\n",
    "glasses_df = glasses_df[~glasses_df['TeamName'].str.contains(\"submission\")]\n",
    "decimal_df = decimal_df[~decimal_df['TeamName'].str.contains(\"submission\")]\n",
    "cartoon_df = cartoon_df[~cartoon_df['TeamName'].str.contains(\"submission\")]\n",
    "upscale_df = upscale_df[~upscale_df['TeamName'].str.contains(\"submission\")]\n",
    "function1_df = function1_df[~function1_df['TeamName'].str.contains(\"submission\")]\n",
    "function3_df = function3_df[~function3_df['TeamName'].str.contains(\"submission\")]"
   ]
  },
  {
   "cell_type": "code",
   "execution_count": 7,
   "metadata": {},
   "outputs": [],
   "source": [
    "def find_closest(name, names):\n",
    "    distances = [min(distance(unidecode(name).replace('_', ' '), name_),\\\n",
    "                     distance(unidecode(name).replace('_', ' '), ' '.join(name_.split()[::-1])))\\\n",
    "                          for name_ in names]\n",
    "    return names[distances.index(min(distances))]\n",
    "\n",
    "def find_closest_df(df, names):\n",
    "    df['name'] = df['TeamName'].apply(lambda x: find_closest(x, names))\n",
    "    return df\n",
    "\n",
    "glasses_df = find_closest_df(glasses_df, names)\n",
    "decimal_df = find_closest_df(decimal_df, names)\n",
    "cartoon_df = find_closest_df(cartoon_df, names)\n",
    "upscale_df = find_closest_df(upscale_df, names)\n",
    "function1_df = find_closest_df(function1_df, names)\n",
    "function3_df = find_closest_df(function3_df, names)\n"
   ]
  },
  {
   "cell_type": "code",
   "execution_count": 8,
   "metadata": {},
   "outputs": [],
   "source": [
    "# calculate the percentil rank\n",
    "glasses_df['Percentil'] = 1-((glasses_df['Rank']-1)/glasses_df.shape[0])\n",
    "decimal_df['Percentil'] = 1-((decimal_df['Rank']-1)/decimal_df.shape[0])\n",
    "cartoon_df['Percentil'] = 1-((cartoon_df['Rank']-1)/cartoon_df.shape[0])\n",
    "upscale_df['Percentil'] = 1-((upscale_df['Rank']-1)/upscale_df.shape[0])\n",
    "function1_df['Percentil'] = 1-((function1_df['Rank']-1)/function1_df.shape[0])\n",
    "function3_df['Percentil'] = 1-((function3_df['Rank']-1)/function3_df.shape[0])"
   ]
  },
  {
   "cell_type": "code",
   "execution_count": 9,
   "metadata": {},
   "outputs": [
    {
     "data": {
      "text/html": [
       "<div>\n",
       "<style scoped>\n",
       "    .dataframe tbody tr th:only-of-type {\n",
       "        vertical-align: middle;\n",
       "    }\n",
       "\n",
       "    .dataframe tbody tr th {\n",
       "        vertical-align: top;\n",
       "    }\n",
       "\n",
       "    .dataframe thead th {\n",
       "        text-align: right;\n",
       "    }\n",
       "</style>\n",
       "<table border=\"1\" class=\"dataframe\">\n",
       "  <thead>\n",
       "    <tr style=\"text-align: right;\">\n",
       "      <th></th>\n",
       "      <th>Rank</th>\n",
       "      <th>TeamId</th>\n",
       "      <th>TeamName</th>\n",
       "      <th>LastSubmissionDate</th>\n",
       "      <th>Score</th>\n",
       "      <th>SubmissionCount</th>\n",
       "      <th>TeamMemberUserNames</th>\n",
       "      <th>name</th>\n",
       "      <th>Percentil</th>\n",
       "    </tr>\n",
       "  </thead>\n",
       "  <tbody>\n",
       "    <tr>\n",
       "      <th>2</th>\n",
       "      <td>3</td>\n",
       "      <td>11798408</td>\n",
       "      <td>AbdallahLamane</td>\n",
       "      <td>2024-03-18 21:28:34</td>\n",
       "      <td>0.99466</td>\n",
       "      <td>2</td>\n",
       "      <td>abdallahlamane</td>\n",
       "      <td>abdallah lamane</td>\n",
       "      <td>0.875</td>\n",
       "    </tr>\n",
       "  </tbody>\n",
       "</table>\n",
       "</div>"
      ],
      "text/plain": [
       "   Rank    TeamId        TeamName   LastSubmissionDate    Score  \\\n",
       "2     3  11798408  AbdallahLamane  2024-03-18 21:28:34  0.99466   \n",
       "\n",
       "   SubmissionCount TeamMemberUserNames             name  Percentil  \n",
       "2                2      abdallahlamane  abdallah lamane      0.875  "
      ]
     },
     "execution_count": 9,
     "metadata": {},
     "output_type": "execute_result"
    }
   ],
   "source": [
    "def get_line(name, df):\n",
    "    return df[df['name'] == name]\n",
    "\n",
    "get_line(names[0], glasses_df)"
   ]
  },
  {
   "cell_type": "code",
   "execution_count": 10,
   "metadata": {},
   "outputs": [
    {
     "data": {
      "text/plain": [
       "(0.9, 0)"
      ]
     },
     "execution_count": 10,
     "metadata": {},
     "output_type": "execute_result"
    }
   ],
   "source": [
    "def get_mark1(name):\n",
    "    global function1_df, function3_df\n",
    "    try:\n",
    "        function1_score = float(get_line(name, function1_df).Score.iloc[0])\n",
    "        function1_rank = float(get_line(name, function1_df).Rank.iloc[0])\n",
    "        if function1_score < 1:\n",
    "            function1_mark = 0.5\n",
    "        if function1_score < 0.1:\n",
    "            function1_mark = 0.7\n",
    "        if function1_score < 0.01:\n",
    "            function1_mark = 0.9\n",
    "        if function1_rank <= 10:\n",
    "            function1_mark = 1\n",
    "    except:\n",
    "        function1_mark = 0\n",
    "    try:\n",
    "        function3_score = float(get_line(name, function3_df).Score.iloc[0])\n",
    "        function3_mark = 0\n",
    "        if function3_score < 10_000_000 :\n",
    "            function3_mark = 0.5\n",
    "        if function3_score < 5_000_000 :\n",
    "            function3_mark = 0.6\n",
    "        if function3_score < 1_000_000 :\n",
    "            function3_mark = 0.7\n",
    "        if function3_score < 500_000 :\n",
    "            function3_mark = 0.8\n",
    "        if function3_score < 100_000 :\n",
    "            function3_mark = 0.9\n",
    "        if function3_score < 50_000:\n",
    "            function3_mark = 1\n",
    "    except:\n",
    "        function3_mark = 0\n",
    "    return function1_mark, function3_mark\n",
    "\n",
    "get_mark1(names[0])"
   ]
  },
  {
   "cell_type": "code",
   "execution_count": 11,
   "metadata": {},
   "outputs": [
    {
     "data": {
      "text/plain": [
       "(0.9, 0)"
      ]
     },
     "execution_count": 11,
     "metadata": {},
     "output_type": "execute_result"
    }
   ],
   "source": [
    "def get_mark2(name):\n",
    "    global glasses_df, decimal_df\n",
    "    try:\n",
    "        glass_mark = max(float(get_line(name, glasses_df).Score.iloc[0]), \\\n",
    "                         float(get_line(name, glasses_df).Percentil.iloc[0]))\n",
    "    except:\n",
    "        glass_mark = 0\n",
    "\n",
    "    try:\n",
    "        decimal_mark = max(float(get_line(name, decimal_df).Score.iloc[0]), \\\n",
    "                           float(get_line(name, decimal_df).Percentil.iloc[0]))\n",
    "    except:\n",
    "        decimal_mark = 0\n",
    "    return glass_mark, decimal_mark\n",
    "\n",
    "get_mark1(names[0])"
   ]
  },
  {
   "cell_type": "code",
   "execution_count": 12,
   "metadata": {},
   "outputs": [
    {
     "data": {
      "text/plain": [
       "(1, 0)"
      ]
     },
     "execution_count": 12,
     "metadata": {},
     "output_type": "execute_result"
    }
   ],
   "source": [
    "def get_mark3(name):\n",
    "    global upscale_df, cartoon_df\n",
    "    try:\n",
    "        upscale_score = float(get_line(name, upscale_df).Score.iloc[0])\n",
    "        upscale_rank = float(get_line(name, upscale_df).Rank.iloc[0])\n",
    "        upscale_mark = 0\n",
    "        if upscale_score < 15.80364:\n",
    "            upscale_mark = 1\n",
    "    except:\n",
    "        upscale_mark = 0\n",
    "    try:\n",
    "        cartoon_score = float(get_line(name, cartoon_df).Score.iloc[0])\n",
    "        upscale_rank = float(get_line(name, upscale_df).Rank.iloc[0])\n",
    "        cartoon_mark = 0\n",
    "        if cartoon_score < 44.85942 :\n",
    "            cartoon_mark = 0.5\n",
    "        if upscale_rank <= 20 :\n",
    "            cartoon_mark = 0.6\n",
    "        if upscale_rank <= 15 :\n",
    "            cartoon_mark = 0.7\n",
    "        if upscale_rank <= 10 :\n",
    "            cartoon_mark = 0.8\n",
    "        if upscale_rank <= 5 :\n",
    "            cartoon_mark = 1\n",
    "    except:\n",
    "        cartoon_mark = 0\n",
    "    return upscale_mark, cartoon_mark\n",
    "\n",
    "get_mark3(names[0])"
   ]
  },
  {
   "cell_type": "code",
   "execution_count": 13,
   "metadata": {},
   "outputs": [],
   "source": [
    "k1 = []\n",
    "k2 = []\n",
    "k3 = []\n",
    "for name in names:\n",
    "    k1.append(max(get_mark1(name)))\n",
    "    k2.append(max(get_mark2(name)))\n",
    "    k3.append(max(get_mark3(name)))\n",
    "\n",
    "# make df from k1, k2, k3\n",
    "# df = pd.DataFrame({'name': names, 'k1': k1, 'k2': k2, 'k3': k3})\n",
    "df = pd.DataFrame({'k1': k1, 'k2': k2, 'k3': k3})\n",
    "df.to_csv('final-grades.csv', index=False)"
   ]
  }
 ],
 "metadata": {
  "kernelspec": {
   "display_name": "Python 3",
   "language": "python",
   "name": "python3"
  },
  "language_info": {
   "codemirror_mode": {
    "name": "ipython",
    "version": 3
   },
   "file_extension": ".py",
   "mimetype": "text/x-python",
   "name": "python",
   "nbconvert_exporter": "python",
   "pygments_lexer": "ipython3",
   "version": "3.11.4"
  }
 },
 "nbformat": 4,
 "nbformat_minor": 2
}
