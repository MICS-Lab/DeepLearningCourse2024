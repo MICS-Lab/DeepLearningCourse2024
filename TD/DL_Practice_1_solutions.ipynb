{
 "cells": [
  {
   "cell_type": "markdown",
   "metadata": {
    "id": "ovDJUER3rFK4"
   },
   "source": [
    "# Manual Implementation of Deep Learning - TD 1"
   ]
  },
  {
   "cell_type": "markdown",
   "metadata": {
    "id": "wdmJfTThvBnc"
   },
   "source": [
    "[Use numpy for all questions]"
   ]
  },
  {
   "cell_type": "code",
   "execution_count": 26,
   "metadata": {
    "id": "R9k-Z90ivZfW"
   },
   "outputs": [],
   "source": [
    "import numpy as np\n",
    "import matplotlib.pyplot as plt"
   ]
  },
  {
   "cell_type": "markdown",
   "metadata": {
    "id": "zBCErfllsUwJ"
   },
   "source": [
    "## Linear Regression\n",
    "**We will do a linear regression using backpropagartion.**\n",
    "*Of course, there is an analyctical solution to this problem, but the techniques used can be generalized to complex models (like actual neural networks), for which we do not have an analyctical solution to compute the optimal weights.* We forget about activation functions for now because we do not need non-linearity (we are trying to fit a linear function!)."
   ]
  },
  {
   "cell_type": "markdown",
   "metadata": {
    "id": "U3kDEQAQrM0n"
   },
   "source": [
    "Create $N \\in \\mathbb{N}$ points of data $x_i, 0 \\leq i < N$ with $x_i \\in [0,1)$ and associated (noised) output $y_i = a*x_i+b+\\epsilon_i$ with $\\epsilon_i \\approx \\mathcal{N}(0,0.01)$. Use the function `np.random.randn`.\n",
    "\n",
    "Use $a=2$, $b=1$ & $N=100$"
   ]
  },
  {
   "cell_type": "code",
   "execution_count": 27,
   "metadata": {
    "id": "fJl43jGfqttg"
   },
   "outputs": [],
   "source": [
    "# Data Generation\n",
    "np.random.seed(42)\n",
    "xs = np.random.rand(100, 1)\n",
    "ys = 2 * xs + 1 + .1 * np.random.randn(100, 1)"
   ]
  },
  {
   "cell_type": "markdown",
   "metadata": {
    "id": "QLRmzkIs0Xuz"
   },
   "source": [
    "Plot the dots to check it makes sense to use a linear model"
   ]
  },
  {
   "cell_type": "code",
   "execution_count": 28,
   "metadata": {
    "colab": {
     "base_uri": "https://localhost:8080/",
     "height": 265
    },
    "id": "VH2DcGt9vRKB",
    "outputId": "e59175e1-8991-4cc0-b150-8ed9c3e984f9"
   },
   "outputs": [
    {
     "data": {
      "image/png": "[encoded data removed]",
      "text/plain": [
       "<Figure size 640x480 with 1 Axes>"
      ]
     },
     "metadata": {},
     "output_type": "display_data"
    }
   ],
   "source": [
    "plt.plot(xs, ys, '.')\n",
    "plt.show()"
   ]
  },
  {
   "cell_type": "markdown",
   "metadata": {
    "id": "knMLtSZJvTs4"
   },
   "source": [
    "Initialize parameters $a$ and $b$ randomly (this is our first guess of a and b, obviously wrong, but we need to initialize them to start the training converging to the right values)."
   ]
  },
  {
   "cell_type": "code",
   "execution_count": 29,
   "metadata": {
    "colab": {
     "base_uri": "https://localhost:8080/"
    },
    "id": "nM7M1w1Hvqoi",
    "outputId": "92afc24b-7510-4679-9258-0fd2b1966b0d"
   },
   "outputs": [
    {
     "data": {
      "text/plain": [
       "(array([0.49671415]), array([-0.1382643]))"
      ]
     },
     "execution_count": 29,
     "metadata": {},
     "output_type": "execute_result"
    }
   ],
   "source": [
    "np.random.seed(42)\n",
    "a = np.random.randn(1)\n",
    "b = np.random.randn(1)\n",
    "a,b"
   ]
  },
  {
   "cell_type": "markdown",
   "metadata": {
    "id": "Cu3fnwJkwTFZ"
   },
   "source": [
    "Calculate your predictions $\\hat{y} = a * x_{train} +b$"
   ]
  },
  {
   "cell_type": "code",
   "execution_count": 30,
   "metadata": {
    "id": "HOV76bZvvzIF"
   },
   "outputs": [
    {
     "data": {
      "text/plain": [
       "array([[ 0.04777508],\n",
       "       [ 0.33396895],\n",
       "       [ 0.22532745],\n",
       "       [ 0.15909784],\n",
       "       [-0.06076763],\n",
       "       [-0.06077962],\n",
       "       [-0.10941335],\n",
       "       [ 0.29197765],\n",
       "       [ 0.16031803],\n",
       "       [ 0.21344537],\n",
       "       [-0.12803969],\n",
       "       [ 0.34350365],\n",
       "       [ 0.27522174],\n",
       "       [-0.03279246],\n",
       "       [-0.04794927],\n",
       "       [-0.04716469],\n",
       "       [ 0.01285713],\n",
       "       [ 0.12238965],\n",
       "       [ 0.0762889 ],\n",
       "       [ 0.00639333],\n",
       "       [ 0.16565169],\n",
       "       [-0.06897573],\n",
       "       [ 0.00684808],\n",
       "       [ 0.04371281],\n",
       "       [ 0.08827211],\n",
       "       [ 0.25174371],\n",
       "       [-0.03908351],\n",
       "       [ 0.11716322],\n",
       "       [ 0.1559964 ],\n",
       "       [-0.11519172],\n",
       "       [ 0.16351183],\n",
       "       [-0.05356256],\n",
       "       [-0.10595225],\n",
       "       [ 0.33306057],\n",
       "       [ 0.3413788 ],\n",
       "       [ 0.2632781 ],\n",
       "       [ 0.01304167],\n",
       "       [-0.08974918],\n",
       "       [ 0.20160393],\n",
       "       [ 0.08036567],\n",
       "       [-0.07764618],\n",
       "       [ 0.10769708],\n",
       "       [-0.12118304],\n",
       "       [ 0.31340801],\n",
       "       [-0.00972462],\n",
       "       [ 0.19081989],\n",
       "       [ 0.016567  ],\n",
       "       [ 0.12006085],\n",
       "       [ 0.13329443],\n",
       "       [-0.04644448],\n",
       "       [ 0.34334211],\n",
       "       [ 0.24675514],\n",
       "       [ 0.32839812],\n",
       "       [ 0.30620911],\n",
       "       [ 0.15872108],\n",
       "       [ 0.31964368],\n",
       "       [-0.09430882],\n",
       "       [-0.04091684],\n",
       "       [-0.11579927],\n",
       "       [ 0.02333188],\n",
       "       [ 0.05479721],\n",
       "       [-0.0034814 ],\n",
       "       [ 0.27338135],\n",
       "       [ 0.03894013],\n",
       "       [ 0.00127985],\n",
       "       [ 0.13130052],\n",
       "       [-0.06826524],\n",
       "       [ 0.26019829],\n",
       "       [-0.10123394],\n",
       "       [ 0.35193641],\n",
       "       [ 0.24532061],\n",
       "       [-0.03955941],\n",
       "       [-0.13552139],\n",
       "       [ 0.26678693],\n",
       "       [ 0.21284175],\n",
       "       [ 0.22384388],\n",
       "       [ 0.2448366 ],\n",
       "       [-0.10148527],\n",
       "       [ 0.0397907 ],\n",
       "       [-0.0807105 ],\n",
       "       [ 0.29045139],\n",
       "       [ 0.1713367 ],\n",
       "       [ 0.02609743],\n",
       "       [-0.10669397],\n",
       "       [ 0.01620502],\n",
       "       [ 0.02325886],\n",
       "       [ 0.22414141],\n",
       "       [ 0.17841952],\n",
       "       [ 0.30242682],\n",
       "       [ 0.09629154],\n",
       "       [-0.07886015],\n",
       "       [ 0.21601448],\n",
       "       [ 0.2396284 ],\n",
       "       [ 0.14053003],\n",
       "       [ 0.24468601],\n",
       "       [ 0.10701096],\n",
       "       [ 0.12138449],\n",
       "       [ 0.07410137],\n",
       "       [-0.12563826],\n",
       "       [-0.0846731 ]])"
      ]
     },
     "execution_count": 30,
     "metadata": {},
     "output_type": "execute_result"
    }
   ],
   "source": [
    "yhat = a * xs + b\n",
    "yhat"
   ]
  },
  {
   "cell_type": "markdown",
   "metadata": {
    "id": "IioTqYCYvqFK"
   },
   "source": [
    "Calculate the error $err = \\hat{y} - y_{train}$ and the MSE loss defined as:\n",
    "\n",
    "$loss = \\frac{err^2}{N}$ (dividing by $N$ is not actually necessary)"
   ]
  },
  {
   "cell_type": "code",
   "execution_count": 31,
   "metadata": {
    "id": "t_U-eMawz3I8"
   },
   "outputs": [],
   "source": [
    "error = (yhat - ys)\n",
    "loss = (error ** 2).mean()"
   ]
  },
  {
   "cell_type": "markdown",
   "metadata": {
    "id": "PY7QH55Az2zN"
   },
   "source": [
    "Compute the gradients for both the $a$ and $b$ parameters"
   ]
  },
  {
   "cell_type": "code",
   "execution_count": 32,
   "metadata": {
    "id": "JVcVSdWw1C62"
   },
   "outputs": [
    {
     "data": {
      "text/plain": [
       "(-1.9903049434022801, -3.689944644403137)"
      ]
     },
     "execution_count": 32,
     "metadata": {},
     "output_type": "execute_result"
    }
   ],
   "source": [
    "a_grad = 2 * (xs * error).mean()\n",
    "b_grad = 2 * error.mean()\n",
    "a_grad, b_grad"
   ]
  },
  {
   "cell_type": "markdown",
   "metadata": {
    "id": "FqLpi_Iz1Hbf"
   },
   "source": [
    "Update parameters using gradients and the learning rate `lr = 1e-1`"
   ]
  },
  {
   "cell_type": "code",
   "execution_count": 33,
   "metadata": {
    "colab": {
     "base_uri": "https://localhost:8080/"
    },
    "id": "DRIFn6o_1HQv",
    "outputId": "652fc665-aac8-44a3-81b9-50ba39d3cfb4"
   },
   "outputs": [
    {
     "data": {
      "text/plain": [
       "(array([0.69574465]), array([0.23073016]))"
      ]
     },
     "execution_count": 33,
     "metadata": {},
     "output_type": "execute_result"
    }
   ],
   "source": [
    "lr = 1e-1\n",
    "a = a - lr * a_grad\n",
    "b = b - lr * b_grad\n",
    "a, b"
   ]
  },
  {
   "cell_type": "markdown",
   "metadata": {
    "id": "_V5p13y11mab"
   },
   "source": [
    "Repeat this for $1000$ epochs and plot `loss` as a function of epoch"
   ]
  },
  {
   "cell_type": "code",
   "execution_count": 34,
   "metadata": {
    "colab": {
     "base_uri": "https://localhost:8080/"
    },
    "id": "XOpyKjXt1q-b",
    "outputId": "8e12d497-c616-4869-bc02-4154c7eb67ec"
   },
   "outputs": [
    {
     "data": {
      "text/plain": [
       "(array([1.95402224]), array([1.02150984]))"
      ]
     },
     "execution_count": 34,
     "metadata": {},
     "output_type": "execute_result"
    },
    {
     "data": {
      "image/png": "[encoded data removed]",
      "text/plain": [
       "<Figure size 640x480 with 1 Axes>"
      ]
     },
     "metadata": {},
     "output_type": "display_data"
    }
   ],
   "source": [
    "n_epochs = 1000\n",
    "\n",
    "losses = []\n",
    "for epoch in range(n_epochs):\n",
    "    # compute our model's predicted output\n",
    "    yhat = a * xs + b\n",
    "    \n",
    "    # compute the error\n",
    "    error = (yhat - ys)\n",
    "    # compute the loss (MSE)\n",
    "    loss = (error ** 2).mean()\n",
    "    losses.append(loss)\n",
    "    \n",
    "    # compute gradients for both a and b parameters\n",
    "    a_grad = 2 * (xs * error).mean()\n",
    "    b_grad = 2 * error.mean()\n",
    "    \n",
    "    # update parameters using gradients and the learning rate\n",
    "    a = a - lr * a_grad\n",
    "    b = b - lr * b_grad\n",
    "\n",
    "plt.plot(losses)\n",
    "\n",
    "a,b"
   ]
  },
  {
   "cell_type": "markdown",
   "metadata": {
    "id": "SUchKsJN13AB"
   },
   "source": [
    "Check that we get the same results as our gradient descent with an analytical linear regression (you may use `sklearn.linear_model.LinearRegression`)"
   ]
  },
  {
   "cell_type": "code",
   "execution_count": 35,
   "metadata": {
    "colab": {
     "base_uri": "https://localhost:8080/"
    },
    "id": "UUcdhnb92JHH",
    "outputId": "39d0da1b-af9b-486f-861d-754a2d543aaa"
   },
   "outputs": [
    {
     "data": {
      "text/plain": [
       "(array([1.95402268]), array([1.02150962]))"
      ]
     },
     "execution_count": 35,
     "metadata": {},
     "output_type": "execute_result"
    }
   ],
   "source": [
    "from sklearn.linear_model import LinearRegression\n",
    "linr = LinearRegression()\n",
    "linr.fit(xs, ys)\n",
    "linr.coef_[0], linr.intercept_  # a, b"
   ]
  },
  {
   "cell_type": "markdown",
   "metadata": {
    "id": "Ojpv-bEx27tB"
   },
   "source": [
    "-----"
   ]
  },
  {
   "cell_type": "markdown",
   "metadata": {
    "id": "aCSvgvL85fcb"
   },
   "source": [
    "## $XOR$\n",
    "**We will create a (simple) neural network with 2 layers to fit the $XOR$ function (https://i.imgur.com/yGldTgC.png).**\n",
    "*Of course, this is dumb since the xor function is (much) faster than running a neural network; but the technique can be used to fit complex functions, for which we may not even have an expression.*"
   ]
  },
  {
   "cell_type": "markdown",
   "metadata": {
    "id": "6z0SXBVs28y3"
   },
   "source": [
    "Define the $XOR$ function and create some synthetic training data"
   ]
  },
  {
   "cell_type": "code",
   "execution_count": 36,
   "metadata": {
    "colab": {
     "base_uri": "https://localhost:8080/"
    },
    "id": "zgLvfEg35xMf",
    "outputId": "4ff8ab69-eb6a-48ae-e1f8-517d8e2b0d62"
   },
   "outputs": [
    {
     "name": "stdout",
     "output_type": "stream",
     "text": [
      "[[0 0]\n",
      " [0 1]\n",
      " [1 0]\n",
      " [1 1]]\n",
      "[[0]\n",
      " [1]\n",
      " [1]\n",
      " [0]]\n"
     ]
    }
   ],
   "source": [
    "def xor(x1, x2):\n",
    "    return (x1 and not x2) or (not x1 and x2)\n",
    "\n",
    "X_train = np.array([[0, 0], [0, 1], [1, 0], [1, 1]])\n",
    "y_train = np.array([[xor(x[0], x[1])] for x in X_train])\n",
    "\n",
    "print(X_train)\n",
    "print(y_train)"
   ]
  },
  {
   "cell_type": "markdown",
   "metadata": {
    "id": "klWDhYdY5wzq"
   },
   "source": [
    "Define the model's architecture and some hyperparameters:\n",
    "- $10$ hidden units\n",
    "- learning rate of $0.2$\n",
    "- 10_000 epochs"
   ]
  },
  {
   "cell_type": "code",
   "execution_count": 37,
   "metadata": {
    "id": "XkpOr8fM6KpJ"
   },
   "outputs": [],
   "source": [
    "# number of hidden units\n",
    "n_hidden = 10\n",
    "# learning rate\n",
    "lr = 0.2\n",
    "# number of epochs\n",
    "n_epochs = 10_000"
   ]
  },
  {
   "cell_type": "markdown",
   "metadata": {
    "id": "p17F-_wD6UTC"
   },
   "source": [
    "Define the model's weight matrices and biases.\n",
    "\n",
    "Depending on how you perform the calculation between one layer and the other of the neural network ($l_{n} = Wl_{n-1} + b_n$ or $l_{n} = l_{n-1}W + b_n$), the number of rows and columns of W might be inverted."
   ]
  },
  {
   "cell_type": "code",
   "execution_count": 38,
   "metadata": {
    "colab": {
     "base_uri": "https://localhost:8080/"
    },
    "id": "23X5LaDp6Uzh",
    "outputId": "36bfdacd-18ca-404c-8196-355ab08acf0b"
   },
   "outputs": [
    {
     "name": "stdout",
     "output_type": "stream",
     "text": [
      "W_hidden\n",
      "[[ 0.49671415 -0.1382643 ]\n",
      " [ 0.64768854  1.52302986]\n",
      " [-0.23415337 -0.23413696]\n",
      " [ 1.57921282  0.76743473]\n",
      " [-0.46947439  0.54256004]\n",
      " [-0.46341769 -0.46572975]\n",
      " [ 0.24196227 -1.91328024]\n",
      " [-1.72491783 -0.56228753]\n",
      " [-1.01283112  0.31424733]\n",
      " [-0.90802408 -1.4123037 ]]\n",
      "b_hidden\n",
      "[0. 0. 0. 0. 0. 0. 0. 0. 0. 0.]\n",
      "\n",
      "\n",
      "W_out\n",
      "[[ 1.46564877 -0.2257763   0.0675282  -1.42474819 -0.54438272  0.11092259\n",
      "  -1.15099358  0.37569802 -0.60063869 -0.29169375]]\n",
      "b_out\n",
      "[0.]\n"
     ]
    }
   ],
   "source": [
    "np.random.seed(42)\n",
    "\n",
    "# weight and bias matrices for the hidden layer\n",
    "W_hidden = np.random.randn(n_hidden, 2)  # n_hidden rows and two columns, we \n",
    "# are therefore doing W*x with x a column vector (to match the slides).\n",
    "# The same would obviously work with x*W with x a line vector.\n",
    "b_hidden = np.zeros((n_hidden))  # b_hidden can be considered as a vector, \n",
    "# a matrix would work but isn't necessary. It will have to be transposed\n",
    "# as vectors are line vectors in Python.\n",
    "\n",
    "print(\"W_hidden\")\n",
    "print(W_hidden)\n",
    "print(\"b_hidden\")\n",
    "print(b_hidden)\n",
    "\n",
    "# separator\n",
    "print(\"\\n\")\n",
    "\n",
    "# weight and bias matrices for the output layer\n",
    "W_out = np.random.randn(1, n_hidden)\n",
    "b_out = np.zeros((1))\n",
    "\n",
    "print(\"W_out\")\n",
    "print(W_out)\n",
    "print(\"b_out\")\n",
    "print(b_out)"
   ]
  },
  {
   "cell_type": "markdown",
   "metadata": {
    "id": "ayNLprId6hkp"
   },
   "source": [
    "Define the sigmoid ($\\forall x \\in \\mathbb{R} \\: \\sigma (x) = \\frac{1}{1+e^{-x}}$) activation function and its derivative: \n",
    "\n",
    "$\\forall x \\in \\mathbb{R} \\:, \\sigma'(x) =  \\sigma (x) * (1-\\sigma (x))$."
   ]
  },
  {
   "cell_type": "code",
   "execution_count": 39,
   "metadata": {
    "id": "lQI-ZwOJ6jCE"
   },
   "outputs": [],
   "source": [
    "def sigmoid(x):\n",
    "    return 1 / (1 + np.exp(-x))\n",
    "\n",
    "def sigmoid_derivative(x):\n",
    "    return sigmoid(x) * (1 - sigmoid(x))"
   ]
  },
  {
   "cell_type": "markdown",
   "metadata": {
    "id": "-ZsAoi0c6nUT"
   },
   "source": [
    "Define the forward pass of the model"
   ]
  },
  {
   "cell_type": "code",
   "execution_count": 40,
   "metadata": {
    "id": "n2KyCoYZ6mJV"
   },
   "outputs": [],
   "source": [
    "def forward(X):\n",
    "    # number of samples\n",
    "    n_samples = X.shape[0]  # n_samples is 4 here\n",
    "    # hidden layer activations\n",
    "    hidden_activations = np.zeros((n_samples, W_hidden.shape[0]))\n",
    "    # output layer activations\n",
    "    output_activations = np.zeros((n_samples, W_out.shape[0]))\n",
    "    # loss\n",
    "    loss = 0\n",
    "    for i in range(n_samples):\n",
    "        hidden_activations[i] = sigmoid(np.dot(W_hidden, X[i].T) + b_hidden.T)  # layer 1\n",
    "        output_activations[i] = sigmoid(np.dot(W_out, hidden_activations[i]) + b_out)  # y_hat\n",
    "        loss += (y_train[i] - output_activations[i]) ** 2\n",
    "    return hidden_activations, output_activations, loss\n",
    "\n",
    "    # It's also important to note that this solution is not the most efficient, \n",
    "    # especially when you have a large dataset. But for the sake of clarity,\n",
    "    # it is more understandable if we iterate over the samples in X to calculate\n",
    "    # the hidden_activations and output_activations for each sample."
   ]
  },
  {
   "cell_type": "markdown",
   "metadata": {},
   "source": [
    "Test your model & plot its outputs"
   ]
  },
  {
   "cell_type": "code",
   "execution_count": 41,
   "metadata": {},
   "outputs": [
    {
     "name": "stdout",
     "output_type": "stream",
     "text": [
      "[[0.24801674]\n",
      " [0.23798818]\n",
      " [0.19990334]\n",
      " [0.2247808 ]]\n"
     ]
    },
    {
     "data": {
      "image/png": "[encoded data removed]",
      "text/plain": [
       "<Figure size 640x480 with 2 Axes>"
      ]
     },
     "metadata": {},
     "output_type": "display_data"
    }
   ],
   "source": [
    "_, y_pred, _ = forward(X_train)\n",
    "print(y_pred)\n",
    "plt.imshow(y_pred.reshape(2,2))\n",
    "plt.colorbar()\n",
    "plt.show()"
   ]
  },
  {
   "attachments": {},
   "cell_type": "markdown",
   "metadata": {},
   "source": [
    "Define the backward pass of the mode.\n",
    "\n",
    "To determine how parameters will be updated, we need to compute the partial derivatives of the error with regards to each parameter."
   ]
  },
  {
   "attachments": {},
   "cell_type": "markdown",
   "metadata": {
    "id": "4SRuWEq06upn"
   },
   "source": [
    "Let's compute the derivate with regard to each element of $W_{out}$. $W_{out}$ is a matrix with only one row (because the output is 1D). Which is why we need to compute $\\frac{\\partial e}{\\partial w_{out,1,j}}$ and not $\\frac{\\partial e}{\\partial w_{out,i,j}}$. Let's define the loss we are trying to minimise as $(\\widehat{y} - y_{train})^2$.\n",
    "\n",
    "$\\forall j \\in \\{1, ..., n_{hidden}\\} \\: \\frac{\\partial e}{\\partial w_{out, 1, j}}(\\hat{y}(x, W_1, b_1, W_{out}, b_{out})) = \\frac{\\partial e}{\\partial \\widehat{y}} (\\widehat{y} (x, W_1, b_1, W_{out}, b_{out}))) * \\frac{\\partial \\widehat{y}}{\\partial w_{out, 1, j}} (x, W_1, b_1, W_{out}, b_{out})$\n",
    "\n",
    "$\\forall j \\in \\{1, ..., n_{hidden}\\} \\: \\frac{\\partial e}{\\partial w_{out, 1, j}}(\\hat{y}(x, W_1, b_1, W_{out}, b_{out})) = 2*((\\widehat{y}-y_{train})) * \\frac{\\partial \\sigma(W_{out}l^1 +b_{out})}{\\partial w_{out, 1, j}} (x, W_1, b_1, W_{out}, b_{out})$\n",
    "\n",
    "$\\forall j \\in \\{1, ..., n_{hidden}\\} \\: \\frac{\\partial e}{\\partial w_{out, 1, j}}(\\hat{y}(x, W_1, b_1, W_{out}, b_{out})) = 2*((\\widehat{y}-y_{train})) * \\sigma' (W_{out}l^1 + b_{out}) * \\frac{\\partial W_{out}l^1 +b_{out}}{\\partial w_{out, 1, j}} (x, W_1, b_1, W_{out}, b_{out})$\n",
    "\n",
    "$\\forall j \\in \\{1, ..., n_{hidden}\\} \\: \\frac{\\partial e}{\\partial w_{out, 1, j}}(\\hat{y}(x, W_1, b_1, W_{out}, b_{out})) = 2*((\\widehat{y}-y_{train})) * \\sigma' (W_{out}l^1 + b_{out}) * \\frac{\\partial W_{out}l^1}{\\partial w_{out, 1, j}} (x, W_1, b_1, W_{out}, b_{out})$\n",
    "\n",
    "$\\forall j \\in \\{1, ..., n_{hidden}\\} \\: \\frac{\\partial e}{\\partial w_{out, 1, j}}(\\hat{y}(x, W_1, b_1, W_{out}, b_{out})) = 2*((\\widehat{y}-y_{train})) * \\sigma' (W_{out}l^1 + b_{out}) * l_{j}$\n",
    "\n",
    "Let's compute the derivative with regard to each element of $b_{out}$ (only one, $j = 1$).\n",
    "\n",
    "$\\frac{\\partial e}{\\partial b_{out, 1}}(\\hat{y}(x, W_1, b_1, W_{out}, b_{out})) = \\frac{\\partial e}{\\partial \\widehat{y}} (\\widehat{y} (x, W_1, b_1, W_{out}, b_{out}))) * \\frac{\\partial \\widehat{y}}{\\partial b_{out,1}} (x, W_1, b_1, W_{out}, b_{out})$\n",
    "\n",
    "$\\frac{\\partial e}{\\partial b_{out, 1}}(\\hat{y}(x, W_1, b_1, W_{out}, b_{out})) = 2*((\\widehat{y}-y_{train})) * \\sigma' (W_{out}l^1 + b_{out}) * \\frac{\\partial W_{out}l^1 + b_{out}}{\\partial b_{out, 1}} (x, W_1, b_1, W_{out}, b_{out})$\n",
    "\n",
    "$\\frac{\\partial e}{\\partial b_{out, 1}}(\\hat{y}(x, W_1, b_1, W_{out}, b_{out})) = 2*((\\widehat{y}-y_{train})) * \\sigma' (W_{out}l^1 + b_{out})$\n",
    "\n",
    "Let's compute the derivative with regard to each element of $b_{hidden}$ ($n_{hidden}$ elements).\n",
    "\n",
    "$\\forall j \\in \\{1, ..., n_{hidden}\\} \\: \\frac{\\partial e}{\\partial b_{hidden, j}}(\\hat{y}(x, W_1, b_1, W_{out}, b_{out})) = \\frac{\\partial e}{\\partial \\widehat{y}} (\\widehat{y} (x, W_1, b_1, W_{out}, b_{out}))) * \\frac{\\partial \\widehat{y}}{\\partial b_{hidden,j}} (x, W_1, b_1, W_{out}, b_{out})$\n",
    "\n",
    "$\\forall j \\in \\{1, ..., n_{hidden}\\} \\: \\frac{\\partial e}{\\partial b_{hidden, j}}(\\hat{y}(x, W_1, b_1, W_{out}, b_{out})) = 2*((\\widehat{y}-y_{train})) * \\sigma' (W_{out}l^1 + b_{out}) * \\frac{\\partial W_{out}l^1 + b_{out}}{\\partial b_{hidden, j}} (x, W_1, b_1, W_{out}, b_{out})$\n",
    "\n",
    "$\\forall j \\in \\{1, ..., n_{hidden}\\} \\: \\frac{\\partial e}{\\partial b_{hidden, j}}(\\hat{y}(x, W_1, b_1, W_{out}, b_{out})) = 2*((\\widehat{y}-y_{train})) * \\sigma' (W_{out}l^1 + b_{out}) * \\frac{\\partial W_{out} \\sigma (W_{hidden}x + b_{hidden}) + b_{out}}{\\partial b_{hidden, j}} (x, W_1, b_1, W_{out}, b_{out})$ \n",
    "\n",
    "$\\forall j \\in \\{1, ..., n_{hidden}\\} \\: \\frac{\\partial e}{\\partial b_{hidden, j}}(\\hat{y}(x, W_1, b_1, W_{out}, b_{out})) = 2*((\\widehat{y}-y_{train})) * \\sigma' (W_{out}l^1 + b_{out}) * \\frac{\\partial W_{out} \\sigma (W_{hidden}x + b_{hidden})}{\\partial b_{hidden, j}} (x, W_1, b_1, W_{out}, b_{out})$ \n",
    "\n",
    "$\\forall j \\in \\{1, ..., n_{hidden}\\} \\: \\frac{\\partial e}{\\partial b_{hidden, j}}(\\hat{y}(x, W_1, b_1, W_{out}, b_{out})) = 2*((\\widehat{y}-y_{train})) * \\sigma' (W_{out}l^1 + b_{out}) * W_{out, j} * \\sigma' (W_{hidden}x + b_{hidden})_j$ \n",
    "\n",
    "\n",
    "We will not show the calculations to get the derivates with regards to $W_{hidden}$ but it really is the same (using the chain rule and being very careful).\n"
   ]
  },
  {
   "cell_type": "code",
   "execution_count": 42,
   "metadata": {
    "id": "w206oLTf6vP8"
   },
   "outputs": [],
   "source": [
    "def backward(X, y_train, hidden_activations, output_activations):\n",
    "    # global variables because we are going to change them and we need the\n",
    "    # change to only be done locally\n",
    "    global W_hidden, b_hidden, W_out, b_out\n",
    "\n",
    "    n_samples = X.shape[0]  # n_samples is 4 here\n",
    "    # update weight matrices and biases\n",
    "\n",
    "    for i in range(n_samples):\n",
    "        for j in range(n_hidden):\n",
    "            W_out[0][j] -= lr * 2 * (output_activations[i] - y_train[i]) * sigmoid_derivative(np.dot(W_out, hidden_activations[i]) + b_out) * hidden_activations[i][j]\n",
    "        b_out -= lr * 2 * (output_activations[i] - y_train[i]) * sigmoid_derivative(np.dot(W_out, hidden_activations[i]) + b_out)\n",
    "\n",
    "        for j in range(n_hidden):\n",
    "            for k in range(2):  # because W_hidden is a matrix n_hidden rows, 2 columns\n",
    "                W_hidden[j][k] -= lr * 2 * (output_activations[i] - y_train[i]) * sigmoid_derivative(np.dot(W_out, hidden_activations[i]) + b_out) * W_out[0][j] * sigmoid_derivative(np.dot(W_hidden, X[i].T) + b_hidden.T)[j] * X[i][k]\n",
    "            b_hidden[j] -= lr * 2 * (output_activations[i] - y_train[i]) * sigmoid_derivative(np.dot(W_out, hidden_activations[i]) + b_out) * W_out[0][j] * sigmoid_derivative(np.dot(W_hidden, X[i].T) + b_hidden)[j]"
   ]
  },
  {
   "cell_type": "markdown",
   "metadata": {
    "id": "lQziMSRQ67NP"
   },
   "source": [
    "Performs the forward pass, backward pass, and weight updates for $10,000$ epochs;\n",
    "in addition:\n",
    "- print the loss every $10,000$ epochs\n",
    "- save the losses and plot them in a semilogy"
   ]
  },
  {
   "cell_type": "code",
   "execution_count": 43,
   "metadata": {
    "colab": {
     "base_uri": "https://localhost:8080/",
     "height": 445
    },
    "id": "zW_rM4yZ689f",
    "outputId": "c852e197-7e30-480d-e94f-d23f69518db8"
   },
   "outputs": [
    {
     "name": "stdout",
     "output_type": "stream",
     "text": [
      "Epoch 0: loss = [1.3328554]\n"
     ]
    },
    {
     "name": "stdout",
     "output_type": "stream",
     "text": [
      "Epoch 1000: loss = [0.04057913]\n",
      "Epoch 2000: loss = [0.00924294]\n",
      "Epoch 3000: loss = [0.00467308]\n",
      "Epoch 4000: loss = [0.00301631]\n",
      "Epoch 5000: loss = [0.00218848]\n",
      "Epoch 6000: loss = [0.00170004]\n",
      "Epoch 7000: loss = [0.00138089]\n",
      "Epoch 8000: loss = [0.00115743]\n",
      "Epoch 9000: loss = [0.00099297]\n"
     ]
    },
    {
     "data": {
      "image/png": "[encoded data removed]",
      "text/plain": [
       "<Figure size 640x480 with 1 Axes>"
      ]
     },
     "metadata": {},
     "output_type": "display_data"
    }
   ],
   "source": [
    "losses = np.zeros(n_epochs)\n",
    "for epoch in range(n_epochs):\n",
    "    # train\n",
    "    hidden_activations, output_activations, loss = forward(X_train)\n",
    "    backward(X_train, y_train, hidden_activations, output_activations)\n",
    "    # save & print the loss\n",
    "    losses[epoch] = loss\n",
    "    if epoch % 1000 == 0:\n",
    "        print(f\"Epoch {epoch}: loss = {loss}\")\n",
    "# semilogy of the loss\n",
    "plt.semilogy(losses)\n",
    "plt.show()"
   ]
  },
  {
   "cell_type": "markdown",
   "metadata": {
    "id": "heLtyuTIEAqj"
   },
   "source": [
    "Test your model & plot its outputs"
   ]
  },
  {
   "cell_type": "code",
   "execution_count": 44,
   "metadata": {
    "colab": {
     "base_uri": "https://localhost:8080/",
     "height": 341
    },
    "id": "I_DP1fRd79-q",
    "outputId": "fbaef4bc-7385-44dd-b329-b53fccb5a772"
   },
   "outputs": [
    {
     "name": "stdout",
     "output_type": "stream",
     "text": [
      "[[0.0105986 ]\n",
      " [0.98499283]\n",
      " [0.98525571]\n",
      " [0.01767331]]\n"
     ]
    },
    {
     "data": {
      "image/png": "[encoded data removed]",
      "text/plain": [
       "<Figure size 640x480 with 2 Axes>"
      ]
     },
     "metadata": {},
     "output_type": "display_data"
    }
   ],
   "source": [
    "_, y_pred, _ = forward(X_train)\n",
    "print(y_pred)\n",
    "plt.imshow(y_pred.reshape(2,2))\n",
    "plt.colorbar()\n",
    "plt.show()"
   ]
  },
  {
   "cell_type": "markdown",
   "metadata": {
    "id": "3OHJtSXSF97G"
   },
   "source": [
    "Re-build your model using $ReLU$ activation instead of sigmoid (same number of hidden units, you may need to adjust the learning rate to $0.01$); which activation function converges the fastest?\n",
    "\n",
    "If one activation function converges faster, does that mean it is better? No, to determine which activation function is better you would need to compare the loss on the validation set. And then use an extra test set to announce your unbiased loss. Not really possible here, we only have 4 distinct elements in our dataset. Also, we only tested one learning rate, maybe some other learning rate would have been better for the other activation function."
   ]
  },
  {
   "cell_type": "code",
   "execution_count": 45,
   "metadata": {
    "colab": {
     "base_uri": "https://localhost:8080/",
     "height": 445
    },
    "id": "kWjJJwplJxAI",
    "outputId": "04080190-eaa2-46c6-9958-90637c3aa23e"
   },
   "outputs": [
    {
     "name": "stdout",
     "output_type": "stream",
     "text": [
      "Epoch 0: loss = [2.36597838]\n",
      "Epoch 1000: loss = [0.00818403]\n",
      "Epoch 2000: loss = [0.00048607]\n",
      "Epoch 3000: loss = [3.21925675e-05]\n",
      "Epoch 4000: loss = [2.07542723e-06]\n",
      "Epoch 5000: loss = [1.3286162e-07]\n",
      "Epoch 6000: loss = [8.49010987e-09]\n",
      "Epoch 7000: loss = [5.42288592e-10]\n",
      "Epoch 8000: loss = [3.46336146e-11]\n",
      "Epoch 9000: loss = [2.21183393e-12]\n"
     ]
    },
    {
     "data": {
      "image/png": "[encoded data removed]",
      "text/plain": [
       "<Figure size 640x480 with 1 Axes>"
      ]
     },
     "metadata": {},
     "output_type": "display_data"
    }
   ],
   "source": [
    "# weight and bias matrices for the hidden layer\n",
    "W_hidden = np.random.randn(n_hidden, 2)  # n_hidden rows and two columns, we \n",
    "# are therefore doing W*x with x a column vector (to match the slides).\n",
    "# The same would obviously work with x*W with x a line vector.\n",
    "b_hidden = np.zeros((n_hidden))  # b_hidden can be considered as a vector, \n",
    "# a matrix would work but isn't necessary. It will have to be transposed\n",
    "# as vectors are line vectors in Python.\n",
    "\n",
    "# weight and bias matrices for the output layer\n",
    "W_out = np.random.randn(1, n_hidden)\n",
    "b_out = np.zeros((1))\n",
    "\n",
    "\n",
    "# number of hidden units\n",
    "n_hidden = 10\n",
    "# learning rate\n",
    "lr = 0.001\n",
    "# number of epochs\n",
    "n_epochs = 10_000\n",
    "\n",
    "\n",
    "# activation function\n",
    "def relu(x):\n",
    "    return x.clip(0,None)\n",
    "# and its derivative\n",
    "def relu_derivative(x):\n",
    "    return 1*(x>=0)\n",
    "\n",
    "\n",
    "def forward(X):\n",
    "    # number of samples\n",
    "    n_samples = X.shape[0]  # n_samples is 4 here\n",
    "    # hidden layer activations\n",
    "    hidden_activations = np.zeros((n_samples, W_hidden.shape[0]))\n",
    "    # output layer activations\n",
    "    output_activations = np.zeros((n_samples, W_out.shape[0]))\n",
    "    # loss\n",
    "    loss = 0\n",
    "    for i in range(n_samples):\n",
    "        hidden_activations[i] = relu(np.dot(W_hidden, X[i].T) + b_hidden.T)  # layer 1\n",
    "        output_activations[i] = relu(np.dot(W_out, hidden_activations[i]) + b_out)  # y_hat\n",
    "        loss += (y_train[i] - output_activations[i]) ** 2\n",
    "    return hidden_activations, output_activations, loss\n",
    "\n",
    "    # It's also important to note that this solution is not the most efficient, \n",
    "    # especially when you have a large dataset. But for the sake of clarity,\n",
    "    # it is more understandable if we iterate over the samples in X to calculate\n",
    "    # the hidden_activations and output_activations for each sample.\n",
    "\n",
    "def backward(X, y_train, hidden_activations, output_activations):\n",
    "    # global variables because we are going to change them and we need the\n",
    "    # change to only be done locally\n",
    "    global W_hidden, b_hidden, W_out, b_out\n",
    "\n",
    "    n_samples = X.shape[0]  # n_samples is 4 here\n",
    "    # update weight matrices and biases\n",
    "\n",
    "    for i in range(n_samples):\n",
    "        for j in range(n_hidden):\n",
    "            W_out[0][j] -= lr * 2 * (output_activations[i] - y_train[i]) * relu_derivative(np.dot(W_out, hidden_activations[i]) + b_out) * hidden_activations[i][j]\n",
    "        b_out -= lr * 2 * (output_activations[i] - y_train[i]) * relu_derivative(np.dot(W_out, hidden_activations[i]) + b_out)\n",
    "\n",
    "        for j in range(n_hidden):\n",
    "            for k in range(2):  # because W_hidden is a matrix n_hidden rows, 2 columns\n",
    "                W_hidden[j][k] -= lr * 2 * (output_activations[i] - y_train[i]) * relu_derivative(np.dot(W_out, hidden_activations[i]) + b_out) * W_out[0][j] * relu_derivative(np.dot(W_hidden, X[i].T) + b_hidden.T)[j] * X[i][k]\n",
    "            b_hidden[j] -= lr * 2 * (output_activations[i] - y_train[i]) * sigmoid_derivative(np.dot(W_out, hidden_activations[i]) + b_out) * W_out[0][j] * sigmoid_derivative(np.dot(W_hidden, X[i].T) + b_hidden)[j]\n",
    "\n",
    "losses = np.zeros(n_epochs)\n",
    "for epoch in range(n_epochs):\n",
    "    # train\n",
    "    hidden_activations, output_activations, loss = forward(X_train)\n",
    "    backward(X_train, y_train, hidden_activations, output_activations)\n",
    "    # save & print the loss\n",
    "    losses[epoch] = loss\n",
    "    if epoch % 1000 == 0:\n",
    "        print(f\"Epoch {epoch}: loss = {loss}\")\n",
    "# semilogy of the loss\n",
    "plt.semilogy(losses)\n",
    "plt.show()\n"
   ]
  },
  {
   "cell_type": "markdown",
   "metadata": {
    "id": "YRI2jEPoRmiK"
   },
   "source": [
    "Now launch this code. What happens? Why?"
   ]
  },
  {
   "cell_type": "code",
   "execution_count": 46,
   "metadata": {
    "colab": {
     "base_uri": "https://localhost:8080/",
     "height": 445
    },
    "id": "fXJ9UtEpMXsy",
    "outputId": "f329077f-9df7-490d-8dc6-f263d92fcc5c"
   },
   "outputs": [
    {
     "name": "stdout",
     "output_type": "stream",
     "text": [
      "Epoch 0: loss = [2.]\n",
      "Epoch 1000: loss = [2.]\n",
      "Epoch 2000: loss = [2.]\n",
      "Epoch 3000: loss = [2.]\n",
      "Epoch 4000: loss = [2.]\n",
      "Epoch 5000: loss = [2.]\n",
      "Epoch 6000: loss = [2.]\n",
      "Epoch 7000: loss = [2.]\n",
      "Epoch 8000: loss = [2.]\n",
      "Epoch 9000: loss = [2.]\n"
     ]
    },
    {
     "data": {
      "image/png": "[encoded data removed]",
      "text/plain": [
       "<Figure size 640x480 with 1 Axes>"
      ]
     },
     "metadata": {},
     "output_type": "display_data"
    }
   ],
   "source": [
    "np.random.seed(44)\n",
    "\n",
    "# weight and bias matrices for the hidden layer\n",
    "W_hidden = np.random.randn(n_hidden, 2)  # n_hidden rows and two columns, we \n",
    "# are therefore doing W*x with x a column vector (to match the slides).\n",
    "# The same would obviously work with x*W with x a line vector.\n",
    "b_hidden = np.zeros((n_hidden))  # b_hidden can be considered as a vector, \n",
    "# a matrix would work but isn't necessary. It will have to be transposed\n",
    "# as vectors are line vectors in Python.\n",
    "\n",
    "# weight and bias matrices for the output layer\n",
    "W_out = np.random.randn(1, n_hidden)\n",
    "b_out = np.zeros((1))\n",
    "\n",
    "\n",
    "# number of hidden units\n",
    "n_hidden = 10\n",
    "# learning rate\n",
    "lr = 0.001\n",
    "# number of epochs\n",
    "epochs = 10_000\n",
    "\n",
    "\n",
    "# activation function\n",
    "def relu(x):\n",
    "    return x.clip(0,None)\n",
    "# and its derivative\n",
    "def relu_derivative(x):\n",
    "    return 1*(x>=0)\n",
    "\n",
    "\n",
    "def forward(X):\n",
    "    # number of samples\n",
    "    n_samples = X.shape[0]  # n_samples is 4 here\n",
    "    # hidden layer activations\n",
    "    hidden_activations = np.zeros((n_samples, W_hidden.shape[0]))\n",
    "    # output layer activations\n",
    "    output_activations = np.zeros((n_samples, W_out.shape[0]))\n",
    "    # loss\n",
    "    loss = 0\n",
    "    for i in range(n_samples):\n",
    "        hidden_activations[i] = relu(np.dot(W_hidden, X[i].T) + b_hidden.T)  # layer 1\n",
    "        output_activations[i] = relu(np.dot(W_out, hidden_activations[i]) + b_out)  # y_hat\n",
    "        loss += (y_train[i] - output_activations[i]) ** 2\n",
    "    return hidden_activations, output_activations, loss\n",
    "\n",
    "    # It's also important to note that this solution is not the most efficient, \n",
    "    # especially when you have a large dataset. But for the sake of clarity,\n",
    "    # it is more understandable if we iterate over the samples in X to calculate\n",
    "    # the hidden_activations and output_activations for each sample.\n",
    "\n",
    "def backward(X, y_train, hidden_activations, output_activations):\n",
    "    # global variables because we are going to change them and we need the\n",
    "    # change to only be done locally\n",
    "    global W_hidden, b_hidden, W_out, b_out\n",
    "\n",
    "    n_samples = X.shape[0]  # n_samples is 4 here\n",
    "    # update weight matrices and biases\n",
    "\n",
    "    for i in range(n_samples):\n",
    "        for j in range(n_hidden):\n",
    "            W_out[0][j] -= lr * 2 * (output_activations[i] - y_train[i]) * relu_derivative(np.dot(W_out, hidden_activations[i]) + b_out) * hidden_activations[i][j]\n",
    "        b_out -= lr * 2 * (output_activations[i] - y_train[i]) * relu_derivative(np.dot(W_out, hidden_activations[i]) + b_out)\n",
    "\n",
    "        for j in range(n_hidden):\n",
    "            for k in range(2):  # because W_hidden is a matrix n_hidden rows, 2 columns\n",
    "                W_hidden[j][k] -= lr * 2 * (output_activations[i] - y_train[i]) * relu_derivative(np.dot(W_out, hidden_activations[i]) + b_out) * W_out[0][j] * relu_derivative(np.dot(W_hidden, X[i].T) + b_hidden.T)[j] * X[i][k]\n",
    "            b_hidden[j] -= lr * 2 * (output_activations[i] - y_train[i]) * relu_derivative(np.dot(W_out, hidden_activations[i]) + b_out) * W_out[0][j]\n",
    "\n",
    "\n",
    "losses = np.zeros(epochs)\n",
    "for epoch in range(epochs):\n",
    "    # train\n",
    "    hidden_activations, output_activations, loss = forward(X_train)\n",
    "    backward(X_train, y_train, hidden_activations, output_activations)\n",
    "    # save & print the loss\n",
    "    losses[epoch] = loss\n",
    "    if epoch % 1000 == 0:\n",
    "        print(f\"Epoch {epoch}: loss = {loss}\")\n",
    "# semilogy of the loss\n",
    "plt.semilogy(losses)\n",
    "plt.show()"
   ]
  },
  {
   "cell_type": "markdown",
   "metadata": {
    "id": "WKTuerETSFfy"
   },
   "source": [
    "It gets stuck at a loss of 2.. \n",
    "\n",
    "It's important to understand that the initialization of the weights and biases can greatly affect the training of a neural network. If the initialization is not done correctly, it can lead to the model getting stuck and not converging. In this case, it appears that the gradients are reaching a value of zero, which means that none of the weights are updating from one iteration to the next. This results in neither the loss nor the parameters changing, and the network not being able to converge."
   ]
  },
  {
   "cell_type": "code",
   "execution_count": 47,
   "metadata": {},
   "outputs": [
    {
     "name": "stdout",
     "output_type": "stream",
     "text": [
      "[0.]\n",
      "[-2.37727949]\n",
      "[-2.60504686]\n",
      "[-4.03284521]\n"
     ]
    }
   ],
   "source": [
    "print(np.dot(W_out, hidden_activations[0] + b_out))\n",
    "print(np.dot(W_out, hidden_activations[1] + b_out))\n",
    "print(np.dot(W_out, hidden_activations[2] + b_out))\n",
    "print(np.dot(W_out, hidden_activations[3] + b_out))"
   ]
  },
  {
   "attachments": {},
   "cell_type": "markdown",
   "metadata": {},
   "source": [
    "We'll come back to this during TD 6a."
   ]
  }
 ],
 "metadata": {
  "colab": {
   "provenance": []
  },
  "kernelspec": {
   "display_name": "Python 3 (ipykernel)",
   "language": "python",
   "name": "python3"
  },
  "language_info": {
   "codemirror_mode": {
    "name": "ipython",
    "version": 3
   },
   "file_extension": ".py",
   "mimetype": "text/x-python",
   "name": "python",
   "nbconvert_exporter": "python",
   "pygments_lexer": "ipython3",
   "version": "3.11.1"
  },
  "vscode": {
   "interpreter": {
    "hash": "a61f982c8ae83496d3304782998ac96a47f5fcf9bfc174247e19a8162c5490e4"
   }
  }
 },
 "nbformat": 4,
 "nbformat_minor": 4
}
