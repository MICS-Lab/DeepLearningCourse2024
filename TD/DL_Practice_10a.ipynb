{
 "cells": [
  {
   "cell_type": "markdown",
   "metadata": {},
   "source": [
    "# TD10a - Quantization"
   ]
  },
  {
   "cell_type": "code",
   "execution_count": null,
   "metadata": {},
   "outputs": [],
   "source": [
    "import torch\n",
    "\n",
    "# define a random model that takes 4000 input features and outputs 4 features with an intermediate layer of 4000 features\n",
    "class M(torch.nn.Module):\n",
    "\n",
    "# create a model instance\n",
    "model_fp32 = \n",
    "\n",
    "# create a quantized model instance\n",
    "model_int8 = torch.ao.quantization.quantize_dynamic(\n",
    "    model_fp32,  # the original model\n",
    "    {torch.nn.Linear},  # a set of layers to dynamically quantize\n",
    "    dtype=torch.qint8  # the target dtype for quantized weights, here we use 8-bit integer - we are going a bit crazy on the quantization amount\n",
    ")"
   ]
  },
  {
   "cell_type": "code",
   "execution_count": null,
   "metadata": {},
   "outputs": [],
   "source": [
    "# run the model with and without quantization on a batch of four random inputs - let's see the time difference\n",
    "input_ = \n",
    "with torch.no_grad():\n",
    "    %timeit res_32 = model_fp32(input_)\n",
    "    %timeit res_16 = model_int8(input_)"
   ]
  },
  {
   "cell_type": "code",
   "execution_count": null,
   "metadata": {},
   "outputs": [],
   "source": [
    "# Make sure the results are roughly the same because if it's faster but outputs stupid stuff, it's not really worth it\n",
    "with torch.no_grad():\n",
    "    res_32 = model_fp32(input_)\n",
    "    res_16 = model_int8(input_)\n",
    "print(res_16, \"\\n\", res_32)"
   ]
  },
  {
   "cell_type": "code",
   "execution_count": null,
   "metadata": {},
   "outputs": [],
   "source": [
    "# save both models\n",
    "torch.save(model_fp32.state_dict(), \"model_fp32.pth\")\n",
    "torch.save(model_int8.state_dict(), \"model_int8.pth\")\n",
    "\n",
    "# and compare the sizes of the two models on your hard drive ..."
   ]
  }
 ],
 "metadata": {
  "kernelspec": {
   "display_name": "Python 3",
   "language": "python",
   "name": "python3"
  },
  "language_info": {
   "codemirror_mode": {
    "name": "ipython",
    "version": 3
   },
   "file_extension": ".py",
   "mimetype": "text/x-python",
   "name": "python",
   "nbconvert_exporter": "python",
   "pygments_lexer": "ipython3",
   "version": "3.11.1"
  }
 },
 "nbformat": 4,
 "nbformat_minor": 2
}
