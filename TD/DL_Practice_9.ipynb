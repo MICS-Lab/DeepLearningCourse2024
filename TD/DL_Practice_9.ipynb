{
 "cells": [
  {
   "cell_type": "markdown",
   "metadata": {},
   "source": [
    "# TD9 - Vectoring Words the \"Right Way\""
   ]
  },
  {
   "cell_type": "markdown",
   "metadata": {},
   "source": [
    "Let's install some libraries. Whilst downloading the libraries, we will explain how we can embed vectors better than we did in the RNN TD."
   ]
  },
  {
   "cell_type": "markdown",
   "metadata": {},
   "source": [
    "\\- Embed words >>> embed letters :\n",
    "\n",
    "    \"I would rather be able to see the last 50 words than the last 50 characters\",\n",
    "\n",
    "    \"With letters, very little notion of distance between characters (is \"r\" closer to \"d\" than it is to \"c\"?\"),\n",
    "\n",
    "    \"With letters, if our network has to output words it will spend a lot of time learning how to predict letters so that the whole word makes sense. Let's give it the possibility to output words in a dictionary directly (if you predict dog vs cat, don't put 1000 neurons on the last layer)\"\n",
    "\n",
    "\\- In images, if you change the value of an input pixel a little bit, it doesn't change much the image.\n",
    "\n",
    "\\- With words, if you one-hot encode them and you from (1, 0, 0, 0, 0, ...) to (0, 1, 0, 0, 0, 0, ...) you go from \"a\" to \"able\" (https://i.imgur.com/Z7aF0OS.jpeg). \n",
    "\n",
    "\\- In images, if you output an image very close to what you want (imagine a task of going from black & white to colours), the pixel values are going to be very similar to what you want and there is a way to tell the network \"you failed but you're close\" or \"you failed and you're far from where I'd want you to be\".\n",
    "\n",
    "\\- With words, if you one-hot encode them you can just tell the network \"you failed\" or \"yeah that's the right word\". But if the network outputs \"vehicle\" instead \"car\" no way of saying: \"almost!\"."
   ]
  },
  {
   "cell_type": "code",
   "execution_count": 1,
   "metadata": {},
   "outputs": [
    {
     "name": "stdout",
     "output_type": "stream",
     "text": [
      "Collecting scikit-learn==0.21.3\n",
      "  Downloading scikit-learn-0.21.3.tar.gz (12.2 MB)\n",
      "\u001b[K     |████████████████████████████████| 12.2 MB 3.6 MB/s eta 0:00:01\n",
      "\u001b[?25hRequirement already satisfied: joblib>=0.11 in /usr/users/prof/lhotte_rom/.local/lib/python3.8/site-packages (from scikit-learn==0.21.3) (1.3.2)\n",
      "Requirement already satisfied: numpy>=1.11.0 in /usr/local/lib/python3.8/dist-packages (from scikit-learn==0.21.3) (1.22.4)\n",
      "Requirement already satisfied: scipy>=0.17.0 in /usr/local/lib/python3.8/dist-packages (from scikit-learn==0.21.3) (1.5.2)\n",
      "Building wheels for collected packages: scikit-learn\n",
      "  Building wheel for scikit-learn (setup.py) ... \u001b[?25lerror\n",
      "\u001b[31m  ERROR: Command errored out with exit status 1:\n",
      "   command: /usr/bin/python3 -u -c 'import sys, setuptools, tokenize; sys.argv[0] = '\"'\"'/tmp/lhotte_rom-46643/pip-install-k8sekqvf/scikit-learn/setup.py'\"'\"'; __file__='\"'\"'/tmp/lhotte_rom-46643/pip-install-k8sekqvf/scikit-learn/setup.py'\"'\"';f=getattr(tokenize, '\"'\"'open'\"'\"', open)(__file__);code=f.read().replace('\"'\"'\\r\\n'\"'\"', '\"'\"'\\n'\"'\"');f.close();exec(compile(code, __file__, '\"'\"'exec'\"'\"'))' bdist_wheel -d /tmp/lhotte_rom-46643/pip-wheel-xutwp82o\n",
      "       cwd: /tmp/lhotte_rom-46643/pip-install-k8sekqvf/scikit-learn/\n",
      "  Complete output (28 lines):\n",
      "  Partial import of sklearn during the build process.\n",
      "  Traceback (most recent call last):\n",
      "    File \"<string>\", line 1, in <module>\n",
      "    File \"/tmp/lhotte_rom-46643/pip-install-k8sekqvf/scikit-learn/setup.py\", line 290, in <module>\n",
      "      setup_package()\n",
      "    File \"/tmp/lhotte_rom-46643/pip-install-k8sekqvf/scikit-learn/setup.py\", line 286, in setup_package\n",
      "      setup(**metadata)\n",
      "    File \"/usr/local/lib/python3.8/dist-packages/numpy/distutils/core.py\", line 135, in setup\n",
      "      config = configuration()\n",
      "    File \"/tmp/lhotte_rom-46643/pip-install-k8sekqvf/scikit-learn/setup.py\", line 174, in configuration\n",
      "      config.add_subpackage('sklearn')\n",
      "    File \"/usr/local/lib/python3.8/dist-packages/numpy/distutils/misc_util.py\", line 1054, in add_subpackage\n",
      "      config_list = self.get_subpackage(subpackage_name, subpackage_path,\n",
      "    File \"/usr/local/lib/python3.8/dist-packages/numpy/distutils/misc_util.py\", line 1020, in get_subpackage\n",
      "      config = self._get_configuration_from_setup_py(\n",
      "    File \"/usr/local/lib/python3.8/dist-packages/numpy/distutils/misc_util.py\", line 962, in _get_configuration_from_setup_py\n",
      "      config = setup_module.configuration(*args)\n",
      "    File \"/tmp/lhotte_rom-46643/pip-install-k8sekqvf/scikit-learn/sklearn/setup.py\", line 62, in configuration\n",
      "      config.add_subpackage('utils')\n",
      "    File \"/usr/local/lib/python3.8/dist-packages/numpy/distutils/misc_util.py\", line 1054, in add_subpackage\n",
      "      config_list = self.get_subpackage(subpackage_name, subpackage_path,\n",
      "    File \"/usr/local/lib/python3.8/dist-packages/numpy/distutils/misc_util.py\", line 1020, in get_subpackage\n",
      "      config = self._get_configuration_from_setup_py(\n",
      "    File \"/usr/local/lib/python3.8/dist-packages/numpy/distutils/misc_util.py\", line 962, in _get_configuration_from_setup_py\n",
      "      config = setup_module.configuration(*args)\n",
      "    File \"/tmp/lhotte_rom-46643/pip-install-k8sekqvf/scikit-learn/sklearn/utils/setup.py\", line 8, in configuration\n",
      "      from Cython import Tempita\n",
      "  ModuleNotFoundError: No module named 'Cython'\n",
      "  ----------------------------------------\u001b[0m\n",
      "\u001b[31m  ERROR: Failed building wheel for scikit-learn\u001b[0m\n",
      "\u001b[?25h  Running setup.py clean for scikit-learn\n",
      "Failed to build scikit-learn\n",
      "Installing collected packages: scikit-learn\n",
      "  Attempting uninstall: scikit-learn\n",
      "    Found existing installation: scikit-learn 1.3.2\n",
      "    Not uninstalling scikit-learn at /usr/users/prof/lhotte_rom/.local/lib/python3.8/site-packages, outside environment /usr\n",
      "    Can't uninstall 'scikit-learn'. No files were found to uninstall.\n",
      "    Running setup.py install for scikit-learn ... \u001b[?25lerror\n",
      "\u001b[31m    ERROR: Command errored out with exit status 1:\n",
      "     command: /usr/bin/python3 -u -c 'import sys, setuptools, tokenize; sys.argv[0] = '\"'\"'/tmp/lhotte_rom-46643/pip-install-k8sekqvf/scikit-learn/setup.py'\"'\"'; __file__='\"'\"'/tmp/lhotte_rom-46643/pip-install-k8sekqvf/scikit-learn/setup.py'\"'\"';f=getattr(tokenize, '\"'\"'open'\"'\"', open)(__file__);code=f.read().replace('\"'\"'\\r\\n'\"'\"', '\"'\"'\\n'\"'\"');f.close();exec(compile(code, __file__, '\"'\"'exec'\"'\"'))' install --record /tmp/lhotte_rom-46643/pip-record-7tujc3fu/install-record.txt --single-version-externally-managed --user --prefix= --compile --install-headers /usr/users/prof/lhotte_rom/.local/include/python3.8/scikit-learn\n",
      "         cwd: /tmp/lhotte_rom-46643/pip-install-k8sekqvf/scikit-learn/\n",
      "    Complete output (28 lines):\n",
      "    Partial import of sklearn during the build process.\n",
      "    Traceback (most recent call last):\n",
      "      File \"<string>\", line 1, in <module>\n",
      "      File \"/tmp/lhotte_rom-46643/pip-install-k8sekqvf/scikit-learn/setup.py\", line 290, in <module>\n",
      "        setup_package()\n",
      "      File \"/tmp/lhotte_rom-46643/pip-install-k8sekqvf/scikit-learn/setup.py\", line 286, in setup_package\n",
      "        setup(**metadata)\n",
      "      File \"/usr/local/lib/python3.8/dist-packages/numpy/distutils/core.py\", line 135, in setup\n",
      "        config = configuration()\n",
      "      File \"/tmp/lhotte_rom-46643/pip-install-k8sekqvf/scikit-learn/setup.py\", line 174, in configuration\n",
      "        config.add_subpackage('sklearn')\n",
      "      File \"/usr/local/lib/python3.8/dist-packages/numpy/distutils/misc_util.py\", line 1054, in add_subpackage\n",
      "        config_list = self.get_subpackage(subpackage_name, subpackage_path,\n",
      "      File \"/usr/local/lib/python3.8/dist-packages/numpy/distutils/misc_util.py\", line 1020, in get_subpackage\n",
      "        config = self._get_configuration_from_setup_py(\n",
      "      File \"/usr/local/lib/python3.8/dist-packages/numpy/distutils/misc_util.py\", line 962, in _get_configuration_from_setup_py\n",
      "        config = setup_module.configuration(*args)\n",
      "      File \"/tmp/lhotte_rom-46643/pip-install-k8sekqvf/scikit-learn/sklearn/setup.py\", line 62, in configuration\n",
      "        config.add_subpackage('utils')\n",
      "      File \"/usr/local/lib/python3.8/dist-packages/numpy/distutils/misc_util.py\", line 1054, in add_subpackage\n",
      "        config_list = self.get_subpackage(subpackage_name, subpackage_path,\n",
      "      File \"/usr/local/lib/python3.8/dist-packages/numpy/distutils/misc_util.py\", line 1020, in get_subpackage\n",
      "        config = self._get_configuration_from_setup_py(\n",
      "      File \"/usr/local/lib/python3.8/dist-packages/numpy/distutils/misc_util.py\", line 962, in _get_configuration_from_setup_py\n",
      "        config = setup_module.configuration(*args)\n",
      "      File \"/tmp/lhotte_rom-46643/pip-install-k8sekqvf/scikit-learn/sklearn/utils/setup.py\", line 8, in configuration\n",
      "        from Cython import Tempita\n",
      "    ModuleNotFoundError: No module named 'Cython'\n",
      "    ----------------------------------------\u001b[0m\n",
      "\u001b[?25h\u001b[31m  ERROR: Can't roll back scikit-learn; was not uninstalled\u001b[0m\n",
      "\u001b[31mERROR: Command errored out with exit status 1: /usr/bin/python3 -u -c 'import sys, setuptools, tokenize; sys.argv[0] = '\"'\"'/tmp/lhotte_rom-46643/pip-install-k8sekqvf/scikit-learn/setup.py'\"'\"'; __file__='\"'\"'/tmp/lhotte_rom-46643/pip-install-k8sekqvf/scikit-learn/setup.py'\"'\"';f=getattr(tokenize, '\"'\"'open'\"'\"', open)(__file__);code=f.read().replace('\"'\"'\\r\\n'\"'\"', '\"'\"'\\n'\"'\"');f.close();exec(compile(code, __file__, '\"'\"'exec'\"'\"'))' install --record /tmp/lhotte_rom-46643/pip-record-7tujc3fu/install-record.txt --single-version-externally-managed --user --prefix= --compile --install-headers /usr/users/prof/lhotte_rom/.local/include/python3.8/scikit-learn Check the logs for full command output.\u001b[0m\n",
      "Collecting wget==3.2\n",
      "  Downloading wget-3.2.zip (10 kB)\n",
      "Building wheels for collected packages: wget\n",
      "  Building wheel for wget (setup.py) ... \u001b[?25ldone\n",
      "\u001b[?25h  Created wheel for wget: filename=wget-3.2-py3-none-any.whl size=9679 sha256=7d2b1037458dc4eb8755cdf246f12bee254c594ca2b9be0c3ca2c3f23f23494e\n",
      "  Stored in directory: /usr/users/prof/lhotte_rom/.cache/pip/wheels/bd/a8/c3/3cf2c14a1837a4e04bd98631724e81f33f462d86a1d895fae0\n",
      "Successfully built wget\n",
      "Installing collected packages: wget\n",
      "Successfully installed wget-3.2\n",
      "Collecting gensim==3.6.0\n",
      "  Downloading gensim-3.6.0.tar.gz (23.1 MB)\n",
      "\u001b[K     |████████████████████████████████| 23.1 MB 3.6 MB/s eta 0:00:01\n",
      "\u001b[?25hRequirement already satisfied: numpy>=1.11.3 in /usr/local/lib/python3.8/dist-packages (from gensim==3.6.0) (1.22.4)\n",
      "Requirement already satisfied: scipy>=0.18.1 in /usr/local/lib/python3.8/dist-packages (from gensim==3.6.0) (1.5.2)\n",
      "Requirement already satisfied: six>=1.5.0 in /usr/local/lib/python3.8/dist-packages (from gensim==3.6.0) (1.15.0)\n",
      "Collecting smart_open>=1.2.1\n",
      "  Downloading smart_open-6.4.0-py3-none-any.whl (57 kB)\n",
      "\u001b[K     |████████████████████████████████| 57 kB 1.8 MB/s s eta 0:00:01\n",
      "\u001b[?25hBuilding wheels for collected packages: gensim\n",
      "  Building wheel for gensim (setup.py) ... \u001b[?25ldone\n",
      "\u001b[?25h  Created wheel for gensim: filename=gensim-3.6.0-cp38-cp38-linux_x86_64.whl size=24779181 sha256=6dac87413ef35f6332ae618aceac80e20ae81a9225b806af22592104aa050cf7\n",
      "  Stored in directory: /usr/users/prof/lhotte_rom/.cache/pip/wheels/d6/5b/91/658efb08f9d790987e1ef3795e62e129868afb0fde409baac5\n",
      "Successfully built gensim\n",
      "Installing collected packages: smart-open, gensim\n",
      "Successfully installed gensim-3.6.0 smart-open-6.4.0\n",
      "Collecting psutil==5.4.8\n",
      "  Downloading psutil-5.4.8.tar.gz (422 kB)\n",
      "\u001b[K     |████████████████████████████████| 422 kB 3.3 MB/s eta 0:00:01\n",
      "\u001b[?25hBuilding wheels for collected packages: psutil\n",
      "  Building wheel for psutil (setup.py) ... \u001b[?25ldone\n",
      "\u001b[?25h  Created wheel for psutil: filename=psutil-5.4.8-cp38-cp38-linux_x86_64.whl size=278840 sha256=f32384832a8fcbbbd189ba9070027f6f77f2aa91c0cb634e218f86e72aa2aaf1\n",
      "  Stored in directory: /usr/users/prof/lhotte_rom/.cache/pip/wheels/fd/e7/d2/8103ebd6f79efd5ac517478d00151a620f83ee9753bd4a9dc1\n",
      "Successfully built psutil\n",
      "Installing collected packages: psutil\n",
      "Successfully installed psutil-5.4.8\n",
      "Collecting spacy==2.2.4\n",
      "  Downloading spacy-2.2.4-cp38-cp38-manylinux1_x86_64.whl (10.6 MB)\n",
      "\u001b[K     |████████████████████████████████| 10.6 MB 3.3 MB/s eta 0:00:01\n",
      "\u001b[?25hCollecting murmurhash<1.1.0,>=0.28.0\n",
      "  Downloading murmurhash-1.0.10-cp38-cp38-manylinux_2_5_x86_64.manylinux1_x86_64.manylinux_2_17_x86_64.manylinux2014_x86_64.whl (29 kB)\n",
      "Collecting catalogue<1.1.0,>=0.0.7\n",
      "  Downloading catalogue-1.0.2-py2.py3-none-any.whl (16 kB)\n",
      "Requirement already satisfied: tqdm<5.0.0,>=4.38.0 in /usr/local/lib/python3.8/dist-packages (from spacy==2.2.4) (4.62.3)\n",
      "Collecting plac<1.2.0,>=0.9.6\n",
      "  Downloading plac-1.1.3-py2.py3-none-any.whl (20 kB)\n",
      "Collecting blis<0.5.0,>=0.4.0\n",
      "  Downloading blis-0.4.1-cp38-cp38-manylinux1_x86_64.whl (3.7 MB)\n",
      "\u001b[K     |████████████████████████████████| 3.7 MB 93.2 MB/s eta 0:00:01\n",
      "\u001b[?25hCollecting thinc==7.4.0\n",
      "  Downloading thinc-7.4.0-cp38-cp38-manylinux1_x86_64.whl (2.2 MB)\n",
      "\u001b[K     |████████████████████████████████| 2.2 MB 44.4 MB/s eta 0:00:01\n",
      "\u001b[?25hRequirement already satisfied: numpy>=1.15.0 in /usr/local/lib/python3.8/dist-packages (from spacy==2.2.4) (1.22.4)\n",
      "Collecting wasabi<1.1.0,>=0.4.0\n",
      "  Downloading wasabi-0.10.1-py3-none-any.whl (26 kB)\n",
      "Collecting preshed<3.1.0,>=3.0.2\n",
      "  Downloading preshed-3.0.9-cp38-cp38-manylinux_2_5_x86_64.manylinux1_x86_64.manylinux_2_17_x86_64.manylinux2014_x86_64.whl (154 kB)\n",
      "\u001b[K     |████████████████████████████████| 154 kB 79.8 MB/s eta 0:00:01\n",
      "\u001b[?25hRequirement already satisfied: setuptools in /usr/lib/python3/dist-packages (from spacy==2.2.4) (45.2.0)\n",
      "Collecting srsly<1.1.0,>=1.0.2\n",
      "  Downloading srsly-1.0.7-cp38-cp38-manylinux_2_17_x86_64.manylinux2014_x86_64.whl (370 kB)\n",
      "\u001b[K     |████████████████████████████████| 370 kB 88.4 MB/s eta 0:00:01\n",
      "\u001b[?25hRequirement already satisfied: requests<3.0.0,>=2.13.0 in /usr/lib/python3/dist-packages (from spacy==2.2.4) (2.22.0)\n",
      "Collecting cymem<2.1.0,>=2.0.2\n",
      "  Downloading cymem-2.0.8-cp38-cp38-manylinux_2_17_x86_64.manylinux2014_x86_64.whl (46 kB)\n",
      "\u001b[K     |████████████████████████████████| 46 kB 1.5 MB/s s eta 0:00:01\n",
      "\u001b[?25hInstalling collected packages: murmurhash, catalogue, plac, blis, wasabi, cymem, preshed, srsly, thinc, spacy\n",
      "Successfully installed blis-0.4.1 catalogue-1.0.2 cymem-2.0.8 murmurhash-1.0.10 plac-1.1.3 preshed-3.0.9 spacy-2.2.4 srsly-1.0.7 thinc-7.4.0 wasabi-0.10.1\n"
     ]
    }
   ],
   "source": [
    "%pip install scikit-learn==0.21.3\n",
    "%pip install wget==3.2\n",
    "%pip install gensim==3.6.0\n",
    "%pip install psutil==5.4.8\n",
    "%pip install spacy==2.2.4"
   ]
  },
  {
   "cell_type": "markdown",
   "metadata": {},
   "source": [
    "Let's download the model (trained on Google News and a latent space of size 300). Whilst downloading the model, we will explain how we can embed vectors better than we did in the RNN TD."
   ]
  },
  {
   "cell_type": "code",
   "execution_count": 4,
   "metadata": {},
   "outputs": [
    {
     "name": "stdout",
     "output_type": "stream",
     "text": [
      "[==================================================] 100.0% 1662.8/1662.8MB downloaded\n"
     ]
    }
   ],
   "source": [
    "import gensim.downloader as api\n",
    "\n",
    "wv = api.load('word2vec-google-news-300')"
   ]
  },
  {
   "cell_type": "markdown",
   "metadata": {},
   "source": [
    "What does an encoded word look like?"
   ]
  },
  {
   "cell_type": "code",
   "execution_count": 5,
   "metadata": {},
   "outputs": [
    {
     "data": {
      "text/plain": [
       "array([ 1.07421875e-01, -2.01171875e-01,  1.23046875e-01,  2.11914062e-01,\n",
       "       -9.13085938e-02,  2.16796875e-01, -1.31835938e-01,  8.30078125e-02,\n",
       "        2.02148438e-01,  4.78515625e-02,  3.66210938e-02, -2.45361328e-02,\n",
       "        2.39257812e-02, -1.60156250e-01, -2.61230469e-02,  9.71679688e-02,\n",
       "       -6.34765625e-02,  1.84570312e-01,  1.70898438e-01, -1.63085938e-01,\n",
       "       -1.09375000e-01,  1.49414062e-01, -4.65393066e-04,  9.61914062e-02,\n",
       "        1.68945312e-01,  2.60925293e-03,  8.93554688e-02,  6.49414062e-02,\n",
       "        3.56445312e-02, -6.93359375e-02, -1.46484375e-01, -1.21093750e-01,\n",
       "       -2.27539062e-01,  2.45361328e-02, -1.24511719e-01, -3.18359375e-01,\n",
       "       -2.20703125e-01,  1.30859375e-01,  3.66210938e-02, -3.63769531e-02,\n",
       "       -1.13281250e-01,  1.95312500e-01,  9.76562500e-02,  1.26953125e-01,\n",
       "        6.59179688e-02,  6.93359375e-02,  1.02539062e-02,  1.75781250e-01,\n",
       "       -1.68945312e-01,  1.21307373e-03, -2.98828125e-01, -1.15234375e-01,\n",
       "        5.66406250e-02, -1.77734375e-01, -2.08984375e-01,  1.76757812e-01,\n",
       "        2.38037109e-02, -2.57812500e-01, -4.46777344e-02,  1.88476562e-01,\n",
       "        5.51757812e-02,  5.02929688e-02, -1.06933594e-01,  1.89453125e-01,\n",
       "       -1.16210938e-01,  8.49609375e-02, -1.71875000e-01,  2.45117188e-01,\n",
       "       -1.73828125e-01, -8.30078125e-03,  4.56542969e-02, -1.61132812e-02,\n",
       "        1.86523438e-01, -6.05468750e-02, -4.17480469e-02,  1.82617188e-01,\n",
       "        2.20703125e-01, -1.22558594e-01, -2.55126953e-02, -3.08593750e-01,\n",
       "        9.13085938e-02,  1.60156250e-01,  1.70898438e-01,  1.19628906e-01,\n",
       "        7.08007812e-02, -2.64892578e-02, -3.08837891e-02,  4.06250000e-01,\n",
       "       -1.01562500e-01,  5.71289062e-02, -7.26318359e-03, -9.17968750e-02,\n",
       "       -1.50390625e-01, -2.55859375e-01,  2.16796875e-01, -3.63769531e-02,\n",
       "        2.24609375e-01,  8.00781250e-02,  1.56250000e-01,  5.27343750e-02,\n",
       "        1.50390625e-01, -1.14746094e-01, -8.64257812e-02,  1.19140625e-01,\n",
       "       -7.17773438e-02,  2.73437500e-01, -1.64062500e-01,  7.29370117e-03,\n",
       "        4.21875000e-01, -1.12792969e-01, -1.35742188e-01, -1.31835938e-01,\n",
       "       -1.37695312e-01, -7.66601562e-02,  6.25000000e-02,  4.98046875e-02,\n",
       "       -1.91406250e-01, -6.03027344e-02,  2.27539062e-01,  5.88378906e-02,\n",
       "       -3.24218750e-01,  5.41992188e-02, -1.35742188e-01,  8.17871094e-03,\n",
       "       -5.24902344e-02, -1.74713135e-03, -9.81445312e-02, -2.86865234e-02,\n",
       "        3.61328125e-02,  2.15820312e-01,  5.98144531e-02, -3.08593750e-01,\n",
       "       -2.27539062e-01,  2.61718750e-01,  9.86328125e-02, -5.07812500e-02,\n",
       "        1.78222656e-02,  1.31835938e-01, -5.35156250e-01, -1.81640625e-01,\n",
       "        1.38671875e-01, -3.10546875e-01, -9.71679688e-02,  1.31835938e-01,\n",
       "       -1.16210938e-01,  7.03125000e-02,  2.85156250e-01,  3.51562500e-02,\n",
       "       -1.01562500e-01, -3.75976562e-02,  1.41601562e-01,  1.42578125e-01,\n",
       "       -5.68847656e-02,  2.65625000e-01, -2.09960938e-01,  9.64355469e-03,\n",
       "       -6.68945312e-02, -4.83398438e-02, -6.10351562e-02,  2.45117188e-01,\n",
       "       -9.66796875e-02,  1.78222656e-02, -1.27929688e-01, -4.78515625e-02,\n",
       "       -7.26318359e-03,  1.79687500e-01,  2.78320312e-02, -2.10937500e-01,\n",
       "       -1.43554688e-01, -1.27929688e-01,  1.73339844e-02, -3.60107422e-03,\n",
       "       -2.04101562e-01,  3.63159180e-03, -1.19628906e-01, -6.15234375e-02,\n",
       "        5.93261719e-02, -3.23486328e-03, -1.70898438e-01, -3.14941406e-02,\n",
       "       -8.88671875e-02, -2.89062500e-01,  3.44238281e-02, -1.87500000e-01,\n",
       "        2.94921875e-01,  1.58203125e-01, -1.19628906e-01,  7.61718750e-02,\n",
       "        6.39648438e-02, -4.68750000e-02, -6.83593750e-02,  1.21459961e-02,\n",
       "       -1.44531250e-01,  4.54101562e-02,  3.68652344e-02,  3.88671875e-01,\n",
       "        1.45507812e-01, -2.55859375e-01, -4.46777344e-02, -1.33789062e-01,\n",
       "       -1.38671875e-01,  6.59179688e-02,  1.37695312e-01,  1.14746094e-01,\n",
       "        2.03125000e-01, -4.78515625e-02,  1.80664062e-02, -8.54492188e-02,\n",
       "       -2.48046875e-01, -3.39843750e-01, -2.83203125e-02,  1.05468750e-01,\n",
       "       -2.14843750e-01, -8.74023438e-02,  7.12890625e-02,  1.87500000e-01,\n",
       "       -1.12304688e-01,  2.73437500e-01, -3.26171875e-01, -1.77734375e-01,\n",
       "       -4.24804688e-02, -2.69531250e-01,  6.64062500e-02, -6.88476562e-02,\n",
       "       -1.99218750e-01, -7.03125000e-02, -2.43164062e-01, -3.66210938e-02,\n",
       "       -7.37304688e-02, -1.77734375e-01,  9.17968750e-02, -1.25000000e-01,\n",
       "       -1.65039062e-01, -3.57421875e-01, -2.85156250e-01, -1.66992188e-01,\n",
       "        1.97265625e-01, -1.53320312e-01,  2.31933594e-02,  2.06054688e-01,\n",
       "        1.80664062e-01, -2.74658203e-02, -1.92382812e-01, -9.61914062e-02,\n",
       "       -1.06811523e-02, -4.73632812e-02,  6.54296875e-02, -1.25732422e-02,\n",
       "        1.78222656e-02, -8.00781250e-02, -2.59765625e-01,  9.37500000e-02,\n",
       "       -7.81250000e-02,  4.68750000e-02, -2.22167969e-02,  1.86767578e-02,\n",
       "        3.11279297e-02,  1.04980469e-02, -1.69921875e-01,  2.58789062e-02,\n",
       "       -3.41796875e-02, -1.44042969e-02, -5.46875000e-02, -8.78906250e-02,\n",
       "        1.96838379e-03,  2.23632812e-01, -1.36718750e-01,  1.75781250e-01,\n",
       "       -1.63085938e-01,  1.87500000e-01,  3.44238281e-02, -5.63964844e-02,\n",
       "       -2.27689743e-05,  4.27246094e-02,  5.81054688e-02, -1.07910156e-01,\n",
       "       -3.88183594e-02, -2.69531250e-01,  3.34472656e-02,  9.81445312e-02,\n",
       "        5.63964844e-02,  2.23632812e-01, -5.49316406e-02,  1.46484375e-01,\n",
       "        5.93261719e-02, -2.19726562e-01,  6.39648438e-02,  1.66015625e-02,\n",
       "        4.56542969e-02,  3.26171875e-01, -3.80859375e-01,  1.70898438e-01,\n",
       "        5.66406250e-02, -1.04492188e-01,  1.38671875e-01, -1.57226562e-01,\n",
       "        3.23486328e-03, -4.80957031e-02, -2.48046875e-01, -6.20117188e-02],\n",
       "      dtype=float32)"
      ]
     },
     "execution_count": 5,
     "metadata": {},
     "output_type": "execute_result"
    }
   ],
   "source": [
    "wv['computer']"
   ]
  },
  {
   "cell_type": "markdown",
   "metadata": {},
   "source": [
    "Instea of priting the array, maybe printing its shape, maximum and minimum values will be more insightful"
   ]
  },
  {
   "cell_type": "code",
   "execution_count": 7,
   "metadata": {},
   "outputs": [
    {
     "data": {
      "text/plain": [
       "((300,), 0.421875, -0.53515625)"
      ]
     },
     "execution_count": 7,
     "metadata": {},
     "output_type": "execute_result"
    }
   ],
   "source": [
    "wv['computer'].shape, wv['computer'].max(), wv['computer'].min()"
   ]
  },
  {
   "cell_type": "markdown",
   "metadata": {},
   "source": [
    "Let's see the distance between words that are close from a spelling point of view and words that are close from a \"lexical\" point of view"
   ]
  },
  {
   "cell_type": "code",
   "execution_count": 13,
   "metadata": {},
   "outputs": [
    {
     "data": {
      "text/plain": [
       "(1.0615220293402672,\n",
       " 0.7847181558609009,\n",
       " 0.48789793252944946,\n",
       " 0.21789032220840454)"
      ]
     },
     "execution_count": 13,
     "metadata": {},
     "output_type": "execute_result"
    }
   ],
   "source": [
    "wv.distance(\"Paris\", \"Party\"), wv.distance(\"car\", \"cat\"), wv.distance(\"car\", \"Lamborghini\"), wv.distance(\"car\", \"vehicle\")"
   ]
  },
  {
   "cell_type": "code",
   "execution_count": 14,
   "metadata": {},
   "outputs": [
    {
     "data": {
      "text/plain": [
       "[('Adidas', 0.7950947284698486),\n",
       " ('adidas', 0.7668235898017883),\n",
       " ('NIKE', 0.7274937629699707),\n",
       " ('Nike_NYSE_NKE', 0.6847589015960693),\n",
       " ('Reebok', 0.663459300994873),\n",
       " ('Nike_NKE', 0.6379507184028625),\n",
       " ('Under_Armour', 0.5997496843338013),\n",
       " ('spokeswoman_Yoko_Mizukami', 0.5990645885467529),\n",
       " ('Adidas_ADDDY.PK_news', 0.5953589081764221),\n",
       " ('spokeswoman_Joani_Komlos', 0.5935247540473938)]"
      ]
     },
     "execution_count": 14,
     "metadata": {},
     "output_type": "execute_result"
    }
   ],
   "source": [
    "wv.most_similar(\"Nike\")"
   ]
  },
  {
   "cell_type": "code",
   "execution_count": 15,
   "metadata": {},
   "outputs": [
    {
     "data": {
      "text/plain": [
       "[('Parisian', 0.6789354681968689),\n",
       " ('Hopital_Europeen_Georges_Pompidou', 0.6536554098129272),\n",
       " ('Spyker_D##_Peking', 0.6336591839790344),\n",
       " ('France', 0.633491039276123),\n",
       " ('Pantheon_Sorbonne', 0.6312517523765564),\n",
       " ('Aeroports_De', 0.621803879737854),\n",
       " ('Grigny_south', 0.6194689273834229),\n",
       " ('Place_Denfert_Rochereau', 0.6028153896331787),\n",
       " ('guest_Olivier_Dolige', 0.6024351119995117),\n",
       " ('Lazard_Freres_Banque', 0.5998712182044983)]"
      ]
     },
     "execution_count": 15,
     "metadata": {},
     "output_type": "execute_result"
    }
   ],
   "source": [
    "wv.most_similar(\"Paris\")"
   ]
  },
  {
   "cell_type": "code",
   "execution_count": 17,
   "metadata": {},
   "outputs": [
    {
     "data": {
      "text/plain": [
       "[('queen', 0.9314123392105103),\n",
       " ('monarch', 0.858533501625061),\n",
       " ('princess', 0.8476566076278687),\n",
       " ('Queen_Consort', 0.8150269985198975),\n",
       " ('queens', 0.8099815249443054),\n",
       " ('crown_prince', 0.808997631072998),\n",
       " ('royal_palace', 0.8027306795120239),\n",
       " ('monarchy', 0.801961362361908),\n",
       " ('prince', 0.800979733467102),\n",
       " ('empress', 0.7958388328552246)]"
      ]
     },
     "execution_count": 17,
     "metadata": {},
     "output_type": "execute_result"
    }
   ],
   "source": [
    "wv.most_similar_cosmul(positive=[\"king\", \"woman\"], negative=[\"man\"])"
   ]
  },
  {
   "cell_type": "code",
   "execution_count": 18,
   "metadata": {},
   "outputs": [
    {
     "data": {
      "text/plain": [
       "[('girl', 1.018757939338684),\n",
       " ('mother', 0.9110710024833679),\n",
       " ('teenage_girl', 0.9046094417572021),\n",
       " ('toddler', 0.8983652591705322),\n",
       " ('daughter', 0.8961495757102966),\n",
       " ('child', 0.8923880457878113),\n",
       " ('teenager', 0.8660117387771606),\n",
       " ('niece', 0.8555038571357727),\n",
       " ('schoolgirl', 0.8544197678565979),\n",
       " ('baby', 0.8516771197319031)]"
      ]
     },
     "execution_count": 18,
     "metadata": {},
     "output_type": "execute_result"
    }
   ],
   "source": [
    "wv.most_similar_cosmul(positive=[\"boy\", \"woman\"], negative=[\"man\"])"
   ]
  },
  {
   "cell_type": "code",
   "execution_count": 19,
   "metadata": {},
   "outputs": [
    {
     "data": {
      "text/plain": [
       "[('moos', 0.8037621378898621),\n",
       " ('baa', 0.7783335447311401),\n",
       " ('baaa', 0.777667224407196),\n",
       " ('oinks', 0.7757751941680908),\n",
       " ('mooing', 0.773527979850769),\n",
       " ('mooed', 0.7722421884536743),\n",
       " ('neighs', 0.7689445614814758),\n",
       " ('cows_mooing', 0.7671400904655457),\n",
       " ('whinnies', 0.7667444348335266),\n",
       " ('cock_doodle_doo', 0.7664759159088135)]"
      ]
     },
     "execution_count": 19,
     "metadata": {},
     "output_type": "execute_result"
    }
   ],
   "source": [
    "wv.most_similar_cosmul(positive=[\"cow\", \"oink\"], negative=[\"pig\"])"
   ]
  },
  {
   "cell_type": "code",
   "execution_count": 20,
   "metadata": {},
   "outputs": [
    {
     "data": {
      "text/plain": [
       "[('miaowing', 0.821600079536438),\n",
       " ('woofs', 0.8177747130393982),\n",
       " ('kitty_kitty', 0.8145589232444763),\n",
       " ('meowing', 0.8128674030303955),\n",
       " ('woof_woof', 0.8090406060218811),\n",
       " ('Yip_yip', 0.8033258318901062),\n",
       " ('meowed', 0.8021880984306335),\n",
       " ('cock_doodle_doo', 0.8019063472747803),\n",
       " ('chittering', 0.8003867864608765),\n",
       " ('purr', 0.7976775169372559)]"
      ]
     },
     "execution_count": 20,
     "metadata": {},
     "output_type": "execute_result"
    }
   ],
   "source": [
    "wv.most_similar_cosmul(positive=[\"cat\", \"oink\"], negative=[\"pig\"])"
   ]
  },
  {
   "cell_type": "code",
   "execution_count": 21,
   "metadata": {},
   "outputs": [
    {
     "data": {
      "text/plain": [
       "[('barks', 0.834601640701294),\n",
       " ('woofs', 0.8272683620452881),\n",
       " ('bark_incessantly', 0.817846953868866),\n",
       " ('barking_loudly', 0.8163576126098633),\n",
       " ('Tail_wagging', 0.8125094771385193),\n",
       " ('cats_meow', 0.810688853263855),\n",
       " ('dogs', 0.8093793988227844),\n",
       " ('barking', 0.8093082904815674),\n",
       " ('woof_woof', 0.8092902302742004),\n",
       " ('pooch', 0.8045751452445984)]"
      ]
     },
     "execution_count": 21,
     "metadata": {},
     "output_type": "execute_result"
    }
   ],
   "source": [
    "wv.most_similar_cosmul(positive=[\"dog\", \"oink\"], negative=[\"pig\"])"
   ]
  },
  {
   "cell_type": "code",
   "execution_count": 23,
   "metadata": {},
   "outputs": [
    {
     "data": {
      "text/plain": [
       "[('HO_HO_HO', 0.9089415073394775),\n",
       " ('ho_ho_hoing', 0.9081220030784607),\n",
       " ('Ho_ho_ho', 0.8999334573745728),\n",
       " ('Santa_elves', 0.887882649898529),\n",
       " ('Mrs._Claus', 0.8841321468353271),\n",
       " ('Santa_Claus', 0.8761659264564514),\n",
       " ('Ho_Ho_Ho', 0.8700059056282043),\n",
       " ('Santa_Mrs._Claus', 0.8698497414588928),\n",
       " ('Ho_Ho_Hos', 0.8630191683769226),\n",
       " ('elves_reindeer', 0.8513056039810181)]"
      ]
     },
     "execution_count": 23,
     "metadata": {},
     "output_type": "execute_result"
    }
   ],
   "source": [
    "wv.most_similar_cosmul(positive=[\"Santa\", \"oink\"], negative=[\"pig\"])"
   ]
  }
 ],
 "metadata": {
  "kernelspec": {
   "display_name": "Python 3",
   "language": "python",
   "name": "python3"
  },
  "language_info": {
   "codemirror_mode": {
    "name": "ipython",
    "version": 3
   },
   "file_extension": ".py",
   "mimetype": "text/x-python",
   "name": "python",
   "nbconvert_exporter": "python",
   "pygments_lexer": "ipython3",
   "version": "3.8.10"
  }
 },
 "nbformat": 4,
 "nbformat_minor": 2
}
