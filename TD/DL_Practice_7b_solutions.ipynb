{
 "cells": [
  {
   "cell_type": "markdown",
   "metadata": {},
   "source": [
    "# Hyperparameters optimisation\n",
    "## TD 7b"
   ]
  },
  {
   "cell_type": "markdown",
   "metadata": {},
   "source": [
    "We are essentially going to use the same `Food101` ([credit where it's due](https://data.vision.ee.ethz.ch/cvl/datasets_extra/food-101/)) data, the same object `ImageDataset`, the same `DataLoader`.\n",
    "\n",
    "The code below is mainly a copy of the code from the previous TD, except that global variables are now defined separately and everything is wrapped in different functions. This is to make it easier to train the same model with different hyperparameters and architectures, etc ..."
   ]
  },
  {
   "cell_type": "markdown",
   "metadata": {},
   "source": [
    "For those that can use their GPUs or are on DCEJS, all the necessary `.to(device)` are already in the code.\n",
    "\n",
    "If, for some reason, you encounter this error: `OutOfMemoryError: CUDA out of memory.`, it means that your GPU does not have enough memory to run the model. You can try to reduce the batch size, or the number of neurons in the network, or the number of layers in the network, or the number of filters in the convolutional layers, etc ..."
   ]
  },
  {
   "cell_type": "code",
   "execution_count": 1,
   "metadata": {},
   "outputs": [
    {
     "name": "stderr",
     "output_type": "stream",
     "text": [
      "/usr/local/lib/python3.8/dist-packages/tqdm/auto.py:21: TqdmWarning: IProgress not found. Please update jupyter and ipywidgets. See https://ipywidgets.readthedocs.io/en/stable/user_install.html\n",
      "  from .autonotebook import tqdm as notebook_tqdm\n"
     ]
    }
   ],
   "source": [
    "# Imports\n",
    "\n",
    "from __future__ import annotations\n",
    "import matplotlib.pyplot as plt\n",
    "import numpy as np\n",
    "import torch\n",
    "import torch.nn as nn\n",
    "import pathlib\n",
    "import time\n",
    "from torch.utils.data import DataLoader\n",
    "from torchvision import datasets, transforms\n",
    "\n",
    "# Set the random seed for reproducibility\n",
    "_ = torch.manual_seed(25)"
   ]
  },
  {
   "cell_type": "markdown",
   "metadata": {},
   "source": [
    "You can set the `flush` parameter to `True` for all `print()` statements in `Python` by overriding the built-in `print()` function using the `functools.partial()` method. An example of this is:\n",
    "\n",
    "```py\n",
    "from functools import partial\n",
    "print = partial(print, flush=True)\n",
    "```\n",
    "\n",
    "We will use this to make sure that the outputs are printed in the correct order and at the correct time (for more info about why we are doing this, check [this link](https://www.includehelp.com/python/flush-parameter-in-python-with-print-function.aspx))."
   ]
  },
  {
   "cell_type": "code",
   "execution_count": 2,
   "metadata": {},
   "outputs": [],
   "source": [
    "from functools import partial\n",
    "print = partial(print, flush=True)"
   ]
  },
  {
   "cell_type": "code",
   "execution_count": 3,
   "metadata": {},
   "outputs": [
    {
     "name": "stdout",
     "output_type": "stream",
     "text": [
      "Using cpu device\n"
     ]
    }
   ],
   "source": [
    "# Global variables\n",
    "\n",
    "# Setup device-agnostic code\n",
    "DEVICE = \"cuda\" if torch.cuda.is_available() else \"cpu\"\n",
    "print(f\"Using {DEVICE} device\")\n",
    "\n",
    "# Batch size\n",
    "BATCH_SIZE = 512\n",
    "\n",
    "# Learning rate\n",
    "LEARNING_RATE = 2e-2\n",
    "\n",
    "# Number of epochs\n",
    "NUM_EPOCHS = 20\n",
    "\n",
    "# Number of classes\n",
    "NUM_CLASSES = 3\n",
    "\n",
    "# Image size\n",
    "IMAGE_SIZE = 128"
   ]
  },
  {
   "cell_type": "code",
   "execution_count": 4,
   "metadata": {},
   "outputs": [],
   "source": [
    "def get_datasets_and_dataloaders(\n",
    "    batch_size: int = 4\n",
    ") -> tuple[\n",
    "    DataLoader, \n",
    "    DataLoader\n",
    "]:\n",
    "    \"\"\"\n",
    "    Load the training and test datasets into data loaders.\n",
    "    \"\"\"\n",
    "    data_dir = pathlib.Path(\".\")\n",
    "    train_dir = data_dir / \"Food-3\" / \"train\"\n",
    "    test_dir = data_dir / \"Food-3\" / \"test\"\n",
    "\n",
    "    data_transform_train = transforms.Compose(\n",
    "        [\n",
    "            transforms.Resize(size=(IMAGE_SIZE, IMAGE_SIZE)),  # Resize the images to 128x128\n",
    "            transforms.ToTensor(),  # Convert the images to tensors\n",
    "            transforms.RandomHorizontalFlip(p=0.5),  # Flip the images horizontally with probability 0.5\n",
    "        ]\n",
    "    )\n",
    "    data_transform_test = transforms.Compose(\n",
    "        [\n",
    "            transforms.Resize(size=(IMAGE_SIZE, IMAGE_SIZE)),  # Resize the images to 128x128\n",
    "            transforms.ToTensor(),  # Convert the images to tensors\n",
    "        ]\n",
    "    )\n",
    "\n",
    "    train_data = datasets.ImageFolder(\n",
    "        root=train_dir,  # target folder of images\n",
    "        transform=data_transform_train,  # transforms to perform on data (images)\n",
    "        target_transform=None  # transforms to perform on labels (if necessary)\n",
    "    ) \n",
    "\n",
    "    test_data = datasets.ImageFolder(\n",
    "        root=test_dir,\n",
    "        transform=data_transform_test\n",
    "    )\n",
    "\n",
    "    train_dataloader = DataLoader(\n",
    "        dataset=train_data,\n",
    "        batch_size=batch_size,  # how many samples per batch?\n",
    "        shuffle=True  # shuffle the data?\n",
    "    )\n",
    "\n",
    "    test_dataloader = DataLoader(\n",
    "        dataset=test_data,\n",
    "        batch_size=batch_size,\n",
    "        shuffle=False\n",
    "    ) # don't usually need to shuffle testing data\n",
    "\n",
    "\n",
    "    return train_dataloader, test_dataloader"
   ]
  },
  {
   "cell_type": "code",
   "execution_count": 5,
   "metadata": {},
   "outputs": [],
   "source": [
    "# Load dataloaders in global variables\n",
    "TRAIN_DATALOADER, TEST_DATALOADER = get_datasets_and_dataloaders(BATCH_SIZE)"
   ]
  },
  {
   "cell_type": "code",
   "execution_count": 6,
   "metadata": {},
   "outputs": [
    {
     "name": "stdout",
     "output_type": "stream",
     "text": [
      "Dataset ImageFolder\n",
      "    Number of datapoints: 2712\n",
      "    Root location: Food-3/train\n",
      "    StandardTransform\n",
      "Transform: Compose(\n",
      "               Resize(size=(128, 128), interpolation=bilinear, max_size=None, antialias=None)\n",
      "               ToTensor()\n",
      "               RandomHorizontalFlip(p=0.5)\n",
      "           )\n",
      "---\n",
      "Dataset ImageFolder\n",
      "    Number of datapoints: 447\n",
      "    Root location: Food-3/test\n",
      "    StandardTransform\n",
      "Transform: Compose(\n",
      "               Resize(size=(128, 128), interpolation=bilinear, max_size=None, antialias=None)\n",
      "               ToTensor()\n",
      "           )\n"
     ]
    }
   ],
   "source": [
    "# How can we get the datasets? Did we lose them? No\n",
    "print(TRAIN_DATALOADER.dataset)\n",
    "print(\"---\")\n",
    "print(TEST_DATALOADER.dataset)"
   ]
  },
  {
   "cell_type": "code",
   "execution_count": 7,
   "metadata": {},
   "outputs": [
    {
     "data": {
      "text/plain": [
       "tensor([[ 6.,  8.],\n",
       "        [14., 16.]])"
      ]
     },
     "execution_count": 7,
     "metadata": {},
     "output_type": "execute_result"
    }
   ],
   "source": [
    "import torch.nn.functional as F\n",
    "\n",
    "example_tensor = torch.tensor([[1, 2, 3, 4],\n",
    "                               [5, 6, 7, 8],\n",
    "                               [9, 10, 11, 12],\n",
    "                               [13, 14, 15, 16]], dtype=torch.float32)\n",
    "\n",
    "# First let's go to our configuration: tensor of shape (batch_size, channels, height, width)\n",
    "example_tensor = example_tensor.unsqueeze(0).unsqueeze(0)  # We add the ones: (1, 1, 4, 4)\n",
    "\n",
    "# Applying max_pool2d with a 2x2 kernel\n",
    "pooled_tensor = F.max_pool2d(example_tensor, kernel_size=2)\n",
    "\n",
    "# Reshaping back to a simple 2D tensor for easy visualization\n",
    "pooled_tensor = pooled_tensor.squeeze()  # We remove the ones (2, 2)\n",
    "\n",
    "pooled_tensor"
   ]
  },
  {
   "cell_type": "code",
   "execution_count": 8,
   "metadata": {},
   "outputs": [],
   "source": [
    "class Net(nn.Module):\n",
    "    def __init__(\n",
    "        self,\n",
    "        hidden_units: int = 200,\n",
    "        batch_norm: bool = False,\n",
    "        use_conv: bool = False\n",
    "    ):\n",
    "        super(Net, self).__init__()\n",
    "        self.use_conv = use_conv\n",
    "        self.batch_norm = batch_norm\n",
    "\n",
    "        if use_conv:\n",
    "            self.conv1 = nn.Conv2d(3, 16, kernel_size=3, stride=1, padding=1)\n",
    "            self.conv2 = nn.Conv2d(16, 32, kernel_size=3, stride=1, padding=1)\n",
    "\n",
    "            if batch_norm:\n",
    "                self.bn1 = nn.BatchNorm2d(16)\n",
    "                self.bn2 = nn.BatchNorm2d(32)\n",
    "\n",
    "            conv_output_size = IMAGE_SIZE // 4  # we will add two poolings of size (2, 2)\n",
    "\n",
    "            self.fc1 = nn.Linear(32 * conv_output_size * conv_output_size, hidden_units)\n",
    "        else:\n",
    "            self.fc1 = nn.Linear(IMAGE_SIZE * IMAGE_SIZE * 3, hidden_units)\n",
    "            self.bn1 = nn.BatchNorm1d(hidden_units)\n",
    "\n",
    "        # Shared layers\n",
    "        self.fc2 = nn.Linear(hidden_units, NUM_CLASSES)\n",
    "\n",
    "    def forward(self, x):\n",
    "        if self.use_conv:\n",
    "            x = self.conv1(x)\n",
    "            if self.batch_norm:\n",
    "                x = self.bn1(x)\n",
    "            x = nn.ReLU()(x)\n",
    "            x = F.max_pool2d(x, 2)\n",
    "\n",
    "            x = self.conv2(x)\n",
    "            if self.batch_norm:\n",
    "                x = self.bn2(x)\n",
    "            x = nn.ReLU()(x)\n",
    "            x = F.max_pool2d(x, 2)\n",
    "\n",
    "            # Flatten the features for the fully connected layer\n",
    "            x = x.view(x.size(0), -1)\n",
    "\n",
    "            x = self.fc1(x)\n",
    "            x = nn.ReLU()(x)\n",
    "\n",
    "        else:\n",
    "            # Flatten in the beginning for the fully connected layer\n",
    "            x = x.view(x.size(0), -1)\n",
    "            x = self.fc1(x)\n",
    "            if self.batch_norm:\n",
    "                x = self.bn1(x)\n",
    "            x = nn.ReLU()(x)\n",
    "\n",
    "        x = self.fc2(x)\n",
    "        return x"
   ]
  },
  {
   "cell_type": "markdown",
   "metadata": {},
   "source": [
    "---\n",
    "\n",
    "Why does it not work with `x = x.view(BATCH_SIZE, -1)`?\n",
    "\n",
    "---"
   ]
  },
  {
   "cell_type": "code",
   "execution_count": 9,
   "metadata": {},
   "outputs": [],
   "source": [
    "# Create model\n",
    "MODEL: Net = Net(hidden_units=200).to(DEVICE)"
   ]
  },
  {
   "cell_type": "code",
   "execution_count": 10,
   "metadata": {},
   "outputs": [],
   "source": [
    "def test_our_model() -> float:\n",
    "    # 0. Put model in eval mode\n",
    "    MODEL.eval()  # to remove stuff like dropout that's only going to be in the training part\n",
    "\n",
    "    # 1. Setup test accuracy value\n",
    "    test_acc: float = 0\n",
    "\n",
    "    # 2. Turn on inference context manager\n",
    "    with torch.no_grad():\n",
    "        # Loop through DataLoader batches\n",
    "        for X_test, y_test in TEST_DATALOADER:  # majuscule à X car c'est une \"matrice\", et y un entier\n",
    "            # a. Move data to device and no need to reshape since it's done in MODEL definition\n",
    "            X_test_flattened = X_test.to(DEVICE) \n",
    "            y_test = y_test.to(DEVICE)\n",
    "\n",
    "            # b. Forward pass\n",
    "            model_output = MODEL(X_test_flattened)\n",
    "\n",
    "            # c. Calculate and accumulate accuracy\n",
    "            test_pred_label = model_output.argmax(dim=1)\n",
    "            test_acc += (test_pred_label == y_test).sum()\n",
    "\n",
    "    # Adjust metrics to get average loss and accuracy per batch\n",
    "    test_acc = test_acc / (len(TEST_DATALOADER.dataset))\n",
    "    return test_acc.item()"
   ]
  },
  {
   "cell_type": "code",
   "execution_count": 24,
   "metadata": {},
   "outputs": [
    {
     "name": "stdout",
     "output_type": "stream",
     "text": [
      "30.20%\n"
     ]
    }
   ],
   "source": [
    "# Test our untrained model\n",
    "print((f\"{100*test_our_model():.2f}%\"))"
   ]
  },
  {
   "cell_type": "markdown",
   "metadata": {},
   "source": [
    "You should get 30.20% accuracy on the testing set without training and with the default hyperparameters if you used the same seed. Close enough to 33% which is the expected accuracy for a random classifier."
   ]
  },
  {
   "cell_type": "markdown",
   "metadata": {},
   "source": [
    "We can plot some images like last time"
   ]
  },
  {
   "cell_type": "code",
   "execution_count": 11,
   "metadata": {},
   "outputs": [
    {
     "name": "stdout",
     "output_type": "stream",
     "text": [
      "torch.Size([3, 128, 128])\n",
      "torch.Size([128, 128, 3])\n"
     ]
    },
    {
     "data": {
      "text/plain": [
       "Text(0.5, 1.0, 'pizza')"
      ]
     },
     "execution_count": 11,
     "metadata": {},
     "output_type": "execute_result"
    },
    {
     "data": {
      "image/png": "[encoded data removed]",
      "text/plain": [
       "<Figure size 1000x700 with 1 Axes>"
      ]
     },
     "metadata": {},
     "output_type": "display_data"
    }
   ],
   "source": [
    "# Get the tensors and put them in the right dimensions for matplotlib\n",
    "my_pizza = TRAIN_DATALOADER.dataset[0][0]\n",
    "my_label = TRAIN_DATALOADER.dataset[0][1]\n",
    "print(my_pizza.shape)\n",
    "my_pizza_reshaped = my_pizza.permute(1, 2, 0)\n",
    "print(my_pizza_reshaped.shape)\n",
    "\n",
    "# Plot the image\n",
    "plt.figure(figsize=(10, 7))\n",
    "plt.imshow(my_pizza_reshaped)\n",
    "plt.axis(\"off\")\n",
    "plt.title(TRAIN_DATALOADER.dataset.classes[my_label], fontsize=14)"
   ]
  },
  {
   "cell_type": "markdown",
   "metadata": {},
   "source": [
    "Let's do the training loop now"
   ]
  },
  {
   "cell_type": "code",
   "execution_count": 12,
   "metadata": {},
   "outputs": [],
   "source": [
    "def main_train(loss_fn, optimizer) -> None:\n",
    "    \"\"\"\n",
    "    Train the model and modified the trained model inplace.\n",
    "    \"\"\"\n",
    "    start_time_global = time.time()\n",
    "\n",
    "    # Put model in train mode\n",
    "    MODEL.train()\n",
    "\n",
    "    # Loop through data loader data batches\n",
    "    for epoch in range(NUM_EPOCHS):\n",
    "        start_time_epoch = time.time()\n",
    "\n",
    "        # Setup train loss and train accuracy values\n",
    "        train_loss, train_acc = 0, 0\n",
    "\n",
    "        for X, y in TRAIN_DATALOADER:\n",
    "            # 0. Move data to device\n",
    "            X = X.to(DEVICE)\n",
    "            y = y.to(DEVICE)\n",
    "\n",
    "            # 1. Forward pass\n",
    "            y_pred = MODEL(X)\n",
    "\n",
    "            # 2. Calculate and accumulate loss\n",
    "            loss = loss_fn(y_pred, y)\n",
    "            train_loss += loss.item()\n",
    "\n",
    "            # 3. Optimizer zero grad\n",
    "            optimizer.zero_grad()\n",
    "\n",
    "            # 4. Loss backward\n",
    "            loss.backward()\n",
    "\n",
    "            # 5. Optimizer step\n",
    "            optimizer.step()\n",
    "\n",
    "            # Calculate and accumulate accuracy metric across all batches\n",
    "            y_pred_class = y_pred.argmax(dim=1)\n",
    "            train_acc += (y_pred_class == y).sum()\n",
    "\n",
    "        # Adjust metrics to get average loss and accuracy per batch\n",
    "        train_loss = train_loss / (len(TRAIN_DATALOADER.dataset))\n",
    "        train_acc = train_acc / (len(TRAIN_DATALOADER.dataset))\n",
    "        print(\n",
    "            f\"epoch {epoch+1}/{NUM_EPOCHS},\"\n",
    "            f\" train_loss = {train_loss:.2e},\"\n",
    "            f\" train_acc = {100*train_acc.item():.2f}%,\"\n",
    "            f\" time spent during this epoch = {time.time() - start_time_epoch:.2f}s,\"\n",
    "            f\" total time spent = {time.time() - start_time_global:.2f}s\"\n",
    "        )"
   ]
  },
  {
   "cell_type": "code",
   "execution_count": 27,
   "metadata": {},
   "outputs": [
    {
     "name": "stdout",
     "output_type": "stream",
     "text": [
      "epoch 1/20, train_loss = 2.66e-03, train_acc = 37.98%, time spent during this epoch = 14.06s, total time spent = 14.06s\n",
      "epoch 2/20, train_loss = 2.34e-03, train_acc = 44.32%, time spent during this epoch = 8.96s, total time spent = 23.02s\n",
      "epoch 3/20, train_loss = 2.28e-03, train_acc = 45.13%, time spent during this epoch = 6.56s, total time spent = 29.57s\n",
      "epoch 4/20, train_loss = 2.32e-03, train_acc = 43.18%, time spent during this epoch = 6.32s, total time spent = 35.89s\n",
      "epoch 5/20, train_loss = 2.27e-03, train_acc = 49.82%, time spent during this epoch = 6.23s, total time spent = 42.13s\n",
      "epoch 6/20, train_loss = 2.18e-03, train_acc = 50.22%, time spent during this epoch = 6.59s, total time spent = 48.71s\n",
      "epoch 7/20, train_loss = 2.28e-03, train_acc = 45.28%, time spent during this epoch = 6.50s, total time spent = 55.21s\n",
      "epoch 8/20, train_loss = 2.10e-03, train_acc = 53.58%, time spent during this epoch = 6.50s, total time spent = 61.71s\n",
      "epoch 9/20, train_loss = 2.14e-03, train_acc = 52.10%, time spent during this epoch = 6.51s, total time spent = 68.22s\n",
      "epoch 10/20, train_loss = 2.12e-03, train_acc = 51.99%, time spent during this epoch = 6.93s, total time spent = 75.15s\n",
      "epoch 11/20, train_loss = 2.07e-03, train_acc = 54.13%, time spent during this epoch = 7.22s, total time spent = 82.37s\n",
      "epoch 12/20, train_loss = 2.02e-03, train_acc = 54.31%, time spent during this epoch = 7.29s, total time spent = 89.66s\n",
      "epoch 13/20, train_loss = 2.06e-03, train_acc = 55.57%, time spent during this epoch = 7.37s, total time spent = 97.02s\n",
      "epoch 14/20, train_loss = 2.00e-03, train_acc = 57.41%, time spent during this epoch = 7.16s, total time spent = 104.19s\n",
      "epoch 15/20, train_loss = 2.01e-03, train_acc = 56.97%, time spent during this epoch = 7.22s, total time spent = 111.41s\n",
      "epoch 16/20, train_loss = 2.00e-03, train_acc = 56.67%, time spent during this epoch = 7.21s, total time spent = 118.62s\n",
      "epoch 17/20, train_loss = 2.00e-03, train_acc = 57.23%, time spent during this epoch = 6.98s, total time spent = 125.60s\n",
      "epoch 18/20, train_loss = 2.12e-03, train_acc = 51.66%, time spent during this epoch = 7.24s, total time spent = 132.85s\n",
      "epoch 19/20, train_loss = 1.96e-03, train_acc = 58.33%, time spent during this epoch = 7.16s, total time spent = 140.01s\n",
      "epoch 20/20, train_loss = 1.99e-03, train_acc = 57.63%, time spent during this epoch = 6.58s, total time spent = 146.59s\n"
     ]
    }
   ],
   "source": [
    "main_train(nn.CrossEntropyLoss(), torch.optim.SGD(MODEL.parameters(), lr=LEARNING_RATE))"
   ]
  },
  {
   "cell_type": "code",
   "execution_count": 28,
   "metadata": {},
   "outputs": [
    {
     "name": "stdout",
     "output_type": "stream",
     "text": [
      "51.45%\n"
     ]
    }
   ],
   "source": [
    "print((f\"{100*test_our_model():.2f}%\"))"
   ]
  },
  {
   "cell_type": "markdown",
   "metadata": {},
   "source": [
    "You should get 51.45% accuracy on the testing set without training and with the default hyperparameters if you used the same seed. And we definitely reached convergence (the loss is not decreasing that much anymore, and if you try to train for more epochs, you will see that the testing set accuracy will decrease). Note that by saying \"if you try to train for more epochs, you will see that the testing set accuracy will decrease\", we kind of cheated by using the testing set to infer an information about the number of epochs, we should instead use validation sets and cross validation techniques ... and we will (today)! No worries."
   ]
  },
  {
   "cell_type": "markdown",
   "metadata": {},
   "source": [
    "-----"
   ]
  },
  {
   "cell_type": "markdown",
   "metadata": {},
   "source": [
    "Is it possible for `train_loss` to decrease whilst `train_acc` decreases at the same time? Look at what happens between epochs 14 and 15 in this example (it's a real run, different seed though):\n",
    "```py\n",
    "epoch 14/15, train_loss = 1.01e-01, train_acc = 63.61%, time spent ...\n",
    "epoch 15/15, train_loss = 9.91e-02, train_acc = 63.50%, time spent ...\n",
    "```\n",
    "\n",
    "Why is that?"
   ]
  },
  {
   "cell_type": "markdown",
   "metadata": {},
   "source": [
    "-----"
   ]
  },
  {
   "cell_type": "markdown",
   "metadata": {},
   "source": [
    "## Let's try to improve this accuracy!"
   ]
  },
  {
   "cell_type": "markdown",
   "metadata": {},
   "source": [
    "You will need to install the Optuna package (`pip install optuna`) and import it at the beginning of your script. We should also import KFold from sklearn.model_selection. This is because we will use cross-validation to find the best hyperparameters."
   ]
  },
  {
   "cell_type": "code",
   "execution_count": 16,
   "metadata": {},
   "outputs": [
    {
     "name": "stdout",
     "output_type": "stream",
     "text": [
      "Requirement already satisfied: optuna in /usr/users/prof/lhotte_rom/.local/lib/python3.8/site-packages (3.5.0)\n",
      "Requirement already satisfied: tqdm in /usr/local/lib/python3.8/dist-packages (from optuna) (4.62.3)\n",
      "Requirement already satisfied: colorlog in /usr/users/prof/lhotte_rom/.local/lib/python3.8/site-packages (from optuna) (6.8.0)\n",
      "Requirement already satisfied: alembic>=1.5.0 in /usr/users/prof/lhotte_rom/.local/lib/python3.8/site-packages (from optuna) (1.13.1)\n",
      "Requirement already satisfied: PyYAML in /usr/lib/python3/dist-packages (from optuna) (5.3.1)\n",
      "Requirement already satisfied: packaging>=20.0 in /usr/users/prof/lhotte_rom/.local/lib/python3.8/site-packages (from optuna) (23.2)\n",
      "Requirement already satisfied: numpy in /usr/local/lib/python3.8/dist-packages (from optuna) (1.22.4)\n",
      "Requirement already satisfied: sqlalchemy>=1.3.0 in /usr/users/prof/lhotte_rom/.local/lib/python3.8/site-packages (from optuna) (2.0.25)\n",
      "Requirement already satisfied: Mako in /usr/lib/python3/dist-packages (from alembic>=1.5.0->optuna) (1.1.0)\n",
      "Requirement already satisfied: importlib-metadata; python_version < \"3.9\" in /usr/local/lib/python3.8/dist-packages (from alembic>=1.5.0->optuna) (4.8.2)\n",
      "Requirement already satisfied: importlib-resources; python_version < \"3.9\" in /usr/local/lib/python3.8/dist-packages (from alembic>=1.5.0->optuna) (5.4.0)\n",
      "Requirement already satisfied: typing-extensions>=4 in /usr/users/prof/lhotte_rom/.local/lib/python3.8/site-packages (from alembic>=1.5.0->optuna) (4.9.0)\n",
      "Requirement already satisfied: greenlet!=0.4.17; platform_machine == \"aarch64\" or (platform_machine == \"ppc64le\" or (platform_machine == \"x86_64\" or (platform_machine == \"amd64\" or (platform_machine == \"AMD64\" or (platform_machine == \"win32\" or platform_machine == \"WIN32\"))))) in /usr/users/prof/lhotte_rom/.local/lib/python3.8/site-packages (from sqlalchemy>=1.3.0->optuna) (3.0.3)\n",
      "Requirement already satisfied: zipp>=0.5 in /usr/local/lib/python3.8/dist-packages (from importlib-metadata; python_version < \"3.9\"->alembic>=1.5.0->optuna) (3.6.0)\n",
      "Note: you may need to restart the kernel to use updated packages.\n",
      "Requirement already satisfied: scikit-learn in /usr/users/prof/lhotte_rom/.local/lib/python3.8/site-packages (1.3.2)\n",
      "Requirement already satisfied: numpy<2.0,>=1.17.3 in /usr/local/lib/python3.8/dist-packages (from scikit-learn) (1.22.4)\n",
      "Requirement already satisfied: threadpoolctl>=2.0.0 in /usr/users/prof/lhotte_rom/.local/lib/python3.8/site-packages (from scikit-learn) (3.2.0)\n",
      "Requirement already satisfied: joblib>=1.1.1 in /usr/users/prof/lhotte_rom/.local/lib/python3.8/site-packages (from scikit-learn) (1.3.2)\n",
      "Requirement already satisfied: scipy>=1.5.0 in /usr/local/lib/python3.8/dist-packages (from scikit-learn) (1.5.2)\n",
      "Note: you may need to restart the kernel to use updated packages.\n"
     ]
    }
   ],
   "source": [
    "%pip install optuna\n",
    "%pip install scikit-learn"
   ]
  },
  {
   "cell_type": "code",
   "execution_count": 13,
   "metadata": {},
   "outputs": [],
   "source": [
    "import optuna\n",
    "from sklearn.model_selection import KFold"
   ]
  },
  {
   "cell_type": "markdown",
   "metadata": {},
   "source": [
    "First easy task is to decide how many neurons there should be in the hidden layer.\n",
    " \n",
    "We will do this together (optimising the number of hidden nuerons), and then you'll have to implement optimization of the learning rate*, the optimizer's choice on your own. We will also show you how to choose between a convolutional and dense network.\n",
    "\n",
    "\\* *Careful! Small learning rates are not always better, especially if you do not change the number of epochs. You should try to find the best learning rate for the number of epochs you chose, one that is not too big for your computer to handle.*"
   ]
  },
  {
   "cell_type": "markdown",
   "metadata": {},
   "source": [
    "We will need to define a new function that will be used as the objective function for Optuna's optimization. This function should take in the `trial` object from Optuna as an argument and use the `trial` object to define and sample the hyperparameters that you want to optimize. For example, you can use the `trial` object to sample a choice between a convolutional and dense network, and to sample the number of neurons for the chosen network. After training the model, we will need to return the final validation accuracy calculated with cross-validation* as the objective function value for Optuna to maximise.\n",
    "\n",
    "\\* We use cross-validation here (3-fold) because we want to use the testing set as little as possible. We will use the testing set only once, at the end, to get the final accuracy of the best model. But, cross-validation greatly increases the time required to run the algorithms, so we won't always use cross-validation to optimize hyperparameters."
   ]
  },
  {
   "cell_type": "code",
   "execution_count": 14,
   "metadata": {},
   "outputs": [],
   "source": [
    "def objective(trial: optuna.trial.Trial) -> float:\n",
    "    print(\"New trial\")\n",
    "\n",
    "    # Set up cross validation\n",
    "    n_splits: int = 3\n",
    "    fold = KFold(n_splits=n_splits, shuffle=True, random_state=0)\n",
    "    scores = [0]*n_splits\n",
    "\n",
    "    hidden_units: int = trial.suggest_int('hidden_units', 2, 50)\n",
    "\n",
    "    # Loop through data loader data batches\n",
    "    for fold_idx, (train_idx, valid_idx) in enumerate(fold.split(range(len(TRAIN_DATALOADER.dataset)))):\n",
    "        # train_idx and valid_idx are numpy arrays of indices of the training and validation sets for this \n",
    "        # fold respectively.\n",
    "        # They do not contain the actual data, but the indices of the data in the dataset.\n",
    "        # We can use these indices to create a subset of the dataset for this fold with torch.utils.data.Subset.\n",
    "        # Obviously, if an index is in the validation set, it will not be in the training set. You could\n",
    "        # check this by printing train_idx and valid_idx and check by yourself.\n",
    "        \n",
    "        print(f\"Fold {fold_idx+1}/{n_splits}\")\n",
    "\n",
    "        # Create subsets of the dataset for this fold\n",
    "        sub_train_data = torch.utils.data.Subset(TRAIN_DATALOADER.dataset, train_idx)\n",
    "        sub_valid_data = torch.utils.data.Subset(TRAIN_DATALOADER.dataset, valid_idx)\n",
    "\n",
    "        # Create data loaders for this fold\n",
    "        sub_train_loader = torch.utils.data.DataLoader(sub_train_data, batch_size=BATCH_SIZE, shuffle=True)\n",
    "        sub_valid_loader = torch.utils.data.DataLoader(sub_valid_data, batch_size=BATCH_SIZE, shuffle=False)\n",
    "        \n",
    "        # Generate the model.\n",
    "        my_model: Net = Net(hidden_units=hidden_units).to(DEVICE)\n",
    "        \n",
    "        for epoch in range(NUM_EPOCHS):\n",
    "            # Training of the model.\n",
    "            # Put model in train mode\n",
    "            my_model.train()\n",
    "\n",
    "            # Set up optimizer\n",
    "            optimizer = torch.optim.SGD(my_model.parameters(), lr=LEARNING_RATE)\n",
    "\n",
    "            # Set up loss function\n",
    "            loss_fn = nn.CrossEntropyLoss()\n",
    "            for X, y in sub_train_loader:\n",
    "                # 1. Move data to device\n",
    "                X = X.to(DEVICE)\n",
    "                y = y.to(DEVICE)\n",
    "\n",
    "                # 2. Forward pass\n",
    "                y_pred = my_model(X)\n",
    "\n",
    "                # 3. Calculate and accumulate loss\n",
    "                loss = loss_fn(y_pred, y)\n",
    "\n",
    "                # 4. Optimizer zero grad\n",
    "                optimizer.zero_grad()\n",
    "\n",
    "                # 5. Loss backward\n",
    "                loss.backward()\n",
    "\n",
    "                # 6. Optimizer step\n",
    "                optimizer.step()\n",
    "\n",
    "        # Validation of the model.\n",
    "        # Put model in eval mode\n",
    "        my_model.eval()\n",
    "        \n",
    "        val_acc = 0\n",
    "        with torch.no_grad():\n",
    "            for X, y in sub_valid_loader:\n",
    "                # 1. Move data to device\n",
    "                X = X.to(DEVICE)\n",
    "                y = y.to(DEVICE)\n",
    "\n",
    "                # 2. Forward pass\n",
    "                y_pred = my_model(X)\n",
    "                \n",
    "                # 3. Compute accuracy\n",
    "                y_pred_class = y_pred.argmax(dim=1)\n",
    "\n",
    "                val_acc += (y_pred_class == y).sum()\n",
    "\n",
    "        scores[fold_idx] = (val_acc / len(sub_valid_data)).cpu()\n",
    "        # bring it back otherwise, np.mean will not work\n",
    "        print(f\"Fold {fold_idx+1}/{n_splits} accuracy: {scores[fold_idx]}\")\n",
    "    \n",
    "    return np.mean(scores)"
   ]
  },
  {
   "cell_type": "markdown",
   "metadata": {},
   "source": [
    "Finally, we will need to call the `optuna.create_study()` function to create a new study, and use the `study.optimize()` function to run the optimization, passing the objective function that we defined earlier.\n",
    "\n",
    "You can find more information about how to use Optuna in the [Optuna documentation](https://optuna.readthedocs.io/en/stable/index.html)."
   ]
  },
  {
   "cell_type": "code",
   "execution_count": 19,
   "metadata": {},
   "outputs": [
    {
     "name": "stderr",
     "output_type": "stream",
     "text": [
      "[I 2024-01-24 16:53:28,106] A new study created in memory with name: no-name-da3ca17a-6579-454b-b950-d140f3ecfd08\n"
     ]
    },
    {
     "name": "stdout",
     "output_type": "stream",
     "text": [
      "New trial\n",
      "Fold 1/3\n"
     ]
    },
    {
     "name": "stdout",
     "output_type": "stream",
     "text": [
      "Fold 1/3 accuracy: 0.491150438785553\n",
      "Fold 2/3\n",
      "Fold 2/3 accuracy: 0.46792036294937134\n",
      "Fold 3/3\n",
      "Fold 3/3 accuracy: 0.4955752193927765\n"
     ]
    },
    {
     "name": "stderr",
     "output_type": "stream",
     "text": [
      "[I 2024-01-24 16:57:25,317] Trial 0 finished with value: 0.4848819971084595 and parameters: {'hidden_units': 35}. Best is trial 0 with value: 0.4848819971084595.\n"
     ]
    },
    {
     "name": "stdout",
     "output_type": "stream",
     "text": [
      "New trial\n",
      "Fold 1/3\n",
      "Fold 1/3 accuracy: 0.3307522237300873\n",
      "Fold 2/3\n",
      "Fold 2/3 accuracy: 0.3451327383518219\n",
      "Fold 3/3\n",
      "Fold 3/3 accuracy: 0.45796459913253784\n"
     ]
    },
    {
     "name": "stderr",
     "output_type": "stream",
     "text": [
      "[I 2024-01-24 17:01:22,737] Trial 1 finished with value: 0.37794986367225647 and parameters: {'hidden_units': 13}. Best is trial 0 with value: 0.4848819971084595.\n"
     ]
    },
    {
     "name": "stdout",
     "output_type": "stream",
     "text": [
      "New trial\n",
      "Fold 1/3\n",
      "Fold 1/3 accuracy: 0.5586283206939697\n",
      "Fold 2/3\n",
      "Fold 2/3 accuracy: 0.4900442361831665\n",
      "Fold 3/3\n",
      "Fold 3/3 accuracy: 0.48672565817832947\n"
     ]
    },
    {
     "name": "stderr",
     "output_type": "stream",
     "text": [
      "[I 2024-01-24 17:05:20,128] Trial 2 finished with value: 0.5117993950843811 and parameters: {'hidden_units': 35}. Best is trial 2 with value: 0.5117993950843811.\n"
     ]
    },
    {
     "name": "stdout",
     "output_type": "stream",
     "text": [
      "New trial\n",
      "Fold 1/3\n",
      "Fold 1/3 accuracy: 0.502212405204773\n",
      "Fold 2/3\n",
      "Fold 2/3 accuracy: 0.3207964599132538\n",
      "Fold 3/3\n",
      "Fold 3/3 accuracy: 0.3384955823421478\n"
     ]
    },
    {
     "name": "stderr",
     "output_type": "stream",
     "text": [
      "[I 2024-01-24 17:09:19,138] Trial 3 finished with value: 0.38716816902160645 and parameters: {'hidden_units': 7}. Best is trial 2 with value: 0.5117993950843811.\n"
     ]
    },
    {
     "name": "stdout",
     "output_type": "stream",
     "text": [
      "New trial\n",
      "Fold 1/3\n",
      "Fold 1/3 accuracy: 0.4933628439903259\n",
      "Fold 2/3\n",
      "Fold 2/3 accuracy: 0.4457964599132538\n",
      "Fold 3/3\n",
      "Fold 3/3 accuracy: 0.5730088353157043\n"
     ]
    },
    {
     "name": "stderr",
     "output_type": "stream",
     "text": [
      "[I 2024-01-24 17:13:24,608] Trial 4 finished with value: 0.5040560364723206 and parameters: {'hidden_units': 47}. Best is trial 2 with value: 0.5117993950843811.\n"
     ]
    },
    {
     "name": "stdout",
     "output_type": "stream",
     "text": [
      "\n",
      "\n",
      "--------------------\n",
      "--------------------\n",
      "--------------------\n",
      "\n",
      "\n",
      "Study statistics: \n",
      "  Number of finished trials:  5\n",
      "  Number of pruned trials:  0\n",
      "  Number of complete trials:  5\n",
      "Best trial:\n",
      "  Value:  0.5117993950843811\n",
      "  Params: \n",
      "\thidden_units: 35\n"
     ]
    }
   ],
   "source": [
    "study = optuna.create_study(direction=\"maximize\")\n",
    "study.optimize(objective, timeout=1200, n_trials=5) \n",
    "# - timeout = 1200 -> stops after 20 minutes;\n",
    "# - n_trials = 5 -> tries 5 different values for the hyperparameter.\n",
    "\n",
    "pruned_trials = [t for t in study.trials if t.state == optuna.trial.TrialState.PRUNED]\n",
    "complete_trials = [t for t in study.trials if t.state == optuna.trial.TrialState.COMPLETE]\n",
    "\n",
    "print(\"\\n\")\n",
    "print(\"--------------------\")\n",
    "print(\"--------------------\")\n",
    "print(\"--------------------\")\n",
    "print(\"\\n\")\n",
    "print(\"Study statistics: \")\n",
    "print(\"  Number of finished trials: \", len(study.trials))\n",
    "print(\"  Number of pruned trials: \", len(pruned_trials))\n",
    "print(\"  Number of complete trials: \", len(complete_trials))\n",
    "\n",
    "print(\"Best trial:\")\n",
    "trial = study.best_trial\n",
    "\n",
    "print(\"  Value: \", trial.value)\n",
    "\n",
    "print(\"  Params: \")\n",
    "for key, value in trial.params.items():\n",
    "    print(f\"\\t{key}: {value}\")"
   ]
  },
  {
   "cell_type": "code",
   "execution_count": 20,
   "metadata": {},
   "outputs": [
    {
     "data": {
      "image/png": "[encoded data removed]",
      "text/plain": [
       "<Figure size 600x400 with 1 Axes>"
      ]
     },
     "metadata": {},
     "output_type": "display_data"
    }
   ],
   "source": [
    "import matplotlib.pyplot as plt\n",
    "\n",
    "hyperparam_values = [t.params['hidden_units'] for t in complete_trials]\n",
    "accuracies = [t.value for t in complete_trials]\n",
    "\n",
    "plt.figure(figsize=(6, 4))\n",
    "plt.scatter(hyperparam_values, accuracies)\n",
    "plt.title('Hyperparameter Optimization Results')\n",
    "plt.xlabel('Value of hidden_units')\n",
    "plt.ylabel('Accuracy')\n",
    "plt.grid(True)\n",
    "plt.show()"
   ]
  },
  {
   "cell_type": "markdown",
   "metadata": {},
   "source": [
    "More neurons on the hidden layers is better (when considering the range 5-50). It makes sense!"
   ]
  },
  {
   "cell_type": "markdown",
   "metadata": {},
   "source": [
    "Few of you might have a problem: we've only allowed 5 trials but `Optuna` tried twice the same trial (unlikely if you set a big range but likely if you only allowed the range [5; 8] for example. An example: https://i.imgur.com/DceMhuf.png). This is because `Optuna` doesn't check if it already has used the previous set of hyperparameters. To fix this, we can add the following code:\n",
    "\n",
    "```py\n",
    "from optuna.trial import TrialState\n",
    "\n",
    "def objective(trial: optuna.trial.Trial) -> float:\n",
    "    for previous_trial in trial.study.trials:\n",
    "        if previous_trial.state == TrialState.COMPLETE and trial.params == previous_trial.params:\n",
    "            print(f\"Duplicated trial: {trial.params}, return {previous_trial.value}\")\n",
    "            return previous_trial.value\n",
    "    ...\n",
    "...\n",
    "```\n",
    "\n",
    "And even setting n_trials to 5000, we won't have optuna running two \"experiments\" with the same hyperparameters."
   ]
  },
  {
   "cell_type": "markdown",
   "metadata": {},
   "source": [
    "Let's add this and let's also optimize on the learning rate, the number of epochs, the use of batch normalisation layers, and the optimizer's choice."
   ]
  },
  {
   "cell_type": "markdown",
   "metadata": {},
   "source": [
    "We also add some manual pruning."
   ]
  },
  {
   "cell_type": "code",
   "execution_count": 15,
   "metadata": {},
   "outputs": [],
   "source": [
    "from optuna.exceptions import TrialPruned\n",
    "from optuna.trial import TrialState\n",
    "\n",
    "def objective(trial: optuna.trial.Trial) -> float:\n",
    "    print(\"New trial\")\n",
    "\n",
    "    for previous_trial in trial.study.trials:\n",
    "        if previous_trial.state == TrialState.COMPLETE and trial.params == previous_trial.params:\n",
    "            print(f\"Duplicated trial: {trial.params}, return {previous_trial.value}\")\n",
    "            return previous_trial.value\n",
    "        \n",
    "    # Set up cross validation\n",
    "    n_splits: int = 3\n",
    "    fold = KFold(n_splits=n_splits, shuffle=True, random_state=0)\n",
    "    scores = [0]*n_splits\n",
    "\n",
    "    # Manual pruning\n",
    "    try:\n",
    "        best_score = trial.study.best_value\n",
    "    except ValueError:\n",
    "        best_score = 0\n",
    "\n",
    "    # Hyperparameters choice\n",
    "    hidden_units: int = trial.suggest_int('hidden_units', 2, 1000)\n",
    "    learning_rate: float = trial.suggest_float('learning_rate', 1e-5, 1e-1, log=True)\n",
    "    optimiser: str = trial.suggest_categorical('optimiser', ['SGD', 'Adam'])\n",
    "    num_epochs: int = trial.suggest_int('epochs', 5, 20)\n",
    "    batch_norm: bool = trial.suggest_categorical('batch_norm', [True, False])\n",
    "    use_conv: bool = trial.suggest_categorical('use_conv', [True, False])\n",
    "\n",
    "    # Loop through data loader data batches\n",
    "    for fold_idx, (train_idx, valid_idx) in enumerate(fold.split(range(len(TRAIN_DATALOADER.dataset)))):\n",
    "        # train_idx and valid_idx are numpy arrays of indices of the training and validation sets for this \n",
    "        # fold respectively.\n",
    "        # They do not contain the actual data, but the indices of the data in the dataset.\n",
    "        # We can use these indices to create a subset of the dataset for this fold with torch.utils.data.Subset.\n",
    "        # Obviously, if an index is in the validation set, it will not be in the training set. You could\n",
    "        # check this by printing train_idx and valid_idx and check by yourself.\n",
    "        \n",
    "        print(f\"Fold {fold_idx+1}/{n_splits}\")\n",
    "\n",
    "        # Create subsets of the dataset for this fold\n",
    "        sub_train_data = torch.utils.data.Subset(TRAIN_DATALOADER.dataset, train_idx)\n",
    "        sub_valid_data = torch.utils.data.Subset(TRAIN_DATALOADER.dataset, valid_idx)\n",
    "\n",
    "        # Create data loaders for this fold\n",
    "        sub_train_loader = torch.utils.data.DataLoader(sub_train_data, batch_size=BATCH_SIZE, shuffle=True)\n",
    "        sub_valid_loader = torch.utils.data.DataLoader(sub_valid_data, batch_size=BATCH_SIZE, shuffle=False)\n",
    "        \n",
    "        # Generate the model.\n",
    "        my_model: Net = Net(\n",
    "            hidden_units=hidden_units,\n",
    "            batch_norm=batch_norm,\n",
    "            use_conv=use_conv\n",
    "        ).to(DEVICE)\n",
    "        \n",
    "        for epoch in range(num_epochs):\n",
    "            # Training of the model.\n",
    "            # Put model in train mode\n",
    "            my_model.train()\n",
    "\n",
    "            # Set up optimizer\n",
    "            if optimiser == 'SGD':\n",
    "                optimizer = torch.optim.SGD(my_model.parameters(), lr=learning_rate)\n",
    "            elif optimiser == 'Adam':\n",
    "                optimizer = torch.optim.Adam(my_model.parameters(), lr=learning_rate)\n",
    "            else:\n",
    "                raise ValueError(f\"Unknown optimiser {optimiser}\")\n",
    "\n",
    "            # Set up loss function\n",
    "            loss_fn = nn.CrossEntropyLoss()\n",
    "            for X, y in sub_train_loader:\n",
    "                # 1. Move data to device\n",
    "                X = X.to(DEVICE)\n",
    "                y = y.to(DEVICE)\n",
    "\n",
    "                # 2. Forward pass\n",
    "                y_pred = my_model(X)\n",
    "\n",
    "                # 3. Calculate and accumulate loss\n",
    "                loss = loss_fn(y_pred, y)\n",
    "\n",
    "                # 4. Optimizer zero grad\n",
    "                optimizer.zero_grad()\n",
    "\n",
    "                # 5. Loss backward\n",
    "                loss.backward()\n",
    "\n",
    "                # 6. Optimizer step\n",
    "                optimizer.step()\n",
    "\n",
    "        # Validation of the model.\n",
    "        # Put model in eval mode\n",
    "        my_model.eval()\n",
    "        \n",
    "        val_acc = 0\n",
    "        with torch.no_grad():\n",
    "            for X, y in sub_valid_loader:\n",
    "                # 1. Move data to device\n",
    "                X = X.to(DEVICE)\n",
    "                y = y.to(DEVICE)\n",
    "\n",
    "                # 2. Forward pass\n",
    "                y_pred = my_model(X)\n",
    "                \n",
    "                # 3. Compute accuracy\n",
    "                y_pred_class = y_pred.argmax(dim=1)\n",
    "\n",
    "                val_acc += (y_pred_class == y).sum()\n",
    "\n",
    "        scores[fold_idx] = (val_acc / len(sub_valid_data)).cpu()\n",
    "        # bring it back otherwise, np.mean will not work\n",
    "        print(f\"Fold {fold_idx+1}/{n_splits} accuracy: {scores[fold_idx]}\")\n",
    "\n",
    "        if fold_idx != 3 and np.mean(scores[:fold_idx+1]) < best_score * 0.8:\n",
    "            print(\"Pruning trial\")\n",
    "            raise TrialPruned()\n",
    "    \n",
    "    return np.mean(scores)"
   ]
  },
  {
   "cell_type": "code",
   "execution_count": 22,
   "metadata": {},
   "outputs": [
    {
     "name": "stderr",
     "output_type": "stream",
     "text": [
      "[I 2024-01-24 17:13:24,823] A new study created in memory with name: no-name-42178576-39a2-4cc2-9850-fcabb00e77ac\n"
     ]
    },
    {
     "name": "stdout",
     "output_type": "stream",
     "text": [
      "New trial\n",
      "Fold 1/3\n",
      "Fold 1/3 accuracy: 0.4845132827758789\n",
      "Fold 2/3\n"
     ]
    },
    {
     "name": "stdout",
     "output_type": "stream",
     "text": [
      "Fold 2/3 accuracy: 0.46681416034698486\n",
      "Fold 3/3\n",
      "Fold 3/3 accuracy: 0.51106196641922\n"
     ]
    },
    {
     "name": "stderr",
     "output_type": "stream",
     "text": [
      "[I 2024-01-24 17:15:17,739] Trial 0 finished with value: 0.4874631464481354 and parameters: {'hidden_units': 512, 'learning_rate': 0.09355584975039935, 'optimiser': 'SGD', 'epochs': 9, 'batch_norm': False, 'use_conv': True}. Best is trial 0 with value: 0.4874631464481354.\n"
     ]
    },
    {
     "name": "stdout",
     "output_type": "stream",
     "text": [
      "New trial\n",
      "Fold 1/3\n",
      "Fold 1/3 accuracy: 0.5719026327133179\n",
      "Fold 2/3\n",
      "Fold 2/3 accuracy: 0.45353981852531433\n",
      "Fold 3/3\n",
      "Fold 3/3 accuracy: 0.3407079577445984\n"
     ]
    },
    {
     "name": "stderr",
     "output_type": "stream",
     "text": [
      "[I 2024-01-24 17:17:27,823] Trial 1 finished with value: 0.45538344979286194 and parameters: {'hidden_units': 505, 'learning_rate': 0.00016838137769516675, 'optimiser': 'Adam', 'epochs': 11, 'batch_norm': True, 'use_conv': False}. Best is trial 0 with value: 0.4874631464481354.\n"
     ]
    },
    {
     "name": "stdout",
     "output_type": "stream",
     "text": [
      "New trial\n",
      "Fold 1/3\n",
      "Fold 1/3 accuracy: 0.3816371560096741\n",
      "Pruning trial\n"
     ]
    },
    {
     "name": "stderr",
     "output_type": "stream",
     "text": [
      "[I 2024-01-24 17:17:57,233] Trial 2 pruned. \n"
     ]
    },
    {
     "name": "stdout",
     "output_type": "stream",
     "text": [
      "New trial\n",
      "Fold 1/3\n",
      "Fold 1/3 accuracy: 0.3539822995662689\n",
      "Pruning trial\n"
     ]
    },
    {
     "name": "stderr",
     "output_type": "stream",
     "text": [
      "[I 2024-01-24 17:19:01,113] Trial 3 pruned. \n"
     ]
    },
    {
     "name": "stdout",
     "output_type": "stream",
     "text": [
      "New trial\n",
      "Fold 1/3\n",
      "Fold 1/3 accuracy: 0.4347345232963562\n",
      "Fold 2/3\n",
      "Fold 2/3 accuracy: 0.40818583965301514\n",
      "Fold 3/3\n",
      "Fold 3/3 accuracy: 0.45796459913253784\n"
     ]
    },
    {
     "name": "stderr",
     "output_type": "stream",
     "text": [
      "[I 2024-01-24 17:22:18,245] Trial 4 finished with value: 0.4336283206939697 and parameters: {'hidden_units': 116, 'learning_rate': 0.0016491804887740504, 'optimiser': 'Adam', 'epochs': 16, 'batch_norm': True, 'use_conv': False}. Best is trial 0 with value: 0.4874631464481354.\n"
     ]
    },
    {
     "name": "stdout",
     "output_type": "stream",
     "text": [
      "New trial\n",
      "Fold 1/3\n",
      "Fold 1/3 accuracy: 0.5851770043373108\n",
      "Fold 2/3\n",
      "Fold 2/3 accuracy: 0.5376105904579163\n",
      "Fold 3/3\n",
      "Fold 3/3 accuracy: 0.5154867172241211\n"
     ]
    },
    {
     "name": "stderr",
     "output_type": "stream",
     "text": [
      "[I 2024-01-24 17:24:34,847] Trial 5 finished with value: 0.5460914373397827 and parameters: {'hidden_units': 510, 'learning_rate': 0.005442452789221053, 'optimiser': 'SGD', 'epochs': 11, 'batch_norm': False, 'use_conv': False}. Best is trial 5 with value: 0.5460914373397827.\n"
     ]
    },
    {
     "name": "stdout",
     "output_type": "stream",
     "text": [
      "New trial\n",
      "Fold 1/3\n",
      "Fold 1/3 accuracy: 0.6404867172241211\n",
      "Fold 2/3\n",
      "Fold 2/3 accuracy: 0.5674778819084167\n",
      "Fold 3/3\n",
      "Fold 3/3 accuracy: 0.5951327681541443\n"
     ]
    },
    {
     "name": "stderr",
     "output_type": "stream",
     "text": [
      "[I 2024-01-24 17:26:55,165] Trial 6 finished with value: 0.6010324954986572 and parameters: {'hidden_units': 933, 'learning_rate': 0.06611720472375109, 'optimiser': 'SGD', 'epochs': 11, 'batch_norm': True, 'use_conv': True}. Best is trial 6 with value: 0.6010324954986572.\n"
     ]
    },
    {
     "name": "stdout",
     "output_type": "stream",
     "text": [
      "New trial\n",
      "Fold 1/3\n",
      "Fold 1/3 accuracy: 0.4756637215614319\n",
      "Pruning trial\n"
     ]
    },
    {
     "name": "stderr",
     "output_type": "stream",
     "text": [
      "[I 2024-01-24 17:27:20,478] Trial 7 pruned. \n"
     ]
    },
    {
     "name": "stdout",
     "output_type": "stream",
     "text": [
      "New trial\n",
      "Fold 1/3\n",
      "Fold 1/3 accuracy: 0.61393803358078\n",
      "Fold 2/3\n",
      "Fold 2/3 accuracy: 0.5696902871131897\n",
      "Fold 3/3\n",
      "Fold 3/3 accuracy: 0.5586283206939697\n"
     ]
    },
    {
     "name": "stderr",
     "output_type": "stream",
     "text": [
      "[I 2024-01-24 17:30:27,740] Trial 8 finished with value: 0.5807521939277649 and parameters: {'hidden_units': 67, 'learning_rate': 0.00017418396488693712, 'optimiser': 'Adam', 'epochs': 15, 'batch_norm': True, 'use_conv': True}. Best is trial 6 with value: 0.6010324954986572.\n"
     ]
    },
    {
     "name": "stdout",
     "output_type": "stream",
     "text": [
      "New trial\n",
      "Fold 1/3\n",
      "Fold 1/3 accuracy: 0.47787609696388245\n",
      "Pruning trial\n"
     ]
    },
    {
     "name": "stderr",
     "output_type": "stream",
     "text": [
      "[I 2024-01-24 17:31:46,406] Trial 9 pruned. \n"
     ]
    },
    {
     "name": "stdout",
     "output_type": "stream",
     "text": [
      "New trial\n",
      "Fold 1/3\n",
      "Fold 1/3 accuracy: 0.4900442361831665\n",
      "Fold 2/3\n",
      "Fold 2/3 accuracy: 0.5099557638168335\n",
      "Fold 3/3\n",
      "Fold 3/3 accuracy: 0.5\n"
     ]
    },
    {
     "name": "stderr",
     "output_type": "stream",
     "text": [
      "[I 2024-01-24 17:34:26,332] Trial 10 finished with value: 0.5 and parameters: {'hidden_units': 974, 'learning_rate': 0.0925619145888395, 'optimiser': 'SGD', 'epochs': 13, 'batch_norm': False, 'use_conv': True}. Best is trial 6 with value: 0.6010324954986572.\n"
     ]
    },
    {
     "name": "stdout",
     "output_type": "stream",
     "text": [
      "New trial\n",
      "Fold 1/3\n",
      "Fold 1/3 accuracy: 0.6183628439903259\n",
      "Fold 2/3\n",
      "Fold 2/3 accuracy: 0.5508849620819092\n",
      "Fold 3/3\n",
      "Fold 3/3 accuracy: 0.605088472366333\n"
     ]
    },
    {
     "name": "stderr",
     "output_type": "stream",
     "text": [
      "[I 2024-01-24 17:37:14,898] Trial 11 finished with value: 0.5914454460144043 and parameters: {'hidden_units': 5, 'learning_rate': 0.0009692584483894264, 'optimiser': 'SGD', 'epochs': 14, 'batch_norm': True, 'use_conv': True}. Best is trial 6 with value: 0.6010324954986572.\n"
     ]
    },
    {
     "name": "stdout",
     "output_type": "stream",
     "text": [
      "New trial\n",
      "Fold 1/3\n",
      "Fold 1/3 accuracy: 0.6780973672866821\n",
      "Fold 2/3\n",
      "Fold 2/3 accuracy: 0.5741150379180908\n",
      "Fold 3/3\n",
      "Fold 3/3 accuracy: 0.587389349937439\n"
     ]
    },
    {
     "name": "stderr",
     "output_type": "stream",
     "text": [
      "[I 2024-01-24 17:39:53,215] Trial 12 finished with value: 0.6132006049156189 and parameters: {'hidden_units': 765, 'learning_rate': 0.012538294328980867, 'optimiser': 'SGD', 'epochs': 13, 'batch_norm': True, 'use_conv': True}. Best is trial 12 with value: 0.6132006049156189.\n"
     ]
    },
    {
     "name": "stdout",
     "output_type": "stream",
     "text": [
      "New trial\n",
      "Fold 1/3\n",
      "Fold 1/3 accuracy: 0.5840708017349243\n",
      "Fold 2/3\n",
      "Fold 2/3 accuracy: 0.6039822697639465\n",
      "Fold 3/3\n",
      "Fold 3/3 accuracy: 0.5619469285011292\n"
     ]
    },
    {
     "name": "stderr",
     "output_type": "stream",
     "text": [
      "[I 2024-01-24 17:41:41,756] Trial 13 finished with value: 0.5833333134651184 and parameters: {'hidden_units': 758, 'learning_rate': 0.019582358794608987, 'optimiser': 'SGD', 'epochs': 9, 'batch_norm': True, 'use_conv': True}. Best is trial 12 with value: 0.6132006049156189.\n"
     ]
    },
    {
     "name": "stdout",
     "output_type": "stream",
     "text": [
      "New trial\n",
      "Fold 1/3\n",
      "Fold 1/3 accuracy: 0.6106194853782654\n",
      "Fold 2/3\n",
      "Fold 2/3 accuracy: 0.5685840845108032\n",
      "Fold 3/3\n",
      "Fold 3/3 accuracy: 0.6460176706314087\n"
     ]
    },
    {
     "name": "stderr",
     "output_type": "stream",
     "text": [
      "[I 2024-01-24 17:45:42,027] Trial 14 finished with value: 0.6084070801734924 and parameters: {'hidden_units': 1000, 'learning_rate': 0.021351853678917718, 'optimiser': 'SGD', 'epochs': 20, 'batch_norm': True, 'use_conv': True}. Best is trial 12 with value: 0.6132006049156189.\n"
     ]
    },
    {
     "name": "stdout",
     "output_type": "stream",
     "text": [
      "New trial\n",
      "Fold 1/3\n",
      "Fold 1/3 accuracy: 0.5785398483276367\n",
      "Fold 2/3\n",
      "Fold 2/3 accuracy: 0.6404867172241211\n",
      "Fold 3/3\n",
      "Fold 3/3 accuracy: 0.625\n"
     ]
    },
    {
     "name": "stderr",
     "output_type": "stream",
     "text": [
      "[I 2024-01-24 17:49:28,071] Trial 15 finished with value: 0.6146755218505859 and parameters: {'hidden_units': 720, 'learning_rate': 0.01394186310093245, 'optimiser': 'SGD', 'epochs': 19, 'batch_norm': True, 'use_conv': True}. Best is trial 15 with value: 0.6146755218505859.\n"
     ]
    },
    {
     "name": "stdout",
     "output_type": "stream",
     "text": [
      "New trial\n",
      "Fold 1/3\n",
      "Fold 1/3 accuracy: 0.625\n",
      "Fold 2/3\n",
      "Fold 2/3 accuracy: 0.6006637215614319\n",
      "Fold 3/3\n",
      "Fold 3/3 accuracy: 0.6382743120193481\n"
     ]
    },
    {
     "name": "stderr",
     "output_type": "stream",
     "text": [
      "[I 2024-01-24 17:53:05,107] Trial 16 finished with value: 0.62131267786026 and parameters: {'hidden_units': 708, 'learning_rate': 0.0025117979540939185, 'optimiser': 'SGD', 'epochs': 18, 'batch_norm': True, 'use_conv': True}. Best is trial 16 with value: 0.62131267786026.\n"
     ]
    },
    {
     "name": "stdout",
     "output_type": "stream",
     "text": [
      "New trial\n",
      "Fold 1/3\n",
      "Fold 1/3 accuracy: 0.63606196641922\n",
      "Fold 2/3\n",
      "Fold 2/3 accuracy: 0.6106194853782654\n",
      "Fold 3/3\n",
      "Fold 3/3 accuracy: 0.6460176706314087\n"
     ]
    },
    {
     "name": "stderr",
     "output_type": "stream",
     "text": [
      "[I 2024-01-24 17:56:39,114] Trial 17 finished with value: 0.6308997273445129 and parameters: {'hidden_units': 755, 'learning_rate': 0.0018506196416439946, 'optimiser': 'SGD', 'epochs': 18, 'batch_norm': True, 'use_conv': True}. Best is trial 17 with value: 0.6308997273445129.\n"
     ]
    },
    {
     "name": "stdout",
     "output_type": "stream",
     "text": [
      "New trial\n",
      "Fold 1/3\n",
      "Fold 1/3 accuracy: 0.5851770043373108\n",
      "Fold 2/3\n",
      "Fold 2/3 accuracy: 0.5630530714988708\n",
      "Fold 3/3\n",
      "Fold 3/3 accuracy: 0.5652654767036438\n"
     ]
    },
    {
     "name": "stderr",
     "output_type": "stream",
     "text": [
      "[I 2024-01-24 18:00:15,942] Trial 18 finished with value: 0.571165144443512 and parameters: {'hidden_units': 669, 'learning_rate': 0.0011441624742049871, 'optimiser': 'SGD', 'epochs': 18, 'batch_norm': False, 'use_conv': False}. Best is trial 17 with value: 0.6308997273445129.\n"
     ]
    },
    {
     "name": "stdout",
     "output_type": "stream",
     "text": [
      "New trial\n",
      "Fold 1/3\n",
      "Fold 1/3 accuracy: 0.6504424810409546\n",
      "Fold 2/3\n",
      "Fold 2/3 accuracy: 0.6205751895904541\n",
      "Fold 3/3\n",
      "Fold 3/3 accuracy: 0.6183628439903259\n"
     ]
    },
    {
     "name": "stderr",
     "output_type": "stream",
     "text": [
      "[I 2024-01-24 18:03:41,401] Trial 19 finished with value: 0.6297934651374817 and parameters: {'hidden_units': 352, 'learning_rate': 0.0028654316302983963, 'optimiser': 'SGD', 'epochs': 17, 'batch_norm': True, 'use_conv': True}. Best is trial 17 with value: 0.6308997273445129.\n"
     ]
    },
    {
     "name": "stdout",
     "output_type": "stream",
     "text": [
      "\n",
      "\n",
      "--------------------\n",
      "--------------------\n",
      "--------------------\n",
      "\n",
      "\n",
      "Study statistics: \n",
      "  Number of finished trials:  20\n",
      "  Number of pruned trials:  4\n",
      "  Number of complete trials:  16\n",
      "Best trial:\n",
      "  Value:  0.6308997273445129\n",
      "  Params: \n",
      "\thidden_units: 755\n",
      "\tlearning_rate: 0.0018506196416439946\n",
      "\toptimiser: SGD\n",
      "\tepochs: 18\n",
      "\tbatch_norm: True\n",
      "\tuse_conv: True\n"
     ]
    }
   ],
   "source": [
    "study = optuna.create_study(direction=\"maximize\")\n",
    "study.optimize(objective, timeout=3600, n_trials=20) \n",
    "# - timeout = 3600 -> stops after 60 minutes;\n",
    "# - n_trials = 20 -> tries 20 different values for the hyperparameter.\n",
    "\n",
    "pruned_trials = [t for t in study.trials if t.state == optuna.trial.TrialState.PRUNED]\n",
    "complete_trials = [t for t in study.trials if t.state == optuna.trial.TrialState.COMPLETE]\n",
    "\n",
    "print(\"\\n\")\n",
    "print(\"--------------------\")\n",
    "print(\"--------------------\")\n",
    "print(\"--------------------\")\n",
    "print(\"\\n\")\n",
    "print(\"Study statistics: \")\n",
    "print(\"  Number of finished trials: \", len(study.trials))\n",
    "print(\"  Number of pruned trials: \", len(pruned_trials))\n",
    "print(\"  Number of complete trials: \", len(complete_trials))\n",
    "\n",
    "print(\"Best trial:\")\n",
    "trial = study.best_trial\n",
    "\n",
    "print(\"  Value: \", trial.value)\n",
    "\n",
    "print(\"  Params: \")\n",
    "for key, value in trial.params.items():\n",
    "    print(f\"\\t{key}: {value}\")"
   ]
  },
  {
   "cell_type": "markdown",
   "metadata": {},
   "source": [
    "Let's now train the whole model with the optimal hyperparameters that we found with Optuna. We will use the `study.best_params` attribute to get the best hyperparameters. You need to re-train on the whole training dataset!!! Otherwise, you will not get the best accuracy as you're leaving out some data."
   ]
  },
  {
   "cell_type": "code",
   "execution_count": null,
   "metadata": {},
   "outputs": [],
   "source": [
    "study.best_params  # display the best hyperparameters"
   ]
  },
  {
   "cell_type": "code",
   "execution_count": 16,
   "metadata": {},
   "outputs": [],
   "source": [
    "# Create model\n",
    "MODEL: Net = Net(hidden_units=755, batch_norm = True, use_conv = True).to(DEVICE)\n",
    "\n",
    "# Set number of epochs\n",
    "NUM_EPOCHS = 18"
   ]
  },
  {
   "cell_type": "code",
   "execution_count": 17,
   "metadata": {},
   "outputs": [
    {
     "name": "stdout",
     "output_type": "stream",
     "text": [
      "Net(\n",
      "  (conv1): Conv2d(3, 16, kernel_size=(3, 3), stride=(1, 1), padding=(1, 1))\n",
      "  (conv2): Conv2d(16, 32, kernel_size=(3, 3), stride=(1, 1), padding=(1, 1))\n",
      "  (bn1): BatchNorm2d(16, eps=1e-05, momentum=0.1, affine=True, track_running_stats=True)\n",
      "  (bn2): BatchNorm2d(32, eps=1e-05, momentum=0.1, affine=True, track_running_stats=True)\n",
      "  (fc1): Linear(in_features=32768, out_features=755, bias=True)\n",
      "  (fc2): Linear(in_features=755, out_features=3, bias=True)\n",
      ")\n"
     ]
    }
   ],
   "source": [
    "print(MODEL)"
   ]
  },
  {
   "cell_type": "code",
   "execution_count": 18,
   "metadata": {},
   "outputs": [
    {
     "name": "stdout",
     "output_type": "stream",
     "text": [
      "epoch 1/18, train_loss = 2.33e-03, train_acc = 46.39%, time spent during this epoch = 25.24s, total time spent = 25.24s\n",
      "epoch 2/18, train_loss = 2.15e-03, train_acc = 57.04%, time spent during this epoch = 19.43s, total time spent = 44.67s\n",
      "epoch 3/18, train_loss = 2.04e-03, train_acc = 56.97%, time spent during this epoch = 19.14s, total time spent = 63.82s\n",
      "epoch 4/18, train_loss = 1.98e-03, train_acc = 59.66%, time spent during this epoch = 21.58s, total time spent = 85.40s\n",
      "epoch 5/18, train_loss = 1.94e-03, train_acc = 60.99%, time spent during this epoch = 20.46s, total time spent = 105.86s\n",
      "epoch 6/18, train_loss = 1.87e-03, train_acc = 62.54%, time spent during this epoch = 21.11s, total time spent = 126.97s\n",
      "epoch 7/18, train_loss = 1.83e-03, train_acc = 63.13%, time spent during this epoch = 19.34s, total time spent = 146.30s\n",
      "epoch 8/18, train_loss = 1.83e-03, train_acc = 63.13%, time spent during this epoch = 20.06s, total time spent = 166.37s\n",
      "epoch 9/18, train_loss = 1.80e-03, train_acc = 64.60%, time spent during this epoch = 19.96s, total time spent = 186.33s\n",
      "epoch 10/18, train_loss = 1.79e-03, train_acc = 64.60%, time spent during this epoch = 21.76s, total time spent = 208.09s\n",
      "epoch 11/18, train_loss = 1.80e-03, train_acc = 64.53%, time spent during this epoch = 20.01s, total time spent = 228.10s\n",
      "epoch 12/18, train_loss = 1.76e-03, train_acc = 65.89%, time spent during this epoch = 20.02s, total time spent = 248.13s\n",
      "epoch 13/18, train_loss = 1.75e-03, train_acc = 64.53%, time spent during this epoch = 20.02s, total time spent = 268.15s\n",
      "epoch 14/18, train_loss = 1.74e-03, train_acc = 65.52%, time spent during this epoch = 20.45s, total time spent = 288.60s\n",
      "epoch 15/18, train_loss = 1.71e-03, train_acc = 66.70%, time spent during this epoch = 21.60s, total time spent = 310.21s\n",
      "epoch 16/18, train_loss = 1.71e-03, train_acc = 66.37%, time spent during this epoch = 21.61s, total time spent = 331.81s\n",
      "epoch 17/18, train_loss = 1.68e-03, train_acc = 67.29%, time spent during this epoch = 19.21s, total time spent = 351.03s\n",
      "epoch 18/18, train_loss = 1.68e-03, train_acc = 67.88%, time spent during this epoch = 20.94s, total time spent = 371.96s\n"
     ]
    }
   ],
   "source": [
    "main_train(nn.CrossEntropyLoss(), torch.optim.SGD(MODEL.parameters(), lr=0.0018506196416439946))"
   ]
  },
  {
   "cell_type": "code",
   "execution_count": 19,
   "metadata": {},
   "outputs": [
    {
     "data": {
      "text/plain": [
       "0.6129754185676575"
      ]
     },
     "execution_count": 19,
     "metadata": {},
     "output_type": "execute_result"
    }
   ],
   "source": [
    "test_our_model()"
   ]
  },
  {
   "cell_type": "markdown",
   "metadata": {},
   "source": [
    "Our performance went up by 10%! (Only 20 trials of hyperparameter optimisation)"
   ]
  }
 ],
 "metadata": {
  "kernelspec": {
   "display_name": "Python 3",
   "language": "python",
   "name": "python3"
  },
  "language_info": {
   "codemirror_mode": {
    "name": "ipython",
    "version": 3
   },
   "file_extension": ".py",
   "mimetype": "text/x-python",
   "name": "python",
   "nbconvert_exporter": "python",
   "pygments_lexer": "ipython3",
   "version": "3.8.10"
  },
  "vscode": {
   "interpreter": {
    "hash": "a61f982c8ae83496d3304782998ac96a47f5fcf9bfc174247e19a8162c5490e4"
   }
  }
 },
 "nbformat": 4,
 "nbformat_minor": 1
}
