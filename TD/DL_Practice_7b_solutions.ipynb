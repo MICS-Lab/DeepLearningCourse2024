{
 "cells": [
  {
   "cell_type": "markdown",
   "metadata": {},
   "source": [
    "# Hyperparameters optimisation\n",
    "## TD 7b"
   ]
  },
  {
   "cell_type": "markdown",
   "metadata": {},
   "source": [
    "We are essentially going to use the same `Food101` ([credit where it's due](https://data.vision.ee.ethz.ch/cvl/datasets_extra/food-101/)) data, the same object `ImageDataset`, the same `DataLoader`.\n",
    "\n",
    "The code below is mainly a copy of the code from the previous TD, except that global variables are now defined separately and everything is wrapped in different functions. This is to make it easier to train the same model with different hyperparameters and architectures, etc ..."
   ]
  },
  {
   "cell_type": "markdown",
   "metadata": {},
   "source": [
    "For those that can use their GPUs or are on DCEJS, all the necessary `.to(device)` are already in the code.\n",
    "\n",
    "If, for some reason, you encounter this error: `OutOfMemoryError: CUDA out of memory.`, it means that your GPU does not have enough memory to run the model. You can try to reduce the batch size, or the number of neurons in the network, or the number of layers in the network, or the number of filters in the convolutional layers, etc ..."
   ]
  },
  {
   "cell_type": "code",
   "execution_count": 1,
   "metadata": {},
   "outputs": [
    {
     "name": "stderr",
     "output_type": "stream",
     "text": [
      "/usr/local/lib/python3.8/dist-packages/tqdm/auto.py:21: TqdmWarning: IProgress not found. Please update jupyter and ipywidgets. See https://ipywidgets.readthedocs.io/en/stable/user_install.html\n",
      "  from .autonotebook import tqdm as notebook_tqdm\n"
     ]
    }
   ],
   "source": [
    "# Imports\n",
    "\n",
    "from __future__ import annotations\n",
    "import matplotlib.pyplot as plt\n",
    "import numpy as np\n",
    "import torch\n",
    "import torch.nn as nn\n",
    "import pathlib\n",
    "import time\n",
    "from torch.utils.data import DataLoader\n",
    "from torchvision import datasets, transforms\n",
    "\n",
    "# Set the random seed for reproducibility\n",
    "_ = torch.manual_seed(25)"
   ]
  },
  {
   "cell_type": "markdown",
   "metadata": {},
   "source": [
    "You can set the `flush` parameter to `True` for all `print()` statements in `Python` by overriding the built-in `print()` function using the `functools.partial()` method. An example of this is:\n",
    "\n",
    "```py\n",
    "from functools import partial\n",
    "print = partial(print, flush=True)\n",
    "```\n",
    "\n",
    "We will use this to make sure that the outputs are printed in the correct order and at the correct time (for more info about why we are doing this, check [this link](https://www.includehelp.com/python/flush-parameter-in-python-with-print-function.aspx))."
   ]
  },
  {
   "cell_type": "code",
   "execution_count": 2,
   "metadata": {},
   "outputs": [],
   "source": [
    "from functools import partial\n",
    "print = partial(print, flush=True)"
   ]
  },
  {
   "cell_type": "code",
   "execution_count": 3,
   "metadata": {},
   "outputs": [
    {
     "name": "stdout",
     "output_type": "stream",
     "text": [
      "Using cuda device\n"
     ]
    }
   ],
   "source": [
    "# Global variables\n",
    "\n",
    "# Setup device-agnostic code\n",
    "DEVICE = \"cuda\" if torch.cuda.is_available() else \"cpu\"\n",
    "print(f\"Using {DEVICE} device\")\n",
    "\n",
    "# Batch size\n",
    "BATCH_SIZE = 512\n",
    "\n",
    "# Learning rate\n",
    "LEARNING_RATE = 2e-2\n",
    "\n",
    "# Number of epochs\n",
    "NUM_EPOCHS = 20\n",
    "\n",
    "# Number of classes\n",
    "NUM_CLASSES = 3\n",
    "\n",
    "# Image size\n",
    "IMAGE_SIZE = 128"
   ]
  },
  {
   "cell_type": "code",
   "execution_count": 4,
   "metadata": {},
   "outputs": [],
   "source": [
    "def get_datasets_and_dataloaders(\n",
    "    batch_size: int = 4\n",
    ") -> tuple[\n",
    "    DataLoader, \n",
    "    DataLoader\n",
    "]:\n",
    "    \"\"\"\n",
    "    Load the training and test datasets into data loaders.\n",
    "    \"\"\"\n",
    "    data_dir = pathlib.Path(\".\")\n",
    "    train_dir = data_dir / \"Food-3\" / \"train\"\n",
    "    test_dir = data_dir / \"Food-3\" / \"test\"\n",
    "\n",
    "    data_transform_train = transforms.Compose(\n",
    "        [\n",
    "            transforms.Resize(size=(IMAGE_SIZE, IMAGE_SIZE)),  # Resize the images to 128x128\n",
    "            transforms.ToTensor(),  # Convert the images to tensors\n",
    "            transforms.RandomHorizontalFlip(p=0.5),  # Flip the images horizontally with probability 0.5\n",
    "        ]\n",
    "    )\n",
    "    data_transform_test = transforms.Compose(\n",
    "        [\n",
    "            transforms.Resize(size=(IMAGE_SIZE, IMAGE_SIZE)),  # Resize the images to 128x128\n",
    "            transforms.ToTensor(),  # Convert the images to tensors\n",
    "        ]\n",
    "    )\n",
    "\n",
    "    train_data = datasets.ImageFolder(\n",
    "        root=train_dir,  # target folder of images\n",
    "        transform=data_transform_train,  # transforms to perform on data (images)\n",
    "        target_transform=None  # transforms to perform on labels (if necessary)\n",
    "    ) \n",
    "\n",
    "    test_data = datasets.ImageFolder(\n",
    "        root=test_dir,\n",
    "        transform=data_transform_test\n",
    "    )\n",
    "\n",
    "    train_dataloader = DataLoader(\n",
    "        dataset=train_data,\n",
    "        batch_size=batch_size,  # how many samples per batch?\n",
    "        shuffle=True  # shuffle the data?\n",
    "    )\n",
    "\n",
    "    test_dataloader = DataLoader(\n",
    "        dataset=test_data,\n",
    "        batch_size=batch_size,\n",
    "        shuffle=False\n",
    "    ) # don't usually need to shuffle testing data\n",
    "\n",
    "\n",
    "    return train_dataloader, test_dataloader"
   ]
  },
  {
   "cell_type": "code",
   "execution_count": 5,
   "metadata": {},
   "outputs": [],
   "source": [
    "# Load dataloaders in global variables\n",
    "TRAIN_DATALOADER, TEST_DATALOADER = get_datasets_and_dataloaders(BATCH_SIZE)"
   ]
  },
  {
   "cell_type": "code",
   "execution_count": 6,
   "metadata": {},
   "outputs": [
    {
     "name": "stdout",
     "output_type": "stream",
     "text": [
      "Dataset ImageFolder\n",
      "    Number of datapoints: 2712\n",
      "    Root location: Food-3/train\n",
      "    StandardTransform\n",
      "Transform: Compose(\n",
      "               Resize(size=(128, 128), interpolation=bilinear, max_size=None, antialias=None)\n",
      "               ToTensor()\n",
      "               RandomHorizontalFlip(p=0.5)\n",
      "           )\n",
      "---\n",
      "Dataset ImageFolder\n",
      "    Number of datapoints: 447\n",
      "    Root location: Food-3/test\n",
      "    StandardTransform\n",
      "Transform: Compose(\n",
      "               Resize(size=(128, 128), interpolation=bilinear, max_size=None, antialias=None)\n",
      "               ToTensor()\n",
      "           )\n"
     ]
    }
   ],
   "source": [
    "# How can we get the datasets? Did we lose them? No\n",
    "print(TRAIN_DATALOADER.dataset)\n",
    "print(\"---\")\n",
    "print(TEST_DATALOADER.dataset)"
   ]
  },
  {
   "cell_type": "code",
   "execution_count": 7,
   "metadata": {},
   "outputs": [
    {
     "data": {
      "text/plain": [
       "tensor([[ 6.,  8.],\n",
       "        [14., 16.]])"
      ]
     },
     "execution_count": 7,
     "metadata": {},
     "output_type": "execute_result"
    }
   ],
   "source": [
    "import torch.nn.functional as F\n",
    "\n",
    "example_tensor = torch.tensor([[1, 2, 3, 4],\n",
    "                               [5, 6, 7, 8],\n",
    "                               [9, 10, 11, 12],\n",
    "                               [13, 14, 15, 16]], dtype=torch.float32)\n",
    "\n",
    "# First let's go to our configuration: tensor of shape (batch_size, channels, height, width)\n",
    "example_tensor = example_tensor.unsqueeze(0).unsqueeze(0)  # We add the ones: (1, 1, 4, 4)\n",
    "\n",
    "# Applying max_pool2d with a 2x2 kernel\n",
    "pooled_tensor = F.max_pool2d(example_tensor, kernel_size=2)\n",
    "\n",
    "# Reshaping back to a simple 2D tensor for easy visualization\n",
    "pooled_tensor = pooled_tensor.squeeze()  # We remove the ones (2, 2)\n",
    "\n",
    "pooled_tensor"
   ]
  },
  {
   "cell_type": "code",
   "execution_count": 8,
   "metadata": {},
   "outputs": [],
   "source": [
    "class Net(nn.Module):\n",
    "    def __init__(\n",
    "        self,\n",
    "        hidden_units: int = 200,\n",
    "        batch_norm: bool = False,\n",
    "        use_conv: bool = False\n",
    "    ):\n",
    "        super(Net, self).__init__()\n",
    "        self.use_conv = use_conv\n",
    "        self.batch_norm = batch_norm\n",
    "\n",
    "        if use_conv:\n",
    "            self.conv1 = nn.Conv2d(3, 16, kernel_size=3, stride=1, padding=1)\n",
    "            self.conv2 = nn.Conv2d(16, 32, kernel_size=3, stride=1, padding=1)\n",
    "\n",
    "            if batch_norm:\n",
    "                self.bn1 = nn.BatchNorm2d(16)\n",
    "                self.bn2 = nn.BatchNorm2d(32)\n",
    "\n",
    "            conv_output_size = IMAGE_SIZE // 4  # we will add two poolings of size (2, 2)\n",
    "\n",
    "            self.fc1 = nn.Linear(32 * conv_output_size * conv_output_size, hidden_units)\n",
    "        else:\n",
    "            self.fc1 = nn.Linear(IMAGE_SIZE * IMAGE_SIZE * 3, hidden_units)\n",
    "            self.bn1 = nn.BatchNorm1d(hidden_units)\n",
    "\n",
    "        # Shared layers\n",
    "        self.fc2 = nn.Linear(hidden_units, NUM_CLASSES)\n",
    "\n",
    "    def forward(self, x):\n",
    "        if self.use_conv:\n",
    "            x = self.conv1(x)\n",
    "            if self.batch_norm:\n",
    "                x = self.bn1(x)\n",
    "            x = nn.ReLU()(x)\n",
    "            x = F.max_pool2d(x, 2)\n",
    "\n",
    "            x = self.conv2(x)\n",
    "            if self.batch_norm:\n",
    "                x = self.bn2(x)\n",
    "            x = nn.ReLU()(x)\n",
    "            x = F.max_pool2d(x, 2)\n",
    "\n",
    "            # Flatten the features for the fully connected layer\n",
    "            x = x.view(x.size(0), -1)\n",
    "\n",
    "            x = self.fc1(x)\n",
    "            x = nn.ReLU()(x)\n",
    "\n",
    "        else:\n",
    "            # Flatten in the beginning for the fully connected layer\n",
    "            x = x.view(x.size(0), -1)\n",
    "            x = self.fc1(x)\n",
    "            if self.batch_norm:\n",
    "                x = self.bn1(x)\n",
    "            x = nn.ReLU()(x)\n",
    "\n",
    "        x = self.fc2(x)\n",
    "        return x"
   ]
  },
  {
   "cell_type": "markdown",
   "metadata": {},
   "source": [
    "---\n",
    "\n",
    "Why does it not work with `x = x.view(BATCH_SIZE, -1)`?\n",
    "\n",
    "---"
   ]
  },
  {
   "cell_type": "code",
   "execution_count": 9,
   "metadata": {},
   "outputs": [],
   "source": [
    "# Create model\n",
    "MODEL: Net = Net(hidden_units=200).to(DEVICE)"
   ]
  },
  {
   "cell_type": "code",
   "execution_count": 10,
   "metadata": {},
   "outputs": [],
   "source": [
    "def test_our_model() -> float:\n",
    "    # 0. Put model in eval mode\n",
    "    MODEL.eval()  # to remove stuff like dropout that's only going to be in the training part\n",
    "\n",
    "    # 1. Setup test accuracy value\n",
    "    test_acc: float = 0\n",
    "\n",
    "    # 2. Turn on inference context manager\n",
    "    with torch.no_grad():\n",
    "        # Loop through DataLoader batches\n",
    "        for X_test, y_test in TEST_DATALOADER:  # majuscule à X car c'est une \"matrice\", et y un entier\n",
    "            # a. Move data to device and no need to reshape since it's done in MODEL definition\n",
    "            X_test_flattened = X_test.to(DEVICE) \n",
    "            y_test = y_test.to(DEVICE)\n",
    "\n",
    "            # b. Forward pass\n",
    "            model_output = MODEL(X_test_flattened)\n",
    "\n",
    "            # c. Calculate and accumulate accuracy\n",
    "            test_pred_label = model_output.argmax(dim=1)\n",
    "            test_acc += (test_pred_label == y_test).sum()\n",
    "\n",
    "    # Adjust metrics to get average loss and accuracy per batch\n",
    "    test_acc = test_acc / (len(TEST_DATALOADER.dataset))\n",
    "    return test_acc.item()"
   ]
  },
  {
   "cell_type": "code",
   "execution_count": 11,
   "metadata": {},
   "outputs": [
    {
     "name": "stdout",
     "output_type": "stream",
     "text": [
      "30.20%\n"
     ]
    }
   ],
   "source": [
    "# Test our untrained model\n",
    "print((f\"{100*test_our_model():.2f}%\"))"
   ]
  },
  {
   "cell_type": "markdown",
   "metadata": {},
   "source": [
    "You should get 30.20% accuracy on the testing set without training and with the default hyperparameters if you used the same seed. Close enough to 33% which is the expected accuracy for a random classifier."
   ]
  },
  {
   "cell_type": "markdown",
   "metadata": {},
   "source": [
    "We can plot some images like last time"
   ]
  },
  {
   "cell_type": "code",
   "execution_count": 12,
   "metadata": {},
   "outputs": [
    {
     "name": "stdout",
     "output_type": "stream",
     "text": [
      "torch.Size([3, 128, 128])\n",
      "torch.Size([128, 128, 3])\n"
     ]
    },
    {
     "data": {
      "text/plain": [
       "Text(0.5, 1.0, 'pizza')"
      ]
     },
     "execution_count": 12,
     "metadata": {},
     "output_type": "execute_result"
    },
    {
     "data": {
      "image/png": "[encoded data removed]",
      "text/plain": [
       "<Figure size 1000x700 with 1 Axes>"
      ]
     },
     "metadata": {},
     "output_type": "display_data"
    }
   ],
   "source": [
    "# Get the tensors and put them in the right dimensions for matplotlib\n",
    "my_pizza = TRAIN_DATALOADER.dataset[0][0]\n",
    "my_label = TRAIN_DATALOADER.dataset[0][1]\n",
    "print(my_pizza.shape)\n",
    "my_pizza_reshaped = my_pizza.permute(1, 2, 0)\n",
    "print(my_pizza_reshaped.shape)\n",
    "\n",
    "# Plot the image\n",
    "plt.figure(figsize=(10, 7))\n",
    "plt.imshow(my_pizza_reshaped)\n",
    "plt.axis(\"off\")\n",
    "plt.title(TRAIN_DATALOADER.dataset.classes[my_label], fontsize=14)"
   ]
  },
  {
   "cell_type": "markdown",
   "metadata": {},
   "source": [
    "Let's do the training loop now"
   ]
  },
  {
   "cell_type": "code",
   "execution_count": 13,
   "metadata": {},
   "outputs": [],
   "source": [
    "def main_train(loss_fn, optimizer) -> None:\n",
    "    \"\"\"\n",
    "    Train the model and modified the trained model inplace.\n",
    "    \"\"\"\n",
    "    start_time_global = time.time()\n",
    "\n",
    "    # Put model in train mode\n",
    "    MODEL.train()\n",
    "\n",
    "    # Loop through data loader data batches\n",
    "    for epoch in range(NUM_EPOCHS):\n",
    "        start_time_epoch = time.time()\n",
    "\n",
    "        # Setup train loss and train accuracy values\n",
    "        train_loss, train_acc = 0, 0\n",
    "\n",
    "        for X, y in TRAIN_DATALOADER:\n",
    "            # 0. Move data to device\n",
    "            X = X.to(DEVICE)\n",
    "            y = y.to(DEVICE)\n",
    "\n",
    "            # 1. Forward pass\n",
    "            y_pred = MODEL(X)\n",
    "\n",
    "            # 2. Calculate and accumulate loss\n",
    "            loss = loss_fn(y_pred, y)\n",
    "            train_loss += loss.item()\n",
    "\n",
    "            # 3. Optimizer zero grad\n",
    "            optimizer.zero_grad()\n",
    "\n",
    "            # 4. Loss backward\n",
    "            loss.backward()\n",
    "\n",
    "            # 5. Optimizer step\n",
    "            optimizer.step()\n",
    "\n",
    "            # Calculate and accumulate accuracy metric across all batches\n",
    "            y_pred_class = y_pred.argmax(dim=1)\n",
    "            train_acc += (y_pred_class == y).sum()\n",
    "\n",
    "        # Adjust metrics to get average loss and accuracy per batch\n",
    "        train_loss = train_loss / (len(TRAIN_DATALOADER.dataset))\n",
    "        train_acc = train_acc / (len(TRAIN_DATALOADER.dataset))\n",
    "        print(\n",
    "            f\"epoch {epoch+1}/{NUM_EPOCHS},\"\n",
    "            f\" train_loss = {train_loss:.2e},\"\n",
    "            f\" train_acc = {100*train_acc.item():.2f}%,\"\n",
    "            f\" time spent during this epoch = {time.time() - start_time_epoch:.2f}s,\"\n",
    "            f\" total time spent = {time.time() - start_time_global:.2f}s\"\n",
    "        )"
   ]
  },
  {
   "cell_type": "code",
   "execution_count": 14,
   "metadata": {},
   "outputs": [
    {
     "name": "stdout",
     "output_type": "stream",
     "text": [
      "epoch 1/20, train_loss = 2.66e-03, train_acc = 37.94%, time spent during this epoch = 35.32s, total time spent = 35.32s\n",
      "epoch 2/20, train_loss = 2.34e-03, train_acc = 42.15%, time spent during this epoch = 8.85s, total time spent = 44.16s\n",
      "epoch 3/20, train_loss = 2.24e-03, train_acc = 47.68%, time spent during this epoch = 6.44s, total time spent = 50.60s\n",
      "epoch 4/20, train_loss = 2.41e-03, train_acc = 42.96%, time spent during this epoch = 7.19s, total time spent = 57.80s\n",
      "epoch 5/20, train_loss = 2.25e-03, train_acc = 50.85%, time spent during this epoch = 6.99s, total time spent = 64.79s\n",
      "epoch 6/20, train_loss = 2.27e-03, train_acc = 46.39%, time spent during this epoch = 7.18s, total time spent = 71.97s\n",
      "epoch 7/20, train_loss = 2.18e-03, train_acc = 52.84%, time spent during this epoch = 7.10s, total time spent = 79.07s\n",
      "epoch 8/20, train_loss = 2.23e-03, train_acc = 49.85%, time spent during this epoch = 6.90s, total time spent = 85.98s\n",
      "epoch 9/20, train_loss = 2.12e-03, train_acc = 54.13%, time spent during this epoch = 7.16s, total time spent = 93.13s\n",
      "epoch 10/20, train_loss = 2.13e-03, train_acc = 52.80%, time spent during this epoch = 7.15s, total time spent = 100.29s\n",
      "epoch 11/20, train_loss = 2.06e-03, train_acc = 55.46%, time spent during this epoch = 7.15s, total time spent = 107.44s\n",
      "epoch 12/20, train_loss = 2.04e-03, train_acc = 54.17%, time spent during this epoch = 7.11s, total time spent = 114.55s\n",
      "epoch 13/20, train_loss = 2.08e-03, train_acc = 54.39%, time spent during this epoch = 6.63s, total time spent = 121.18s\n",
      "epoch 14/20, train_loss = 2.01e-03, train_acc = 56.53%, time spent during this epoch = 6.48s, total time spent = 127.66s\n",
      "epoch 15/20, train_loss = 2.01e-03, train_acc = 57.74%, time spent during this epoch = 7.01s, total time spent = 134.67s\n",
      "epoch 16/20, train_loss = 1.98e-03, train_acc = 57.96%, time spent during this epoch = 7.00s, total time spent = 141.67s\n",
      "epoch 17/20, train_loss = 2.01e-03, train_acc = 57.26%, time spent during this epoch = 7.10s, total time spent = 148.77s\n",
      "epoch 18/20, train_loss = 2.08e-03, train_acc = 53.21%, time spent during this epoch = 7.13s, total time spent = 155.91s\n",
      "epoch 19/20, train_loss = 1.97e-03, train_acc = 57.04%, time spent during this epoch = 6.58s, total time spent = 162.49s\n",
      "epoch 20/20, train_loss = 1.97e-03, train_acc = 58.11%, time spent during this epoch = 6.35s, total time spent = 168.83s\n"
     ]
    }
   ],
   "source": [
    "main_train(nn.CrossEntropyLoss(), torch.optim.SGD(MODEL.parameters(), lr=LEARNING_RATE))"
   ]
  },
  {
   "cell_type": "code",
   "execution_count": 15,
   "metadata": {},
   "outputs": [
    {
     "name": "stdout",
     "output_type": "stream",
     "text": [
      "51.90%\n"
     ]
    }
   ],
   "source": [
    "print((f\"{100*test_our_model():.2f}%\"))"
   ]
  },
  {
   "cell_type": "markdown",
   "metadata": {},
   "source": [
    "You should get 51.90% accuracy on the testing set without training and with the default hyperparameters if you used the same seed. And we almost reached convergence (the loss is not decreasing that much anymore, and if you try to train for more epochs, you will see that the testing set accuracy will decrease). Note that by saying \"if you try to train for more epochs, you will see that the testing set accuracy will decrease\", we kind of cheated by using the testing set to infer an information about the number of epochs, we should instead use validation sets and cross validation techniques ... and we will (today)! No worries."
   ]
  },
  {
   "cell_type": "markdown",
   "metadata": {},
   "source": [
    "-----"
   ]
  },
  {
   "cell_type": "markdown",
   "metadata": {},
   "source": [
    "Is it possible for `train_loss` to decrease whilst `train_acc` decreases at the same time? Look at what happens between epochs 14 and 15 in this example (it's a real run, different seed though):\n",
    "```py\n",
    "epoch 14/15, train_loss = 1.01e-01, train_acc = 63.61%, time spent ...\n",
    "epoch 15/15, train_loss = 9.91e-02, train_acc = 63.50%, time spent ...\n",
    "```\n",
    "\n",
    "Why is that?"
   ]
  },
  {
   "cell_type": "markdown",
   "metadata": {},
   "source": [
    "-----"
   ]
  },
  {
   "cell_type": "markdown",
   "metadata": {},
   "source": [
    "## Let's try to improve this accuracy!"
   ]
  },
  {
   "cell_type": "markdown",
   "metadata": {},
   "source": [
    "You will need to install the Optuna package (`pip install optuna`) and import it at the beginning of your script. We should also import KFold from sklearn.model_selection. This is because we will use cross-validation to find the best hyperparameters."
   ]
  },
  {
   "cell_type": "code",
   "execution_count": 16,
   "metadata": {},
   "outputs": [
    {
     "name": "stdout",
     "output_type": "stream",
     "text": [
      "Requirement already satisfied: optuna in /usr/users/prof/lhotte_rom/.local/lib/python3.8/site-packages (3.5.0)\n",
      "Requirement already satisfied: alembic>=1.5.0 in /usr/users/prof/lhotte_rom/.local/lib/python3.8/site-packages (from optuna) (1.13.1)\n",
      "Requirement already satisfied: sqlalchemy>=1.3.0 in /usr/users/prof/lhotte_rom/.local/lib/python3.8/site-packages (from optuna) (2.0.25)\n",
      "Requirement already satisfied: numpy in /usr/local/lib/python3.8/dist-packages (from optuna) (1.22.4)\n",
      "Requirement already satisfied: colorlog in /usr/users/prof/lhotte_rom/.local/lib/python3.8/site-packages (from optuna) (6.8.0)\n",
      "Requirement already satisfied: tqdm in /usr/local/lib/python3.8/dist-packages (from optuna) (4.65.0)\n",
      "Requirement already satisfied: PyYAML in /usr/lib/python3/dist-packages (from optuna) (5.3.1)\n",
      "Requirement already satisfied: packaging>=20.0 in /usr/users/prof/lhotte_rom/.local/lib/python3.8/site-packages (from optuna) (23.2)\n",
      "Requirement already satisfied: importlib-metadata; python_version < \"3.9\" in /usr/local/lib/python3.8/dist-packages (from alembic>=1.5.0->optuna) (6.1.0)\n",
      "Requirement already satisfied: importlib-resources; python_version < \"3.9\" in /usr/local/lib/python3.8/dist-packages (from alembic>=1.5.0->optuna) (5.12.0)\n",
      "Requirement already satisfied: typing-extensions>=4 in /usr/users/prof/lhotte_rom/.local/lib/python3.8/site-packages (from alembic>=1.5.0->optuna) (4.9.0)\n",
      "Requirement already satisfied: Mako in /usr/lib/python3/dist-packages (from alembic>=1.5.0->optuna) (1.1.0)\n",
      "Requirement already satisfied: greenlet!=0.4.17; platform_machine == \"aarch64\" or (platform_machine == \"ppc64le\" or (platform_machine == \"x86_64\" or (platform_machine == \"amd64\" or (platform_machine == \"AMD64\" or (platform_machine == \"win32\" or platform_machine == \"WIN32\"))))) in /usr/users/prof/lhotte_rom/.local/lib/python3.8/site-packages (from sqlalchemy>=1.3.0->optuna) (3.0.3)\n",
      "Requirement already satisfied: zipp>=0.5 in /usr/local/lib/python3.8/dist-packages (from importlib-metadata; python_version < \"3.9\"->alembic>=1.5.0->optuna) (3.15.0)\n",
      "Note: you may need to restart the kernel to use updated packages.\n",
      "Requirement already satisfied: scikit-learn in /usr/users/prof/lhotte_rom/.local/lib/python3.8/site-packages (1.3.2)\n",
      "Requirement already satisfied: scipy>=1.5.0 in /usr/local/lib/python3.8/dist-packages (from scikit-learn) (1.5.2)\n",
      "Requirement already satisfied: threadpoolctl>=2.0.0 in /usr/users/prof/lhotte_rom/.local/lib/python3.8/site-packages (from scikit-learn) (3.2.0)\n",
      "Requirement already satisfied: numpy<2.0,>=1.17.3 in /usr/local/lib/python3.8/dist-packages (from scikit-learn) (1.22.4)\n",
      "Requirement already satisfied: joblib>=1.1.1 in /usr/users/prof/lhotte_rom/.local/lib/python3.8/site-packages (from scikit-learn) (1.3.2)\n",
      "Note: you may need to restart the kernel to use updated packages.\n"
     ]
    }
   ],
   "source": [
    "%pip install optuna\n",
    "%pip install scikit-learn"
   ]
  },
  {
   "cell_type": "code",
   "execution_count": 17,
   "metadata": {},
   "outputs": [],
   "source": [
    "import optuna\n",
    "from sklearn.model_selection import KFold"
   ]
  },
  {
   "cell_type": "markdown",
   "metadata": {},
   "source": [
    "First easy task is to decide how many neurons there should be in the hidden layer.\n",
    " \n",
    "We will do this together (optimising the number of hidden nuerons), and then you'll have to implement optimization of the learning rate*, the optimizer's choice on your own. We will also show you how to choose between a convolutional and dense network.\n",
    "\n",
    "\\* *Careful! Small learning rates are not always better, especially if you do not change the number of epochs. You should try to find the best learning rate for the number of epochs you chose, one that is not too big for your computer to handle.*"
   ]
  },
  {
   "cell_type": "markdown",
   "metadata": {},
   "source": [
    "We will need to define a new function that will be used as the objective function for Optuna's optimization. This function should take in the `trial` object from Optuna as an argument and use the `trial` object to define and sample the hyperparameters that you want to optimize. For example, you can use the `trial` object to sample a choice between a convolutional and dense network, and to sample the number of neurons for the chosen network. After training the model, we will need to return the final validation accuracy calculated with cross-validation* as the objective function value for Optuna to maximise.\n",
    "\n",
    "\\* We use cross-validation here (3-fold) because we want to use the testing set as little as possible. We will use the testing set only once, at the end, to get the final accuracy of the best model. But, cross-validation greatly increases the time required to run the algorithms, so we won't always use cross-validation to optimize hyperparameters."
   ]
  },
  {
   "cell_type": "code",
   "execution_count": 18,
   "metadata": {},
   "outputs": [],
   "source": [
    "def objective(trial: optuna.trial.Trial) -> float:\n",
    "    print(\"New trial\")\n",
    "\n",
    "    # Set up cross validation\n",
    "    n_splits: int = 3\n",
    "    fold = KFold(n_splits=n_splits, shuffle=True, random_state=0)\n",
    "    scores = [0]*n_splits\n",
    "\n",
    "    hidden_units: bool = trial.suggest_int('hidden_units', 2, 50)\n",
    "\n",
    "    # Loop through data loader data batches\n",
    "    for fold_idx, (train_idx, valid_idx) in enumerate(fold.split(range(len(TRAIN_DATALOADER.dataset)))):\n",
    "        # train_idx and valid_idx are numpy arrays of indices of the training and validation sets for this \n",
    "        # fold respectively.\n",
    "        # They do not contain the actual data, but the indices of the data in the dataset.\n",
    "        # We can use these indices to create a subset of the dataset for this fold with torch.utils.data.Subset.\n",
    "        # Obviously, if an index is in the validation set, it will not be in the training set. You could\n",
    "        # check this by printing train_idx and valid_idx and check by yourself.\n",
    "        \n",
    "        print(f\"Fold {fold_idx+1}/{n_splits}\")\n",
    "\n",
    "        # Create subsets of the dataset for this fold\n",
    "        sub_train_data = torch.utils.data.Subset(TRAIN_DATALOADER.dataset, train_idx)\n",
    "        sub_valid_data = torch.utils.data.Subset(TRAIN_DATALOADER.dataset, valid_idx)\n",
    "\n",
    "        # Create data loaders for this fold\n",
    "        sub_train_loader = torch.utils.data.DataLoader(sub_train_data, batch_size=BATCH_SIZE, shuffle=True)\n",
    "        sub_valid_loader = torch.utils.data.DataLoader(sub_valid_data, batch_size=BATCH_SIZE, shuffle=False)\n",
    "        \n",
    "        # Generate the model.\n",
    "        my_model: Net = Net(hidden_units=hidden_units).to(DEVICE)\n",
    "        \n",
    "        for epoch in range(NUM_EPOCHS):\n",
    "            # Training of the model.\n",
    "            # Put model in train mode\n",
    "            my_model.train()\n",
    "\n",
    "            # Set up optimizer\n",
    "            optimizer = torch.optim.SGD(my_model.parameters(), lr=LEARNING_RATE)\n",
    "\n",
    "            # Set up loss function\n",
    "            loss_fn = nn.CrossEntropyLoss()\n",
    "            for X, y in sub_train_loader:\n",
    "                # 1. Move data to device\n",
    "                X = X.to(DEVICE)\n",
    "                y = y.to(DEVICE)\n",
    "\n",
    "                # 2. Forward pass\n",
    "                y_pred = my_model(X)\n",
    "\n",
    "                # 3. Calculate and accumulate loss\n",
    "                loss = loss_fn(y_pred, y)\n",
    "\n",
    "                # 4. Optimizer zero grad\n",
    "                optimizer.zero_grad()\n",
    "\n",
    "                # 5. Loss backward\n",
    "                loss.backward()\n",
    "\n",
    "                # 6. Optimizer step\n",
    "                optimizer.step()\n",
    "\n",
    "        # Validation of the model.\n",
    "        # Put model in eval mode\n",
    "        my_model.eval()\n",
    "        \n",
    "        val_acc = 0\n",
    "        with torch.no_grad():\n",
    "            for X, y in sub_valid_loader:\n",
    "                # 1. Move data to device\n",
    "                X = X.to(DEVICE)\n",
    "                y = y.to(DEVICE)\n",
    "\n",
    "                # 2. Forward pass\n",
    "                y_pred = my_model(X)\n",
    "                \n",
    "                # 3. Compute accuracy\n",
    "                y_pred_class = y_pred.argmax(dim=1)\n",
    "\n",
    "                val_acc += (y_pred_class == y).sum()\n",
    "\n",
    "        scores[fold_idx] = (val_acc / len(sub_valid_data)).cpu()\n",
    "        # bring it back otherwise, np.mean will not work\n",
    "        print(f\"Fold {fold_idx+1}/{n_splits} accuracy: {scores[fold_idx]}\")\n",
    "    \n",
    "    return np.mean(scores)"
   ]
  },
  {
   "cell_type": "markdown",
   "metadata": {},
   "source": [
    "Finally, we will need to call the `optuna.create_study()` function to create a new study, and use the `study.optimize()` function to run the optimization, passing the objective function that we defined earlier.\n",
    "\n",
    "You can find more information about how to use Optuna in the [Optuna documentation](https://optuna.readthedocs.io/en/stable/index.html)."
   ]
  },
  {
   "cell_type": "code",
   "execution_count": 19,
   "metadata": {},
   "outputs": [
    {
     "name": "stderr",
     "output_type": "stream",
     "text": [
      "[I 2024-01-23 13:43:23,792] A new study created in memory with name: no-name-5ef662c7-0f03-48ef-ac43-d6325305fc31\n"
     ]
    },
    {
     "name": "stdout",
     "output_type": "stream",
     "text": [
      "New trial\n",
      "Fold 1/3\n",
      "Fold 1/3 accuracy: 0.5353982448577881\n",
      "Fold 2/3\n",
      "Fold 2/3 accuracy: 0.3451327383518219\n",
      "Fold 3/3\n",
      "Fold 3/3 accuracy: 0.517699122428894\n"
     ]
    },
    {
     "name": "stderr",
     "output_type": "stream",
     "text": [
      "[I 2024-01-23 13:47:49,772] Trial 0 finished with value: 0.46607670187950134 and parameters: {'hidden_units': 11}. Best is trial 0 with value: 0.46607670187950134.\n"
     ]
    },
    {
     "name": "stdout",
     "output_type": "stream",
     "text": [
      "New trial\n",
      "Fold 1/3\n",
      "Fold 1/3 accuracy: 0.528761088848114\n",
      "Fold 2/3\n",
      "Fold 2/3 accuracy: 0.4988937973976135\n",
      "Fold 3/3\n",
      "Fold 3/3 accuracy: 0.5143805146217346\n"
     ]
    },
    {
     "name": "stderr",
     "output_type": "stream",
     "text": [
      "[I 2024-01-23 13:52:21,819] Trial 1 finished with value: 0.514011800289154 and parameters: {'hidden_units': 21}. Best is trial 1 with value: 0.514011800289154.\n"
     ]
    },
    {
     "name": "stdout",
     "output_type": "stream",
     "text": [
      "New trial\n",
      "Fold 1/3\n",
      "Fold 1/3 accuracy: 0.3407079577445984\n",
      "Fold 2/3\n",
      "Fold 2/3 accuracy: 0.47234514355659485\n",
      "Fold 3/3\n",
      "Fold 3/3 accuracy: 0.33185839653015137\n"
     ]
    },
    {
     "name": "stderr",
     "output_type": "stream",
     "text": [
      "[I 2024-01-23 13:57:01,048] Trial 2 finished with value: 0.38163718581199646 and parameters: {'hidden_units': 7}. Best is trial 1 with value: 0.514011800289154.\n"
     ]
    },
    {
     "name": "stdout",
     "output_type": "stream",
     "text": [
      "New trial\n",
      "Fold 1/3\n",
      "Fold 1/3 accuracy: 0.5685840845108032\n",
      "Fold 2/3\n",
      "Fold 2/3 accuracy: 0.5475663542747498\n",
      "Fold 3/3\n",
      "Fold 3/3 accuracy: 0.51106196641922\n"
     ]
    },
    {
     "name": "stderr",
     "output_type": "stream",
     "text": [
      "[I 2024-01-23 14:01:28,563] Trial 3 finished with value: 0.5424041152000427 and parameters: {'hidden_units': 38}. Best is trial 3 with value: 0.5424041152000427.\n"
     ]
    },
    {
     "name": "stdout",
     "output_type": "stream",
     "text": [
      "New trial\n",
      "Fold 1/3\n",
      "Fold 1/3 accuracy: 0.51106196641922\n",
      "Fold 2/3\n",
      "Fold 2/3 accuracy: 0.4657079577445984\n",
      "Fold 3/3\n",
      "Fold 3/3 accuracy: 0.4889380633831024\n"
     ]
    },
    {
     "name": "stderr",
     "output_type": "stream",
     "text": [
      "[I 2024-01-23 14:05:54,387] Trial 4 finished with value: 0.48856934905052185 and parameters: {'hidden_units': 16}. Best is trial 3 with value: 0.5424041152000427.\n"
     ]
    },
    {
     "name": "stdout",
     "output_type": "stream",
     "text": [
      "\n",
      "\n",
      "--------------------\n",
      "--------------------\n",
      "--------------------\n",
      "\n",
      "\n",
      "Study statistics: \n",
      "  Number of finished trials:  5\n",
      "  Number of pruned trials:  0\n",
      "  Number of complete trials:  5\n",
      "Best trial:\n",
      "  Value:  0.5424041152000427\n",
      "  Params: \n",
      "\thidden_units: 38\n"
     ]
    }
   ],
   "source": [
    "study = optuna.create_study(direction=\"maximize\")\n",
    "study.optimize(objective, timeout=1200, n_trials=5) \n",
    "# - timeout = 1200 -> stops after 20 minutes;\n",
    "# - n_trials = 2 -> tries 2 different values for the hyperparameter.\n",
    "\n",
    "pruned_trials = [t for t in study.trials if t.state == optuna.trial.TrialState.PRUNED]\n",
    "complete_trials = [t for t in study.trials if t.state == optuna.trial.TrialState.COMPLETE]\n",
    "\n",
    "print(\"\\n\")\n",
    "print(\"--------------------\")\n",
    "print(\"--------------------\")\n",
    "print(\"--------------------\")\n",
    "print(\"\\n\")\n",
    "print(\"Study statistics: \")\n",
    "print(\"  Number of finished trials: \", len(study.trials))\n",
    "print(\"  Number of pruned trials: \", len(pruned_trials))\n",
    "print(\"  Number of complete trials: \", len(complete_trials))\n",
    "\n",
    "print(\"Best trial:\")\n",
    "trial = study.best_trial\n",
    "\n",
    "print(\"  Value: \", trial.value)\n",
    "\n",
    "print(\"  Params: \")\n",
    "for key, value in trial.params.items():\n",
    "    print(f\"\\t{key}: {value}\")"
   ]
  },
  {
   "cell_type": "code",
   "execution_count": 20,
   "metadata": {},
   "outputs": [
    {
     "data": {
      "image/png": "[encoded data removed]",
      "text/plain": [
       "<Figure size 600x400 with 1 Axes>"
      ]
     },
     "metadata": {},
     "output_type": "display_data"
    }
   ],
   "source": [
    "import matplotlib.pyplot as plt\n",
    "\n",
    "hyperparam_values = [t.params['hidden_units'] for t in complete_trials]\n",
    "accuracies = [t.value for t in complete_trials]\n",
    "\n",
    "plt.figure(figsize=(6, 4))\n",
    "plt.scatter(hyperparam_values, accuracies)\n",
    "plt.title('Hyperparameter Optimization Results')\n",
    "plt.xlabel('Value of hidden_units')\n",
    "plt.ylabel('Accuracy')\n",
    "plt.grid(True)\n",
    "plt.show()"
   ]
  },
  {
   "cell_type": "markdown",
   "metadata": {},
   "source": [
    "Few of you might have a problem: we've only allowed 5 trials but `Optuna` tried twice the same trial (unlikely if you set a big range but likely if you only allowed the range [5; 8] for example. An example: https://i.imgur.com/DceMhuf.png). This is because `Optuna` doesn't check if it already has used the previous set of hyperparameters. To fix this, we can add the following code:\n",
    "\n",
    "```py\n",
    "from optuna.trial import TrialState\n",
    "\n",
    "def objective(trial: optuna.trial.Trial) -> float:\n",
    "    for previous_trial in trial.study.trials:\n",
    "        if previous_trial.state == TrialState.COMPLETE and trial.params == previous_trial.params:\n",
    "            print(f\"Duplicated trial: {trial.params}, return {previous_trial.value}\")\n",
    "            return previous_trial.value\n",
    "    ...\n",
    "...\n",
    "```\n",
    "\n",
    "And even setting n_trials to 5000, we won't have optuna running two \"experiments\" with the same hyperparameters."
   ]
  },
  {
   "cell_type": "markdown",
   "metadata": {},
   "source": [
    "Let's add this and let's also optimize on the learning rate, the number of epochs, the use of batch normalisation layers, and the optimizer's choice."
   ]
  },
  {
   "cell_type": "markdown",
   "metadata": {},
   "source": [
    "We also add some manual pruning."
   ]
  },
  {
   "cell_type": "code",
   "execution_count": 21,
   "metadata": {},
   "outputs": [],
   "source": [
    "from optuna.exceptions import TrialPruned\n",
    "from optuna.trial import TrialState\n",
    "\n",
    "def objective(trial: optuna.trial.Trial) -> float:\n",
    "    print(\"New trial\")\n",
    "\n",
    "    for previous_trial in trial.study.trials:\n",
    "        if previous_trial.state == TrialState.COMPLETE and trial.params == previous_trial.params:\n",
    "            print(f\"Duplicated trial: {trial.params}, return {previous_trial.value}\")\n",
    "            return previous_trial.value\n",
    "        \n",
    "    # Set up cross validation\n",
    "    n_splits: int = 3\n",
    "    fold = KFold(n_splits=n_splits, shuffle=True, random_state=0)\n",
    "    scores = [0]*n_splits\n",
    "\n",
    "    # Manual pruning\n",
    "    try:\n",
    "        best_score = trial.study.best_value\n",
    "    except ValueError:\n",
    "        best_score = 0\n",
    "\n",
    "    # Hyperparameters choice\n",
    "    hidden_units: bool = trial.suggest_int('hidden_units', 2, 1000)\n",
    "    learning_rate: float = trial.suggest_float('learning_rate', 1e-5, 1e-1, log=True)\n",
    "    optimiser: str = trial.suggest_categorical('optimiser', ['SGD', 'Adam'])\n",
    "    num_epochs: int = trial.suggest_int('epochs', 5, 20)\n",
    "    batch_norm: bool = trial.suggest_categorical('batch_norm', [True, False])\n",
    "    use_conv: bool = trial.suggest_categorical('use_conv', [True, False])\n",
    "\n",
    "    # Loop through data loader data batches\n",
    "    for fold_idx, (train_idx, valid_idx) in enumerate(fold.split(range(len(TRAIN_DATALOADER.dataset)))):\n",
    "        # train_idx and valid_idx are numpy arrays of indices of the training and validation sets for this \n",
    "        # fold respectively.\n",
    "        # They do not contain the actual data, but the indices of the data in the dataset.\n",
    "        # We can use these indices to create a subset of the dataset for this fold with torch.utils.data.Subset.\n",
    "        # Obviously, if an index is in the validation set, it will not be in the training set. You could\n",
    "        # check this by printing train_idx and valid_idx and check by yourself.\n",
    "        \n",
    "        print(f\"Fold {fold_idx+1}/{n_splits}\")\n",
    "\n",
    "        # Create subsets of the dataset for this fold\n",
    "        sub_train_data = torch.utils.data.Subset(TRAIN_DATALOADER.dataset, train_idx)\n",
    "        sub_valid_data = torch.utils.data.Subset(TRAIN_DATALOADER.dataset, valid_idx)\n",
    "\n",
    "        # Create data loaders for this fold\n",
    "        sub_train_loader = torch.utils.data.DataLoader(sub_train_data, batch_size=BATCH_SIZE, shuffle=True)\n",
    "        sub_valid_loader = torch.utils.data.DataLoader(sub_valid_data, batch_size=BATCH_SIZE, shuffle=False)\n",
    "        \n",
    "        # Generate the model.\n",
    "        my_model: Net = Net(\n",
    "            hidden_units=hidden_units,\n",
    "            batch_norm=batch_norm,\n",
    "            use_conv=use_conv\n",
    "        ).to(DEVICE)\n",
    "        \n",
    "        for epoch in range(num_epochs):\n",
    "            # Training of the model.\n",
    "            # Put model in train mode\n",
    "            my_model.train()\n",
    "\n",
    "            # Set up optimizer\n",
    "            if optimiser == 'SGD':\n",
    "                optimizer = torch.optim.SGD(my_model.parameters(), lr=learning_rate)\n",
    "            elif optimiser == 'Adam':\n",
    "                optimizer = torch.optim.Adam(my_model.parameters(), lr=learning_rate)\n",
    "            else:\n",
    "                raise ValueError(f\"Unknown optimiser {optimiser}\")\n",
    "\n",
    "            # Set up loss function\n",
    "            loss_fn = nn.CrossEntropyLoss()\n",
    "            for X, y in sub_train_loader:\n",
    "                # 1. Move data to device\n",
    "                X = X.to(DEVICE)\n",
    "                y = y.to(DEVICE)\n",
    "\n",
    "                # 2. Forward pass\n",
    "                y_pred = my_model(X)\n",
    "\n",
    "                # 3. Calculate and accumulate loss\n",
    "                loss = loss_fn(y_pred, y)\n",
    "\n",
    "                # 4. Optimizer zero grad\n",
    "                optimizer.zero_grad()\n",
    "\n",
    "                # 5. Loss backward\n",
    "                loss.backward()\n",
    "\n",
    "                # 6. Optimizer step\n",
    "                optimizer.step()\n",
    "\n",
    "        # Validation of the model.\n",
    "        # Put model in eval mode\n",
    "        my_model.eval()\n",
    "        \n",
    "        val_acc = 0\n",
    "        with torch.no_grad():\n",
    "            for X, y in sub_valid_loader:\n",
    "                # 1. Move data to device\n",
    "                X = X.to(DEVICE)\n",
    "                y = y.to(DEVICE)\n",
    "\n",
    "                # 2. Forward pass\n",
    "                y_pred = my_model(X)\n",
    "                \n",
    "                # 3. Compute accuracy\n",
    "                y_pred_class = y_pred.argmax(dim=1)\n",
    "\n",
    "                val_acc += (y_pred_class == y).sum()\n",
    "\n",
    "        scores[fold_idx] = (val_acc / len(sub_valid_data)).cpu()\n",
    "        # bring it back otherwise, np.mean will not work\n",
    "        print(f\"Fold {fold_idx+1}/{n_splits} accuracy: {scores[fold_idx]}\")\n",
    "\n",
    "        if fold_idx != 3 and np.mean(scores) < best_score * 0.8:\n",
    "            print(\"Pruning trial\")\n",
    "            raise TrialPruned()\n",
    "    \n",
    "    return np.mean(scores)"
   ]
  },
  {
   "cell_type": "code",
   "execution_count": 22,
   "metadata": {},
   "outputs": [
    {
     "name": "stderr",
     "output_type": "stream",
     "text": [
      "[I 2024-01-23 14:05:55,237] A new study created in memory with name: no-name-bc976b96-32a2-4658-8ba9-d04a08181e61\n"
     ]
    },
    {
     "name": "stdout",
     "output_type": "stream",
     "text": [
      "New trial\n",
      "Fold 1/3\n",
      "Fold 1/3 accuracy: 0.3407079577445984\n",
      "Fold 2/3\n",
      "Fold 2/3 accuracy: 0.3252212405204773\n",
      "Fold 3/3\n",
      "Fold 3/3 accuracy: 0.36283186078071594\n"
     ]
    },
    {
     "name": "stderr",
     "output_type": "stream",
     "text": [
      "[I 2024-01-23 14:07:23,759] Trial 0 finished with value: 0.34292033314704895 and parameters: {'hidden_units': 587, 'learning_rate': 0.0001284022541714702, 'optimiser': 'SGD', 'epochs': 6, 'batch_norm': False, 'use_conv': True}. Best is trial 0 with value: 0.34292033314704895.\n"
     ]
    },
    {
     "name": "stdout",
     "output_type": "stream",
     "text": [
      "New trial\n",
      "Fold 1/3\n",
      "Fold 1/3 accuracy: 0.32300883531570435\n",
      "Pruning trial\n"
     ]
    },
    {
     "name": "stderr",
     "output_type": "stream",
     "text": [
      "[I 2024-01-23 14:08:07,839] Trial 1 pruned. \n"
     ]
    },
    {
     "name": "stdout",
     "output_type": "stream",
     "text": [
      "New trial\n",
      "Fold 1/3\n",
      "Fold 1/3 accuracy: 0.5365044474601746\n",
      "Pruning trial\n"
     ]
    },
    {
     "name": "stderr",
     "output_type": "stream",
     "text": [
      "[I 2024-01-23 14:09:31,859] Trial 2 pruned. \n"
     ]
    },
    {
     "name": "stdout",
     "output_type": "stream",
     "text": [
      "New trial\n",
      "Fold 1/3\n",
      "Fold 1/3 accuracy: 0.5376105904579163\n",
      "Pruning trial\n"
     ]
    },
    {
     "name": "stderr",
     "output_type": "stream",
     "text": [
      "[I 2024-01-23 14:09:56,788] Trial 3 pruned. \n"
     ]
    },
    {
     "name": "stdout",
     "output_type": "stream",
     "text": [
      "New trial\n",
      "Fold 1/3\n",
      "Fold 1/3 accuracy: 0.4933628439903259\n",
      "Pruning trial\n"
     ]
    },
    {
     "name": "stderr",
     "output_type": "stream",
     "text": [
      "[I 2024-01-23 14:11:42,645] Trial 4 pruned. \n"
     ]
    },
    {
     "name": "stdout",
     "output_type": "stream",
     "text": [
      "New trial\n",
      "Fold 1/3\n",
      "Fold 1/3 accuracy: 0.3362831771373749\n",
      "Pruning trial\n"
     ]
    },
    {
     "name": "stderr",
     "output_type": "stream",
     "text": [
      "[I 2024-01-23 14:13:06,185] Trial 5 pruned. \n"
     ]
    },
    {
     "name": "stdout",
     "output_type": "stream",
     "text": [
      "New trial\n",
      "Fold 1/3\n",
      "Fold 1/3 accuracy: 0.485619455575943\n",
      "Pruning trial\n"
     ]
    },
    {
     "name": "stderr",
     "output_type": "stream",
     "text": [
      "[I 2024-01-23 14:14:33,053] Trial 6 pruned. \n"
     ]
    },
    {
     "name": "stdout",
     "output_type": "stream",
     "text": [
      "New trial\n",
      "Fold 1/3\n",
      "Fold 1/3 accuracy: 0.5564159154891968\n",
      "Pruning trial\n"
     ]
    },
    {
     "name": "stderr",
     "output_type": "stream",
     "text": [
      "[I 2024-01-23 14:15:58,715] Trial 7 pruned. \n"
     ]
    },
    {
     "name": "stdout",
     "output_type": "stream",
     "text": [
      "New trial\n",
      "Fold 1/3\n",
      "Fold 1/3 accuracy: 0.5276548862457275\n",
      "Pruning trial\n"
     ]
    },
    {
     "name": "stderr",
     "output_type": "stream",
     "text": [
      "[I 2024-01-23 14:17:12,349] Trial 8 pruned. \n"
     ]
    },
    {
     "name": "stdout",
     "output_type": "stream",
     "text": [
      "New trial\n",
      "Fold 1/3\n"
     ]
    }
   ],
   "source": [
    "study = optuna.create_study(direction=\"maximize\")\n",
    "study.optimize(objective, timeout=7200, n_trials=15) \n",
    "# - timeout = 7200 -> stops after 60 minutes;\n",
    "# - n_trials = 2 -> tries 2 different values for the hyperparameter.\n",
    "\n",
    "pruned_trials = [t for t in study.trials if t.state == optuna.trial.TrialState.PRUNED]\n",
    "complete_trials = [t for t in study.trials if t.state == optuna.trial.TrialState.COMPLETE]\n",
    "\n",
    "print(\"\\n\")\n",
    "print(\"--------------------\")\n",
    "print(\"--------------------\")\n",
    "print(\"--------------------\")\n",
    "print(\"\\n\")\n",
    "print(\"Study statistics: \")\n",
    "print(\"  Number of finished trials: \", len(study.trials))\n",
    "print(\"  Number of pruned trials: \", len(pruned_trials))\n",
    "print(\"  Number of complete trials: \", len(complete_trials))\n",
    "\n",
    "print(\"Best trial:\")\n",
    "trial = study.best_trial\n",
    "\n",
    "print(\"  Value: \", trial.value)\n",
    "\n",
    "print(\"  Params: \")\n",
    "for key, value in trial.params.items():\n",
    "    print(f\"\\t{key}: {value}\")"
   ]
  },
  {
   "cell_type": "markdown",
   "metadata": {},
   "source": [
    "Let's now train the whole model with the optimal hyperparameters that we found with Optuna. We will use the `study.best_params` attribute to get the best hyperparameters. You need to re-train on the whole training dataset!!! Otherwise, you will not get the best accuracy as you're leaving out some data."
   ]
  },
  {
   "cell_type": "code",
   "execution_count": null,
   "metadata": {},
   "outputs": [],
   "source": [
    "study.best_params"
   ]
  },
  {
   "cell_type": "code",
   "execution_count": null,
   "metadata": {},
   "outputs": [],
   "source": [
    "# Create model\n",
    "MODEL: Net = Net(hidden_units=, ).to(DEVICE)\n",
    "\n",
    "# Set number of epochs\n",
    "NUM_EPOCHS = "
   ]
  },
  {
   "cell_type": "code",
   "execution_count": null,
   "metadata": {},
   "outputs": [],
   "source": [
    "print(MODEL)"
   ]
  },
  {
   "cell_type": "code",
   "execution_count": null,
   "metadata": {},
   "outputs": [],
   "source": [
    "main_train(nn.CrossEntropyLoss(), torch.optim.(MODEL.parameters(), lr=))"
   ]
  },
  {
   "cell_type": "code",
   "execution_count": null,
   "metadata": {},
   "outputs": [],
   "source": [
    "test_our_model()"
   ]
  },
  {
   "cell_type": "markdown",
   "metadata": {},
   "source": [
    "Most likely some sort of overfitting has happened here (look at the training accuracy!), but we did improve our accuracy (62.33% now against 55.67% earlier, and not far off what there was in the validation set (62.92%) on average (which makes sense))! This is not amazing though, that's why we should also optimise the learning rate (or the number of epochs), etc ... not just the architecture.\n",
    "\n",
    "Your turn now!"
   ]
  }
 ],
 "metadata": {
  "kernelspec": {
   "display_name": "Python 3",
   "language": "python",
   "name": "python3"
  },
  "language_info": {
   "codemirror_mode": {
    "name": "ipython",
    "version": 3
   },
   "file_extension": ".py",
   "mimetype": "text/x-python",
   "name": "python",
   "nbconvert_exporter": "python",
   "pygments_lexer": "ipython3",
   "version": "3.8.10"
  },
  "vscode": {
   "interpreter": {
    "hash": "a61f982c8ae83496d3304782998ac96a47f5fcf9bfc174247e19a8162c5490e4"
   }
  }
 },
 "nbformat": 4,
 "nbformat_minor": 1
}
