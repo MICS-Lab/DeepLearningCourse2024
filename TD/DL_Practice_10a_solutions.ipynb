{
 "cells": [
  {
   "cell_type": "markdown",
   "metadata": {},
   "source": [
    "# TD10a - Quantization"
   ]
  },
  {
   "cell_type": "code",
   "execution_count": 4,
   "metadata": {},
   "outputs": [],
   "source": [
    "import torch\n",
    "\n",
    "# define a random model that takes 4000 input features and outputs 4 features with an intermediate layer of 4000 features\n",
    "class M(torch.nn.Module):\n",
    "    def __init__(self):\n",
    "        super().__init__()\n",
    "        self.fc = torch.nn.Linear(4000, 4000)\n",
    "        self.fc2 = torch.nn.Linear(4000, 4)\n",
    "\n",
    "    def forward(self, x):\n",
    "        x = self.fc(x)\n",
    "        x = self.fc2(x)\n",
    "        return x\n",
    "\n",
    "# create a model instance\n",
    "model_fp32 = M()\n",
    "\n",
    "# create a quantized model instance\n",
    "model_int8 = torch.ao.quantization.quantize_dynamic(\n",
    "    model_fp32,  # the original model\n",
    "    {torch.nn.Linear},  # a set of layers to dynamically quantize\n",
    "    dtype=torch.qint8  # the target dtype for quantized weights, here we use 8-bit integer - we are going a bit crazy on the quantization amount\n",
    ")"
   ]
  },
  {
   "cell_type": "code",
   "execution_count": 5,
   "metadata": {},
   "outputs": [
    {
     "name": "stdout",
     "output_type": "stream",
     "text": [
      "8.7 ms ± 113 µs per loop (mean ± std. dev. of 7 runs, 100 loops each)\n",
      "500 µs ± 6.9 µs per loop (mean ± std. dev. of 7 runs, 1,000 loops each)\n"
     ]
    }
   ],
   "source": [
    "# run the model with and without quantization on a batch of four random inputs - let's see the time difference\n",
    "input_ = torch.randn(4, 4000)\n",
    "with torch.no_grad():\n",
    "    %timeit res_32 = model_fp32(input_)\n",
    "    %timeit res_16 = model_int8(input_)"
   ]
  },
  {
   "cell_type": "code",
   "execution_count": 6,
   "metadata": {},
   "outputs": [
    {
     "name": "stdout",
     "output_type": "stream",
     "text": [
      "tensor([[-0.0023,  0.1657, -0.4194, -0.1135],\n",
      "        [ 0.2793, -0.6509, -0.3346,  0.0237],\n",
      "        [-0.2458,  0.3721,  0.3461, -0.6264],\n",
      "        [ 0.3397,  0.0511,  0.3700,  0.0050]]) \n",
      " tensor([[ 0.0053,  0.1750, -0.4322, -0.0996],\n",
      "        [ 0.2767, -0.6634, -0.3338,  0.0279],\n",
      "        [-0.2463,  0.3696,  0.3532, -0.6312],\n",
      "        [ 0.3414,  0.0432,  0.3672,  0.0082]])\n"
     ]
    }
   ],
   "source": [
    "# Make sure the results are roughly the same because if it's faster but outputs stupid stuff, it's not really worth it\n",
    "with torch.no_grad():\n",
    "    res_32 = model_fp32(input_)\n",
    "    res_16 = model_int8(input_)\n",
    "print(res_16, \"\\n\", res_32)"
   ]
  },
  {
   "cell_type": "code",
   "execution_count": 7,
   "metadata": {},
   "outputs": [],
   "source": [
    "# save both models\n",
    "torch.save(model_fp32.state_dict(), \"model_fp32.pth\")\n",
    "torch.save(model_int8.state_dict(), \"model_int8.pth\")"
   ]
  },
  {
   "cell_type": "markdown",
   "metadata": {},
   "source": [
    "And now, compare the sizes of the two models on your hard drive."
   ]
  }
 ],
 "metadata": {
  "kernelspec": {
   "display_name": "Python 3",
   "language": "python",
   "name": "python3"
  },
  "language_info": {
   "codemirror_mode": {
    "name": "ipython",
    "version": 3
   },
   "file_extension": ".py",
   "mimetype": "text/x-python",
   "name": "python",
   "nbconvert_exporter": "python",
   "pygments_lexer": "ipython3",
   "version": "3.11.1"
  }
 },
 "nbformat": 4,
 "nbformat_minor": 2
}
